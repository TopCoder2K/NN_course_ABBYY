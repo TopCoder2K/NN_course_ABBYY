{
 "cells": [
  {
   "cell_type": "markdown",
   "id": "d33a7d46-d93f-40b0-8256-97a1c43344e6",
   "metadata": {},
   "source": [
    "## Домашнее задание по свёрточным сетям"
   ]
  },
  {
   "cell_type": "markdown",
   "id": "a9fbc722-2c7e-41a1-b25f-913c32228a2d",
   "metadata": {},
   "source": [
    "Сутью домашнего задания является последовательная реализация базовых операций, применяемых в свёрточных сетях с использованием операций над тензорами PyTorch, но без применения модулей torch.nn. Студенты должны самостоятельно реализовать как прямой и обратный проходы слоёв, так и классы нейронных сетей.\n",
    "\n",
    "Правильность выполнения задания будет проверяться идентичностью прохождения процесса обучения в тех же архитектурах, выполненных с применением модулей и алгоритмов PyTorch."
   ]
  },
  {
   "cell_type": "markdown",
   "id": "4af498e6-0c14-4731-a899-ad5f6b19766b",
   "metadata": {},
   "source": [
    "### Задание 1"
   ]
  },
  {
   "cell_type": "markdown",
   "id": "1d78d40c-6d89-49d5-be7f-43f9e8607921",
   "metadata": {},
   "source": [
    "В первом задании требуется реализовать классы двухмерной свёртки **Conv**, линейного слоя **Fc**, алгоритм обучения нейронной сети **SGD**, функцию активации **ReLU**, **Softmax** и функцию эмпирического риска **CrossEntropyLoss**.\n",
    "\n",
    "Свёрточные и полносвязные слои должны реализовывать операцию сдвига (*bias*, *b*). \n",
    "Сверить формулы прямого прохода можно в документации по [Conv2d](https://pytorch.org/docs/stable/generated/torch.nn.Conv2d.html) и [Linear](https://pytorch.org/docs/stable/generated/torch.nn.Linear.html).\n",
    "\n",
    "Далее, следует реализовать класс модели, который включает в себя реализованные выше компоненты. Требуется повторить параметры обучения и архитектуру, реализованную ниже с помощью torch.nn модулей. Критерием правильности решения будет совпадение значений эмпирического риска при обучении обеих реализаций сетей на одних и тех же данных, с теми же параметрами и с одинаковыми начальными инициализациями весов.\n",
    "\n",
    "Данные для обучения состоят из 4 примеров вертикальных и горизонтальных линий. \n"
   ]
  },
  {
   "cell_type": "code",
   "execution_count": 1,
   "id": "a9a74f3a-578c-4ca9-aa1c-1834e19b7bdb",
   "metadata": {
    "ExecuteTime": {
     "end_time": "2021-05-14T13:50:38.452046Z",
     "start_time": "2021-05-14T13:50:31.913079Z"
    }
   },
   "outputs": [],
   "source": [
    "import torch\n",
    "from torch import nn\n",
    "import numpy as np\n",
    "import matplotlib.pyplot as plt\n",
    "import torch.optim\n",
    "import torch.nn.functional as F\n",
    "from tqdm import trange\n",
    "import pandas as pd\n",
    "import math\n",
    "import copy\n",
    "\n",
    "_ = torch.manual_seed(1)"
   ]
  },
  {
   "cell_type": "code",
   "execution_count": 2,
   "id": "7a852825-7062-4829-a9e3-3e341cc46076",
   "metadata": {
    "ExecuteTime": {
     "end_time": "2021-05-14T13:50:38.479310Z",
     "start_time": "2021-05-14T13:50:38.468330Z"
    }
   },
   "outputs": [],
   "source": [
    "def one_hot_encoding(y, num_classes):\n",
    "    N = y.shape[0]\n",
    "    Z = torch.zeros((N, num_classes))\n",
    "    Z[torch.arange(N), y] = 1\n",
    "    return Z"
   ]
  },
  {
   "cell_type": "code",
   "execution_count": 3,
   "id": "4b94731e-4897-4ad1-96a5-b128216b6922",
   "metadata": {
    "ExecuteTime": {
     "end_time": "2021-05-14T13:50:39.488472Z",
     "start_time": "2021-05-14T13:50:38.488221Z"
    }
   },
   "outputs": [
    {
     "name": "stdout",
     "output_type": "stream",
     "text": [
      "Train data shape [Batch, Channels, Height, Width] = torch.Size([4, 1, 5, 5])\n",
      "Labels shape = torch.Size([4])\n",
      "Mean and standard deviation before normalization = 49.90, 97.45\n",
      "Mean and standard deviation after normalization = 0.00, 1.00\n",
      "Train batch\n"
     ]
    },
    {
     "data": {
      "image/png": "[encoded data removed]",
      "text/plain": [
       "<Figure size 432x288 with 1 Axes>"
      ]
     },
     "metadata": {
      "needs_background": "light"
     },
     "output_type": "display_data"
    },
    {
     "data": {
      "image/png": "[encoded data removed]",
      "text/plain": [
       "<Figure size 432x288 with 1 Axes>"
      ]
     },
     "metadata": {
      "needs_background": "light"
     },
     "output_type": "display_data"
    },
    {
     "data": {
      "image/png": "[encoded data removed]",
      "text/plain": [
       "<Figure size 432x288 with 1 Axes>"
      ]
     },
     "metadata": {
      "needs_background": "light"
     },
     "output_type": "display_data"
    },
    {
     "data": {
      "image/png": "[encoded data removed]",
      "text/plain": [
       "<Figure size 432x288 with 1 Axes>"
      ]
     },
     "metadata": {
      "needs_background": "light"
     },
     "output_type": "display_data"
    }
   ],
   "source": [
    "# Обучение будет вестись на следующих данных\n",
    "def get_data():\n",
    "    # Задача классификации вертикальных и горизонтальных линий\n",
    "    # Данные\n",
    "    vert1 = [[0, 0, 250, 0, 0],\n",
    "             [0, 0, 250, 0, 0],\n",
    "             [0, 0, 250, 0, 0],\n",
    "             [0, 0, 250, 0, 0],\n",
    "             [0, 0, 250, 0, 0]]\n",
    "\n",
    "    vert2 = [[0, 0, 220, 40, 0],\n",
    "             [0, 0, 250, 10, 0],\n",
    "             [0, 0, 250, 0, 0],\n",
    "             [0, 10, 250, 0, 0],\n",
    "             [0, 40, 220, 0, 0]]\n",
    "\n",
    "    hor1 = [[0, 0, 0, 0, 0],\n",
    "            [0, 0, 0, 0, 0],\n",
    "            [250, 250, 250, 250, 250],\n",
    "            [0, 0, 0, 0, 0],\n",
    "            [0, 0, 0, 0, 0]]\n",
    "\n",
    "    hor2 = [[0, 0, 0, 0, 0],\n",
    "            [0, 0, 0, 0, 20],\n",
    "            [220, 250, 250, 250, 200],\n",
    "            [10, 0, 0, 0, 0],\n",
    "            [0, 0, 0, 0, 0]]\n",
    "\n",
    "    data = [vert1, vert2, hor1, hor2]\n",
    "    labels = [0, 0, 1, 1]\n",
    "    \n",
    "    train_x = torch.tensor(data, dtype=torch.float32).unsqueeze(1)\n",
    "    labels = torch.tensor(labels, dtype=torch.long)\n",
    "\n",
    "    return train_x, labels\n",
    "\n",
    "train_x, labels = get_data()\n",
    "print(f'Train data shape [Batch, Channels, Height, Width] = {train_x.shape}')\n",
    "print(f'Labels shape = {labels.shape}')\n",
    "\n",
    "\n",
    "train_mean = torch.mean(train_x)\n",
    "train_std = torch.std(train_x)\n",
    "batch = (train_x - train_mean) / train_std\n",
    "\n",
    "print(f'Mean and standard deviation before normalization = {train_mean.item():.2f}, {train_std.item():.2f}')\n",
    "print(f'Mean and standard deviation after normalization = {torch.mean(batch).item():.2f}, {torch.std(batch).item():.2f}')\n",
    "\n",
    "print('Train batch')\n",
    "for img in batch:\n",
    "    plt.imshow(img.squeeze(0), cmap='Greys')  # Цвета инвертированы. Чем темнее, тем значение пикселя больше\n",
    "    plt.show() "
   ]
  },
  {
   "cell_type": "markdown",
   "id": "3f9f2d43-d5d9-46cb-92f4-1b55e8870dbe",
   "metadata": {},
   "source": [
    "Реализуем эталонную модель **TorchGradientModel**, состоящую из следующих модулей:\n",
    "- Сверточный слой с 4 фильтрами размера $5\\times5$;\n",
    "- Функция активации [ReLU](https://pytorch.org/docs/stable/generated/torch.nn.ReLU.html)\n",
    "- Линейный слой с 2 выходными нейронами для классов горизонтальной и вертикальной линий\n",
    "\n",
    "Вопрос:\n",
    "Каким ещё образом можно осуществить бинарную классификацию, не используя линейный слой, с 2 выходными нейронами?"
   ]
  },
  {
   "cell_type": "markdown",
   "id": "e3f54ef4-1d73-4e63-ba2b-f904df6534cf",
   "metadata": {},
   "source": [
    "**Ответ.** Можно подобрать размер свёрток так, чтобы на выходе получалось два канала, в каждом из которых будет тензор вероятности принадлежности к классам (в нашем случае детекция не нужна, поэтому достаточно на выходе получить 2 тензора размера 1 на 1, то есть output.shape = 2x1x1).\n",
    "\n",
    "А ещё можно попробовать с одним нейроном: применять какую-нибудь сигмоиду и смотреть, если значение > 0.5, то отправляем в класс 1, иначе --- в класс 0."
   ]
  },
  {
   "cell_type": "code",
   "execution_count": 4,
   "id": "da78879f-cbf9-41d5-98d3-806367c5b86a",
   "metadata": {
    "ExecuteTime": {
     "end_time": "2021-05-14T13:50:39.499515Z",
     "start_time": "2021-05-14T13:50:39.494308Z"
    }
   },
   "outputs": [],
   "source": [
    "class TorchGradientModel(nn.Module):\n",
    "    def __init__(self):\n",
    "        super().__init__()\n",
    "        self.conv1 = nn.Conv2d(1, 4, kernel_size=5, padding=0, bias=True)\n",
    "        self.act1 = nn.ReLU()\n",
    "        self.flatten = nn.Flatten()\n",
    "        self.fc1 = nn.Linear(4 * 1 * 1, 2)\n",
    "        # PyTorch автоматически применяет LogSoftmax при использовании CrossEntropyloss\n",
    "\n",
    "    def forward(self, x):\n",
    "        x = self.conv1(x)\n",
    "        x = self.act1(x)\n",
    "\n",
    "        x = self.flatten(x)\n",
    "        x = self.fc1(x)\n",
    "\n",
    "        return x"
   ]
  },
  {
   "cell_type": "markdown",
   "id": "b7c48edb-7561-46c0-a045-f739adb76b97",
   "metadata": {},
   "source": [
    "Дополнительная информация может быть найдена в комментариях к коду"
   ]
  },
  {
   "cell_type": "code",
   "execution_count": 5,
   "id": "6b6dedb7-e1ce-4283-bd3c-650e3d5aca03",
   "metadata": {
    "ExecuteTime": {
     "end_time": "2021-05-14T13:50:39.951281Z",
     "start_time": "2021-05-14T13:50:39.504088Z"
    }
   },
   "outputs": [],
   "source": [
    "# Данная сеть обучается за 3 эпохи, что удобно для процесса отладки.\n",
    "learning_rate = 1\n",
    "epochs = 10\n",
    "\n",
    "# СТУДЕНТАМ:\n",
    "# Сохраняйте историю эмпирического риска каждую эпоху в отдельном столбце loss_history 'loss_custom'\n",
    "loss_history = pd.DataFrame(index=range(epochs), dtype=float)\n",
    "\n",
    "torch_grad_model = TorchGradientModel()\n",
    "\n",
    "# СТУДЕНТАМ:\n",
    "# Используйте эти веса, чтобы инициализировать веса своей сети для точной воспроизводимости результатов\n",
    "# torch_model_params[0] - тензор с весами фильтров W свёрточного слоя\n",
    "# torch_model_params[1] - тензор с весами сдвигов b свёрточного слоя\n",
    "# torch_model_params[2] - тензор с весами W линейного слоя\n",
    "# torch_model_params[3] - тензор с весами сдвигов b линейного слоя\n",
    "torch_model_params = []\n",
    "temp_m = copy.deepcopy(torch_grad_model)\n",
    "for param in temp_m.named_parameters():\n",
    "    torch_model_params.append(param[1].clone().detach())\n",
    "\n",
    "# СТУДЕНТАМ:\n",
    "# При реализации своих слоёв не забывайте делить получившиеся градиенты по ошибкам на размер пакета \n",
    "# (для I-го слоя - это кол-во изображений),\n",
    "# чтобы эмулировать поведение CrossEntropyLoss с параметром reduction='mean'\n",
    "ce = nn.CrossEntropyLoss(reduction='mean')\n",
    "\n",
    "# Для данного эксперимента используется самый простой алгоритм обучения без моментов.\n",
    "optimizer = torch.optim.SGD(torch_grad_model.parameters(), lr=learning_rate, \n",
    "                            momentum=0, dampening=0, weight_decay=0, \n",
    "                            nesterov=False)"
   ]
  },
  {
   "cell_type": "code",
   "execution_count": 6,
   "id": "0b1425e7-8003-42e7-bac1-7f13d7852a13",
   "metadata": {
    "ExecuteTime": {
     "end_time": "2021-05-14T13:50:40.283187Z",
     "start_time": "2021-05-14T13:50:39.966268Z"
    },
    "scrolled": true
   },
   "outputs": [
    {
     "name": "stderr",
     "output_type": "stream",
     "text": [
      "100%|██████████| 10/10 [00:00<00:00, 63.00it/s, accuracy=1, loss=0.00251]"
     ]
    },
    {
     "name": "stdout",
     "output_type": "stream",
     "text": [
      "Parameters\n",
      "('conv1.weight', Parameter containing:\n",
      "tensor([[[[ 0.1031, -0.0883, -0.0388,  0.0939, -0.1883],\n",
      "          [ 0.1199, -0.0411,  0.1017,  0.0278, -0.0245],\n",
      "          [ 0.0555,  0.0099,  0.0730, -0.0779, -0.0146],\n",
      "          [-0.0180,  0.0290, -0.0008,  0.1748,  0.0622],\n",
      "          [-0.0745, -0.1208, -0.0335, -0.0863, -0.0641]]],\n",
      "\n",
      "\n",
      "        [[[ 0.0096,  0.1192,  0.1087, -0.1955,  0.1240],\n",
      "          [ 0.0559,  0.1897,  0.1320, -0.1822, -0.1902],\n",
      "          [-0.0965,  0.1756, -0.0333,  0.0856, -0.0929],\n",
      "          [ 0.1962, -0.0846,  0.1500,  0.0024, -0.1054],\n",
      "          [ 0.1028, -0.1062,  0.0588, -0.0578, -0.0219]]],\n",
      "\n",
      "\n",
      "        [[[-0.1923, -0.0954,  0.1085, -0.0486,  0.1992],\n",
      "          [ 0.1603, -0.0094, -0.1335,  0.1218,  0.0621],\n",
      "          [-0.1293,  0.1299,  0.1214,  0.1774, -0.1121],\n",
      "          [-0.0329, -0.0039,  0.0292, -0.1518, -0.1419],\n",
      "          [ 0.1088, -0.0469,  0.0977,  0.0114,  0.0657]]],\n",
      "\n",
      "\n",
      "        [[[ 0.0440,  0.0727,  0.0991, -0.1852,  0.1007],\n",
      "          [-0.1406, -0.1509,  0.0122, -0.0341,  0.1175],\n",
      "          [-0.1158, -0.1778,  0.1456, -0.0297,  0.1125],\n",
      "          [ 0.0643, -0.1500,  0.0402,  0.0480, -0.1339],\n",
      "          [-0.0949,  0.0682,  0.0358, -0.0851, -0.0605]]]], requires_grad=True))\n",
      "('conv1.bias', Parameter containing:\n",
      "tensor([ 0.1832, -0.0370,  0.1128,  0.0866], requires_grad=True))\n",
      "('fc1.weight', Parameter containing:\n",
      "tensor([[-0.3232, -0.4252,  0.4799,  0.0261],\n",
      "        [ 0.3427,  0.1036,  0.1608,  0.3735]], requires_grad=True))\n",
      "('fc1.bias', Parameter containing:\n",
      "tensor([ 0.4741, -0.3318], requires_grad=True))\n",
      "==============================================================\n",
      "Parameters\n",
      "('conv1.weight', Parameter containing:\n",
      "tensor([[[[ 0.0790, -0.1124, -0.4897,  0.0344, -0.2124],\n",
      "          [ 0.0958, -0.0652, -0.3758, -0.0051, -0.0255],\n",
      "          [ 0.5708,  0.5599,  0.1697,  0.4721,  0.4777],\n",
      "          [-0.0305, -0.0040, -0.4783,  0.1507,  0.0381],\n",
      "          [-0.0986, -0.1803, -0.4845, -0.1104, -0.0882]]],\n",
      "\n",
      "\n",
      "        [[[ 0.0814,  0.1911, -0.1584, -0.1517,  0.1959],\n",
      "          [ 0.1277,  0.2616, -0.1562, -0.1174, -0.1183],\n",
      "          [-0.0246,  0.2475, -0.3215,  0.1575, -0.0211],\n",
      "          [ 0.2681, -0.0198, -0.1382,  0.0742, -0.0335],\n",
      "          [ 0.1747, -0.0624, -0.2083,  0.0141,  0.0499]]],\n",
      "\n",
      "\n",
      "        [[[-0.1807, -0.0838,  0.3246, -0.0201,  0.2108],\n",
      "          [ 0.1719,  0.0022,  0.0953,  0.1376,  0.0625],\n",
      "          [-0.3763, -0.1337,  0.0751, -0.0862, -0.3480],\n",
      "          [-0.0269,  0.0119,  0.2580, -0.1402, -0.1304],\n",
      "          [ 0.1204, -0.0184,  0.3138,  0.0230,  0.0772]]],\n",
      "\n",
      "\n",
      "        [[[ 0.0314,  0.0601, -0.1361, -0.2162,  0.0881],\n",
      "          [-0.1532, -0.1635, -0.2369, -0.0513,  0.1170],\n",
      "          [ 0.1530,  0.1091,  0.1960,  0.2573,  0.3693],\n",
      "          [ 0.0578, -0.1672, -0.2089,  0.0355, -0.1465],\n",
      "          [-0.1075,  0.0372, -0.1994, -0.0976, -0.0731]]]], requires_grad=True))\n",
      "('conv1.bias', Parameter containing:\n",
      "tensor([ 0.2302, -0.1774,  0.0902,  0.1112], requires_grad=True))\n",
      "('fc1.weight', Parameter containing:\n",
      "tensor([[-0.3022, -0.2247,  0.4435,  0.2730],\n",
      "        [ 0.3217, -0.0969,  0.1973,  0.1266]], requires_grad=True))\n",
      "('fc1.bias', Parameter containing:\n",
      "tensor([ 0.4034, -0.2611], requires_grad=True))\n",
      "==============================================================\n",
      "Parameters\n",
      "('conv1.weight', Parameter containing:\n",
      "tensor([[[[ 6.7224e-02, -1.2410e-01, -5.0147e-01,  2.2663e-02, -2.2412e-01],\n",
      "          [ 8.4114e-02, -7.6974e-02, -3.8749e-01, -1.6871e-02, -3.4586e-02],\n",
      "          [ 6.1396e-01,  6.0695e-01,  2.1672e-01,  5.1914e-01,  5.1817e-01],\n",
      "          [-4.0968e-02, -1.5686e-02, -4.9003e-01,  1.3900e-01,  2.6409e-02],\n",
      "          [-1.1031e-01, -1.9200e-01, -4.9622e-01, -1.2210e-01, -9.9919e-02]]],\n",
      "\n",
      "\n",
      "        [[[ 8.1444e-02,  1.9109e-01, -1.5841e-01, -1.5174e-01,  1.9585e-01],\n",
      "          [ 1.2774e-01,  2.6158e-01, -1.5618e-01, -1.1738e-01, -1.1829e-01],\n",
      "          [-2.4599e-02,  2.4749e-01, -3.2151e-01,  1.5746e-01, -2.1074e-02],\n",
      "          [ 2.6811e-01, -1.9776e-02, -1.3821e-01,  7.4236e-02, -3.3496e-02],\n",
      "          [ 1.7467e-01, -6.2394e-02, -2.0830e-01,  1.4116e-02,  4.9941e-02]]],\n",
      "\n",
      "\n",
      "        [[[-1.9430e-01, -9.7377e-02,  3.7490e-01, -2.8138e-02,  1.9719e-01],\n",
      "          [ 1.5830e-01, -1.1385e-02,  1.4975e-01,  1.2540e-01,  4.8969e-02],\n",
      "          [-3.8983e-01, -1.4726e-01,  1.2952e-01, -9.9788e-02, -3.6157e-01],\n",
      "          [-4.0482e-02, -2.7019e-04,  3.1246e-01, -1.5380e-01, -1.4394e-01],\n",
      "          [ 1.0678e-01, -2.6421e-02,  3.6407e-01,  9.3816e-03,  6.3649e-02]]],\n",
      "\n",
      "\n",
      "        [[[ 3.4158e-02,  6.2900e-02, -1.3335e-01, -2.1350e-01,  9.0850e-02],\n",
      "          [-1.5044e-01, -1.6072e-01, -2.3417e-01, -4.8516e-02,  1.1910e-01],\n",
      "          [ 1.4289e-01,  9.8093e-02,  1.8493e-01,  2.4623e-01,  3.5975e-01],\n",
      "          [ 6.0202e-02, -1.6441e-01, -2.0615e-01,  3.8219e-02, -1.4373e-01],\n",
      "          [-1.0471e-01,  3.9919e-02, -1.9666e-01, -9.4895e-02, -7.0363e-02]]]],\n",
      "       requires_grad=True))\n",
      "('conv1.bias', Parameter containing:\n",
      "tensor([ 0.2531, -0.1774,  0.1167,  0.1058], requires_grad=True))\n",
      "('fc1.weight', Parameter containing:\n",
      "tensor([[-0.5160, -0.2247,  0.7183,  0.1626],\n",
      "        [ 0.5355, -0.0969, -0.0775,  0.2370]], requires_grad=True))\n",
      "('fc1.bias', Parameter containing:\n",
      "tensor([ 0.4744, -0.3320], requires_grad=True))\n",
      "==============================================================\n",
      "Parameters\n",
      "('conv1.weight', Parameter containing:\n",
      "tensor([[[[ 0.0666, -0.1247, -0.5021,  0.0221, -0.2247],\n",
      "          [ 0.0835, -0.0776, -0.3881, -0.0175, -0.0350],\n",
      "          [ 0.6161,  0.6093,  0.2190,  0.5215,  0.5201],\n",
      "          [-0.0415, -0.0163, -0.4906,  0.1384,  0.0258],\n",
      "          [-0.1109, -0.1926, -0.4968, -0.1227, -0.1005]]],\n",
      "\n",
      "\n",
      "        [[[ 0.0814,  0.1911, -0.1584, -0.1517,  0.1959],\n",
      "          [ 0.1277,  0.2616, -0.1562, -0.1174, -0.1183],\n",
      "          [-0.0246,  0.2475, -0.3215,  0.1575, -0.0211],\n",
      "          [ 0.2681, -0.0198, -0.1382,  0.0742, -0.0335],\n",
      "          [ 0.1747, -0.0624, -0.2083,  0.0141,  0.0499]]],\n",
      "\n",
      "\n",
      "        [[[-0.2010, -0.1041,  0.3997, -0.0319,  0.1905],\n",
      "          [ 0.1516, -0.0181,  0.1767,  0.1194,  0.0422],\n",
      "          [-0.3966, -0.1540,  0.1565, -0.1065, -0.3683],\n",
      "          [-0.0472, -0.0063,  0.3394, -0.1605, -0.1507],\n",
      "          [ 0.1001, -0.0302,  0.3888,  0.0027,  0.0569]]],\n",
      "\n",
      "\n",
      "        [[[ 0.0341,  0.0629, -0.1334, -0.2135,  0.0908],\n",
      "          [-0.1505, -0.1608, -0.2342, -0.0486,  0.1191],\n",
      "          [ 0.1430,  0.0983,  0.1851,  0.2464,  0.3599],\n",
      "          [ 0.0602, -0.1645, -0.2062,  0.0382, -0.1438],\n",
      "          [-0.1048,  0.0399, -0.1967, -0.0949, -0.0704]]]], requires_grad=True))\n",
      "('conv1.bias', Parameter containing:\n",
      "tensor([ 0.2543, -0.1774,  0.1298,  0.1059], requires_grad=True))\n",
      "('fc1.weight', Parameter containing:\n",
      "tensor([[-0.5228, -0.2247,  0.7715,  0.1595],\n",
      "        [ 0.5424, -0.0969, -0.1308,  0.2401]], requires_grad=True))\n",
      "('fc1.bias', Parameter containing:\n",
      "tensor([ 0.4898, -0.3475], requires_grad=True))\n",
      "==============================================================\n",
      "Parameters\n",
      "('conv1.weight', Parameter containing:\n",
      "tensor([[[[ 0.0661, -0.1252, -0.5026,  0.0216, -0.2252],\n",
      "          [ 0.0830, -0.0781, -0.3886, -0.0180, -0.0354],\n",
      "          [ 0.6180,  0.6114,  0.2212,  0.5236,  0.5219],\n",
      "          [-0.0419, -0.0168, -0.4911,  0.1379,  0.0253],\n",
      "          [-0.1114, -0.1931, -0.4973, -0.1232, -0.1010]]],\n",
      "\n",
      "\n",
      "        [[[ 0.0814,  0.1911, -0.1584, -0.1517,  0.1959],\n",
      "          [ 0.1277,  0.2616, -0.1562, -0.1174, -0.1183],\n",
      "          [-0.0246,  0.2475, -0.3215,  0.1575, -0.0211],\n",
      "          [ 0.2681, -0.0198, -0.1382,  0.0742, -0.0335],\n",
      "          [ 0.1747, -0.0624, -0.2083,  0.0141,  0.0499]]],\n",
      "\n",
      "\n",
      "        [[[-0.2050, -0.1080,  0.4142, -0.0341,  0.1865],\n",
      "          [ 0.1476, -0.0221,  0.1925,  0.1159,  0.0383],\n",
      "          [-0.4005, -0.1579,  0.1723, -0.1105, -0.3722],\n",
      "          [-0.0512, -0.0098,  0.3553, -0.1645, -0.1546],\n",
      "          [ 0.0961, -0.0324,  0.4033, -0.0013,  0.0530]]],\n",
      "\n",
      "\n",
      "        [[[ 0.0341,  0.0628, -0.1334, -0.2136,  0.0908],\n",
      "          [-0.1505, -0.1608, -0.2342, -0.0486,  0.1190],\n",
      "          [ 0.1432,  0.0984,  0.1853,  0.2466,  0.3600],\n",
      "          [ 0.0601, -0.1645, -0.2062,  0.0381, -0.1438],\n",
      "          [-0.1048,  0.0398, -0.1967, -0.0950, -0.0704]]]], requires_grad=True))\n",
      "('conv1.bias', Parameter containing:\n",
      "tensor([ 0.2553, -0.1774,  0.1375,  0.1059], requires_grad=True))\n",
      "('fc1.weight', Parameter containing:\n",
      "tensor([[-0.5290, -0.2247,  0.8019,  0.1567],\n",
      "        [ 0.5486, -0.0969, -0.1611,  0.2429]], requires_grad=True))\n",
      "('fc1.bias', Parameter containing:\n",
      "tensor([ 0.4974, -0.3550], requires_grad=True))\n",
      "==============================================================\n",
      "Parameters\n",
      "('conv1.weight', Parameter containing:\n",
      "tensor([[[[ 0.0656, -0.1257, -0.5031,  0.0211, -0.2257],\n",
      "          [ 0.0825, -0.0786, -0.3891, -0.0185, -0.0358],\n",
      "          [ 0.6197,  0.6133,  0.2231,  0.5255,  0.5235],\n",
      "          [-0.0424, -0.0173, -0.4916,  0.1374,  0.0248],\n",
      "          [-0.1119, -0.1936, -0.4978, -0.1237, -0.1015]]],\n",
      "\n",
      "\n",
      "        [[[ 0.0814,  0.1911, -0.1584, -0.1517,  0.1959],\n",
      "          [ 0.1277,  0.2616, -0.1562, -0.1174, -0.1183],\n",
      "          [-0.0246,  0.2475, -0.3215,  0.1575, -0.0211],\n",
      "          [ 0.2681, -0.0198, -0.1382,  0.0742, -0.0335],\n",
      "          [ 0.174"
     ]
    },
    {
     "data": {
      "text/html": [
       "<b>limit_output extension: Maximum message size of 10000 exceeded with 17546 characters</b>"
      ]
     },
     "metadata": {},
     "output_type": "display_data"
    }
   ],
   "source": [
    "torch_grad_model.train()\n",
    "t = trange(epochs)\n",
    "loss_hist_pt = []\n",
    "for e in t:\n",
    "    predict_y = torch_grad_model(batch) # для обучения используем весь пакет\n",
    "    \n",
    "    # Можете выводить веса сети для прямого сравнения со своей реализацей\n",
    "    print('Parameters')\n",
    "    for param in torch_grad_model.named_parameters():\n",
    "        print(param)\n",
    "    print('==============================================================')\n",
    "\n",
    "    loss = ce(predict_y, labels)\n",
    "    loss_history.loc[e, 'loss_pt'] = loss.item()\n",
    "    \n",
    "    # Градиенты нужно обнулять в каждой эпохе\n",
    "    optimizer.zero_grad()\n",
    "    loss.backward()\n",
    "    \n",
    "    # Градиенты также можно выводить в текстовом виде для оценки хода обучения\n",
    "#     print('Gradients')\n",
    "#     for param in torch_grad_model.named_parameters():\n",
    "#         print(param[0], param[1].grad)\"\n",
    "    \n",
    "    optimizer.step()\n",
    "    \n",
    "    train_acc = torch.sum(torch.argmax(predict_y, axis=1) == labels).item()\n",
    "\n",
    "    train_acc /= batch.shape[0]\n",
    "    t.set_postfix(loss=loss.item(), accuracy=train_acc)"
   ]
  },
  {
   "cell_type": "markdown",
   "id": "6605478d-3157-4556-a5af-3fae08b02da1",
   "metadata": {},
   "source": [
    "Ниже представлены заготовки (шаблоны) классов, колторые требуется реализовать. **Conv**, **Fc** и **ReLU** должны иметь методы **forward** и **backward** для прямого и обратного прохода по сети. При прямом проходе следует кэшировать данные, которые потребуются для вычисления градиента.\n",
    "\n",
    "**Свёртки**\n",
    "\n",
    "При прямом проходе нужно брать фильтры поочерёдно и проводить свёртку со входным тензором. Каждая операция свёртки даёт 2-мерную матрицу на выходе. Для получения итоговой карты признаков следует сконкатенировать эти матрицы, чтобы получить тензор рамерами [Размер батча, Количество каналов, Высота, Ширина]. Реализовывать можно как с помощью вложенных циклов, так и с применением векторизации. В данном задании важно не время работы, но точность вычислений.\n",
    "\n",
    "В первом модуле заданий уже была показана реализация обратного прохода по линейному слою для подсчёта частных производных по эмпирическому риску, которые использовались для обновления весов слоя. Расчёт частных производных в свёрточных слоях идеологически тот же. Требуется посчитать частные производные по dX предыдущему входу слоя, dW по весам фильтров и db по сдвигам. Пусть dZ – это градиент ошибки к выходу текущего свёрточного слоя (передаётся от предыдущего слоя при обратном проходе сети), тогда\n",
    "\n",
    "$dX += \\sum_{h=0}^{n_H}\\sum_{w=0}^{n_W} W_c\\times dZ_{hw}$,\n",
    "\n",
    "где $W_c$ – это фильтр, а $dZ_{hw}$ – скаляр, соответствующий градиенту эмпирического риска к выходу текущего свёрточного слоя $Z$ в $n$ строке и $w$ столбце. Так как при прямом проходе фильтр $W_c$ влияет на все значения канала с карты признаков, то мы умножаем один и тот же фильтр $W_c$ с разными $dZ$ в пределах канала $с$, суммируя результаты.\n",
    "В numpy эта операция выглядела бы так\n",
    "\n",
    " dX[vert_start:vert_end, horiz_start:horiz_end, :] += W[:,:,:,c] * dZ[i, h, w, c]\n",
    " \n",
    "В PyTorch очерёдность каналов иная: [Batch, Channel, Height, Width].\n",
    "\n",
    "Производная одного фильтра относительно эмпирического риска  считается по формуле\n",
    "\n",
    "$dW_c+=\\sum_{h=0}^{n_H}\\sum_{w=0}^{n_W}x_{slice} \\times dZ_{hw}$,\n",
    "\n",
    "где $x_{slice}$ относится к отрезку из входного тензора, который был использован в прямом проходе, чтобы получить активацию $Z_{ij}$. Таким образом мы получим градиент фильтра $W$ относительно данного отрезка. Так как в рамках свёрточного слоя для разных отрезков мы использовали тот же фильтр $W$, то мы складываем эти градиенты, чтобы получить $dW$.\n",
    "\n",
    "В numpy подобная операция реализуется так:\n",
    "\n",
    "dW[:,:,:,c] += x_slice * dZ[i, h, w, c]\n",
    "\n",
    "Производная по сдвигам считается как сумма всех градиентов выхода свёрточного слоя:\n",
    "\n",
    "$db=\\sum_{h=0}^{n_H}\\sum_{w=0}^{n_W}dZ_{hw}$\n",
    "\n",
    "В numpy реализовывалась бы так:\n",
    "\n",
    "db[:,:,:,c] += dZ[i, h, w, c]\n",
    "\n",
    "\n",
    "Для реализации выполнения обратного прохода градиента идентичным nn.CrossEntropyLoss(reduction='mean') образом, значения $dW$ и $db$ следует делить на размер пакета (batch).\n"
   ]
  },
  {
   "cell_type": "markdown",
   "id": "cf73eb63",
   "metadata": {},
   "source": [
    "**Замечание.** Хочется понять откуда взялись эти формулы... Вот [тут](https://towardsdatascience.com/backpropagation-in-a-convolutional-layer-24c8d64d8509) и [тут](https://medium.com/@pavisj/convolutions-and-backpropagations-46026a8f5d2c) выводят с примерами, но без учёта `stride` и `padding`.\n",
    "\n",
    "Я сам пытался вывести часа 3 формулы в общем случае, но c градиентом по входу потрепел фиаско. Как же хорошо, что мне скинули в итоге вот эту [статью](https://medium.com/@mayank.utexas/backpropagation-for-convolution-with-strides-8137e4fc2710)."
   ]
  },
  {
   "cell_type": "code",
   "execution_count": 7,
   "id": "327ef530-74d6-4ab3-b935-d5766410aee4",
   "metadata": {
    "ExecuteTime": {
     "end_time": "2021-05-14T13:50:40.354329Z",
     "start_time": "2021-05-14T13:50:40.289182Z"
    }
   },
   "outputs": [
    {
     "data": {
      "text/plain": [
       "<Task2Modules.CNN.Conv at 0x7f42afb8e150>"
      ]
     },
     "execution_count": 7,
     "metadata": {},
     "output_type": "execute_result"
    }
   ],
   "source": [
    "from Task2Modules.CNN import Conv\n",
    "\n",
    "Conv(1, 1, 1, init=torch_model_params)  # Проверка"
   ]
  },
  {
   "cell_type": "markdown",
   "id": "caade385",
   "metadata": {},
   "source": [
    "**Замечание.** Дальше идут слои из первого задания, поэтому их просто скопируем оттуда ;)"
   ]
  },
  {
   "cell_type": "code",
   "execution_count": 8,
   "id": "15f6aff7",
   "metadata": {
    "ExecuteTime": {
     "end_time": "2021-05-14T13:50:40.595273Z",
     "start_time": "2021-05-14T13:50:40.358976Z"
    }
   },
   "outputs": [
    {
     "data": {
      "text/plain": [
       "<Task2Modules.OtherLayers.Fc at 0x7f42afb666d0>"
      ]
     },
     "execution_count": 8,
     "metadata": {},
     "output_type": "execute_result"
    }
   ],
   "source": [
    "from Task2Modules.OtherLayers import Fc, Softmax, LogSoftmax, Flatten\n",
    "from Task2Modules.Optim import SGD\n",
    "from Task2Modules.Activations import ReLU\n",
    "from Task2Modules.Losses import CrossEntropyLoss\n",
    "\n",
    "Fc(5, 5, torch_model_params[2:4])  # Проверка"
   ]
  },
  {
   "cell_type": "markdown",
   "id": "8a8b894b-cf32-40cf-84e0-d172f23436fe",
   "metadata": {},
   "source": [
    "Реализовать модель, идентичную **TorchGradientModel**. \n",
    "\n",
    "Если есть желание переиспользовать код из первого модуля заданий по линейным слоям, то можно реализовать модель, пользуясь предыдущими абстрактными классами и импортировать их здесь, переписав код для проверки результата."
   ]
  },
  {
   "cell_type": "code",
   "execution_count": 9,
   "id": "9d7233e2-c485-45f0-b33f-3e3de37741c8",
   "metadata": {
    "ExecuteTime": {
     "end_time": "2021-05-14T13:50:40.643363Z",
     "start_time": "2021-05-14T13:50:40.634956Z"
    }
   },
   "outputs": [],
   "source": [
    "from Task2Modules.CustomModels import CustomModel"
   ]
  },
  {
   "cell_type": "code",
   "execution_count": 10,
   "id": "afc89670-2027-4321-abbb-a3f5365054ef",
   "metadata": {
    "ExecuteTime": {
     "end_time": "2021-05-14T13:50:40.763218Z",
     "start_time": "2021-05-14T13:50:40.649883Z"
    }
   },
   "outputs": [],
   "source": [
    "def train_custom_model(X, y, epochs, num_classes):\n",
    "    y = one_hot_encoding(labels, num_classes) # преобразуем число в эталоне в унитарный код.\n",
    "    \n",
    "    model = CustomModel(input_size=X.shape[-1], num_classes=num_classes, \n",
    "                        init=torch_model_params)\n",
    "    cost = CrossEntropyLoss()\n",
    "    \n",
    "    params = model.get_params()\n",
    "\n",
    "    optimizer = SGD(lr=learning_rate, params=params)      \n",
    "\n",
    "    t = trange(epochs)\n",
    "    \n",
    "    for e in t:\n",
    "        train_loss = 0\n",
    "        train_acc = 0\n",
    "        \n",
    "        print('Parameters')\n",
    "        for name, val in params.items():\n",
    "            print(name, val)\n",
    "        print('=============================================================')\n",
    "  \n",
    "        y_pred = model.forward(X)\n",
    "        loss, deltaL = cost.get(y_pred, y)\n",
    "        grads = model.backward(deltaL)\n",
    "        # TODO: зачем такой функционал... параметры ведь по ссылке передаются\n",
    "        params = optimizer.update_params(grads)\n",
    "        model.set_params(params)\n",
    "\n",
    "        train_loss += loss.item()\n",
    "        train_acc = (\n",
    "            torch.sum(torch.argmax(y_pred, axis=1) == labels).item() \\\n",
    "            / X.shape[0]\n",
    "        )\n",
    "        \n",
    "        loss_history.loc[e, 'loss_custom'] = train_loss\n",
    "        t.set_postfix(loss=train_loss, acc=train_acc)"
   ]
  },
  {
   "cell_type": "code",
   "execution_count": 11,
   "id": "ba60e2ae-3472-4d16-ad2f-076dd35f839e",
   "metadata": {
    "ExecuteTime": {
     "end_time": "2021-05-14T13:50:41.201991Z",
     "start_time": "2021-05-14T13:50:40.769400Z"
    }
   },
   "outputs": [
    {
     "name": "stderr",
     "output_type": "stream",
     "text": [
      " 30%|███       | 3/10 [00:00<00:00, 28.54it/s, acc=0.5, loss=0.728]"
     ]
    },
    {
     "name": "stdout",
     "output_type": "stream",
     "text": [
      "Parameters\n",
      "W1 tensor([[[[ 0.1031, -0.0883, -0.0388,  0.0939, -0.1883],\n",
      "          [ 0.1199, -0.0411,  0.1017,  0.0278, -0.0245],\n",
      "          [ 0.0555,  0.0099,  0.0730, -0.0779, -0.0146],\n",
      "          [-0.0180,  0.0290, -0.0008,  0.1748,  0.0622],\n",
      "          [-0.0745, -0.1208, -0.0335, -0.0863, -0.0641]]],\n",
      "\n",
      "\n",
      "        [[[ 0.0096,  0.1192,  0.1087, -0.1955,  0.1240],\n",
      "          [ 0.0559,  0.1897,  0.1320, -0.1822, -0.1902],\n",
      "          [-0.0965,  0.1756, -0.0333,  0.0856, -0.0929],\n",
      "          [ 0.1962, -0.0846,  0.1500,  0.0024, -0.1054],\n",
      "          [ 0.1028, -0.1062,  0.0588, -0.0578, -0.0219]]],\n",
      "\n",
      "\n",
      "        [[[-0.1923, -0.0954,  0.1085, -0.0486,  0.1992],\n",
      "          [ 0.1603, -0.0094, -0.1335,  0.1218,  0.0621],\n",
      "          [-0.1293,  0.1299,  0.1214,  0.1774, -0.1121],\n",
      "          [-0.0329, -0.0039,  0.0292, -0.1518, -0.1419],\n",
      "          [ 0.1088, -0.0469,  0.0977,  0.0114,  0.0657]]],\n",
      "\n",
      "\n",
      "        [[[ 0.0440,  0.0727,  0.0991, -0.1852,  0.1007],\n",
      "          [-0.1406, -0.1509,  0.0122, -0.0341,  0.1175],\n",
      "          [-0.1158, -0.1778,  0.1456, -0.0297,  0.1125],\n",
      "          [ 0.0643, -0.1500,  0.0402,  0.0480, -0.1339],\n",
      "          [-0.0949,  0.0682,  0.0358, -0.0851, -0.0605]]]])\n",
      "b1 tensor([ 0.1832, -0.0370,  0.1128,  0.0866])\n",
      "W2 tensor([[-0.3232,  0.3427],\n",
      "        [-0.4252,  0.1036],\n",
      "        [ 0.4799,  0.1608],\n",
      "        [ 0.0261,  0.3735]])\n",
      "b2 tensor([ 0.4741, -0.3318])\n",
      "=============================================================\n",
      "Parameters\n",
      "W1 tensor([[[[ 0.0481, -0.1206, -0.0717,  0.0603, -0.2224],\n",
      "          [ 0.3535,  0.1573,  0.2419,  0.1097, -0.0009],\n",
      "          [ 0.5544,  0.4159,  0.3631,  0.0962,  0.0436],\n",
      "          [-0.5834, -0.4326, -0.3470, -0.0559, -0.0532],\n",
      "          [-0.3630, -0.3516, -0.2066, -0.2017, -0.1218]]],\n",
      "\n",
      "\n",
      "        [[[ 0.0096,  0.1192,  0.1087, -0.1955,  0.1240],\n",
      "          [ 0.0559,  0.1897,  0.1320, -0.1822, -0.1902],\n",
      "          [-0.0965,  0.1756, -0.0333,  0.0856, -0.0929],\n",
      "          [ 0.1962, -0.0846,  0.1500,  0.0024, -0.1054],\n",
      "          [ 0.1028, -0.1062,  0.0588, -0.0578, -0.0219]]],\n",
      "\n",
      "\n",
      "        [[[-0.1660, -0.0798,  0.1243, -0.0325,  0.2156],\n",
      "          [ 0.0484, -0.1044, -0.2007,  0.0826,  0.0508],\n",
      "          [-0.3684, -0.0647, -0.0176,  0.0939, -0.1400],\n",
      "          [ 0.2380,  0.2173,  0.1951, -0.0412, -0.0866],\n",
      "          [ 0.2470,  0.0637,  0.1806,  0.0667,  0.0933]]],\n",
      "\n",
      "\n",
      "        [[[ 0.0153,  0.0558,  0.0820, -0.2027,  0.0829],\n",
      "          [-0.0188, -0.0474,  0.0853,  0.0086,  0.1298],\n",
      "          [ 0.1444,  0.0340,  0.2969,  0.0612,  0.1428],\n",
      "          [-0.2306, -0.3907, -0.1404, -0.0723, -0.1941],\n",
      "          [-0.2454, -0.0522, -0.0545, -0.1453, -0.0906]]]])\n",
      "b1 tensor([ 1.3598, -3.5457, -0.4511,  0.7003])\n",
      "W2 tensor([[-0.3022,  0.3217],\n",
      "        [-0.2247, -0.0969],\n",
      "        [ 0.4435,  0.1973],\n",
      "        [ 0.2730,  0.1266]])\n",
      "b2 tensor([ 0.4034, -0.2611])\n",
      "=============================================================\n",
      "Parameters\n",
      "W1 tensor([[[[ 0.0406, -0.1251, -0.0762,  0.0557, -0.2271],\n",
      "          [ 0.3855,  0.1845,  0.2611,  0.1209,  0.0023],\n",
      "          [ 0.6228,  0.4716,  0.4029,  0.1201,  0.0516],\n",
      "          [-0.6610, -0.4959, -0.3945, -0.0876, -0.0690],\n",
      "          [-0.4025, -0.3832, -0.2304, -0.2175, -0.1297]]],\n",
      "\n",
      "\n",
      "        [[[ 0.0096,  0.1192,  0.1087, -0.1955,  0.1240],\n",
      "          [ 0.0559,  0.1897,  0.1320, -0.1822, -0.1902],\n",
      "          [-0.0965,  0.1756, -0.0333,  0.0856, -0.0929],\n",
      "          [ 0.1962, -0.0846,  0.1500,  0.0024, -0.1054],\n",
      "          [ 0.1028, -0.1062,  0.0588, -0.0578, -0.0219]]],\n",
      "\n",
      "\n",
      "        [[[-0.1660, -0.0798,  0.1243, -0.0325,  0.2156],\n",
      "          [ 0.0484, -0.1044, -0.2007,  0.0826,  0.0508],\n",
      "          [-0.3684, -0.0647, -0.0176,  0.0939, -0.1400],\n",
      "          [ 0.2380,  0.2173,  0.1951, -0.0412, -0.0866],\n",
      "          [ 0.2470,  0.0637,  0.1806,  0.0667,  0.0933]]],\n",
      "\n",
      "\n",
      "        [[[ 0.0171,  0.0569,  0.0830, -0.2016,  0.0840],\n",
      "          [-0.0263, -0.0538,  0.0808,  0.0060,  0.1290],\n",
      "          [ 0.1284,  0.0209,  0.2875,  0.0556,  0.1410],\n",
      "          [-0.2124, -0.3759, -0.1293, -0.0649, -0.1904],\n",
      "          [-0.2361, -0.0448, -0.0489, -0.1416, -0.0888]]]])\n",
      "b1 tensor([-0.8355, -7.0543, -1.0149,  2.1049])\n",
      "W2 tensor([[-0.1242,  0.1438],\n",
      "        [-0.2247, -0.0969],\n",
      "        [ 0.4435,  0.1973],\n",
      "        [ 0.5902, -0.1906]])\n",
      "b2 tensor([ 0.6196, -0.4773])\n",
      "=============================================================\n",
      "Parameters\n",
      "W1 tensor([[[[ 0.0091, -0.1436, -0.0951,  0.0365, -0.2466],\n",
      "          [ 0.5193,  0.2981,  0.3414,  0.1678,  0.0158],\n",
      "          [ 0.9086,  0.7042,  0.5691,  0.2198,  0.0849],\n",
      "          [-0.9848, -0.7602, -0.5927, -0.2198, -0.1351],\n",
      "          [-0.5678, -0.5154, -0.3295, -0.2836, -0.1627]]],\n",
      "\n",
      "\n",
      "        [[[ 0.0096,  0.1192,  0.1087, -0.1955,  0.1240],\n",
      "          [ 0.0559,  0.1897,  0.1320, -0.1822, -0.1902],\n",
      "          [-0.0965,  0.1756, -0.0333,  0.0856, -0.0929],\n",
      "          [ 0.1962, -0.0846,  0.1500,  0.0024, -0.1054],\n",
      "          [ 0.1028, -0.1062,  0.0588, -0.0578, -0.0219]]],\n",
      "\n",
      "\n",
      "        [[[-0.1660, -0.0798,  0.1243, -0.0325,  0.2156],\n",
      "          [ 0.0484, -0.1044, -0.2007,  0.0826,  0.0508],\n",
      "          [-0.3684, -0.0647, -0.0176,  0.0939, -0.1400],\n",
      "          [ 0.2380,  0.2173,  0.1951, -0.0412, -0.0866],\n",
      "          [ 0.2470,  0.0637,  0.1806,  0.0667,  0.0933]]],\n",
      "\n",
      "\n",
      "        [[[ 0.1087,  0.1109,  0.1380, -0.1457,  0.1409],\n",
      "          [-0.4160, -0.3848, -0.1531, -0.1306,  0.0897],\n",
      "          [-0.7041, -0.6566, -0.1965, -0.2350,  0.0439],\n",
      "          [ 0.7309,  0.3942,  0.4483,  0.3201,  0.0021],\n",
      "          [ 0.2452,  0.3403,  0.2399,  0.0510,  0.0075]]]])\n",
      "b1 tensor([  0.1962, -10.5630,  -1.5788,  -5.6098])\n",
      "W2 tensor([[-1.9076,  1.9271],\n",
      "        [-0.2247, -0.0969],\n",
      "        [ 0.4435,  0.1973],\n",
      "        [-1.3143,  1.7139]])\n",
      "b2 tensor([ 0.1524, -0.0101])\n",
      "=============================================================\n",
      "Parameters\n",
      "W1 tensor([[[[ 0.0091, -0.1436, -0.0951,  0.0365, -0.2466],\n",
      "          [ 0.5193,  0.2981,  0.3414,  0.1678,  0.0158],\n",
      "          [ 0.9086,  0.7042,  0.5691,  0.2198,  0.0849],\n",
      "          [-0.9848, -0.7602, -0.5927, -0.2198, -0.1351],\n",
      "          [-0.5678, -0.5154, -0.3295, -0.2836, -0.1627]]],\n",
      "\n",
      "\n",
      "        [[[ 0.0096,  0.1192,  0.1087, -0.1955,  0.1240],\n",
      "          [ 0.0559,  0.1897,  0.1320, -0.1822, -0.1902],\n",
      "          [-0.0965,  0.1756, -0.0333,  0.0856, -0.0929],\n",
      "          [ 0.1962, -0.0846,  0.1500,  0.0024, -0.1054],\n",
      "          [ 0.1028, -0.1062,  0.0588, -0.0578, -0.0219]]],\n",
      "\n",
      "\n",
      "        [[[-0.1660, -0.0798,  0.1243, -0.0325,  0.2156],\n",
      "          [ 0.0484, -0.1044, -0.2007,  0.0826,  0.0508],\n",
      "          [-0.3684, -0.0647, -0.0176,  0.0939, -0.1400],\n",
      "          [ 0.2380,  0.2173,  0.1951, -0.0412, -0.0866],\n",
      "          [ 0.2470,  0.0637,  0.1806,  0.0667,  0.0933]]],\n",
      "\n",
      "\n",
      "        [[[ 0.1087,  0.1109,  0.1380, -0.1457,  0.1409],\n",
      "          [-0.4160, -0.3848, -0.1531, -0.1306,  0.0897],\n",
      "          [-0.7041, -0.6566, -0.1965, -0.2350,  0.0439],\n",
      "          [ 0.7309,  0.3942,  0.4483,  0.3201,  0.0021],\n",
      "          [ 0.2452,  0.3403,  0.2399,  0.0510,  0.0075]]]])\n",
      "b1 tensor([-38.3718, -14.0717,  -2.1426, -13.3246])\n",
      "W2 tensor([[-1.7190,  1.7385],\n",
      "        [-0.2247, -0.0969],\n",
      "        [ 0.4435,  0.1973],\n",
      "        [-1.3143,  1.7139]])\n",
      "b2 tensor([ 0.5655, -0.4232])\n",
      "=============================================================\n",
      "Parameters\n",
      "W1 tensor([[[[ 0.0091, -0.1436, -0.0951,  0.0365, -0.2466],\n",
      "          [ 0.5193,  0.2981,  0.3414,  0.1678,  0.0158],\n",
      "          [ 0.9086,  0.7042,  0.5691,  0.2198,  0.0849],\n",
      "          [-0.9848, -0.7602, -0.5927, -0.2198, -0.1351],\n",
      "          [-0.5678, -0.5154, -0.3295, -0.2836, -0.1627]]],\n",
      "\n",
      "\n",
      "        [[[ 0.0096,  0.1192,  0.1087, -0.1955,  0.1240],\n",
      "          [ 0.0559,  0.1897,  0.1320, -0.1822, -0.1902],\n",
      "          [-0.0965,  0.1756, -0.0333,  0.0856, -0.0929],\n",
      "          [ 0.1962, -0.0846,  0.1500,  0.0024, -0.1054],\n",
      "          [ 0.1028, -0.1062,  0.0588, -0.0578, -0.0219]]],\n",
      "\n",
      "\n",
      "        [[[-0.1660, -0.0798,  0.1243, -0.0325,  0.2156],\n",
      "          [ 0.0484, -0.1044, -0.2007,  0.0826,  0.0508],\n",
      "          [-0.3684, -0.0647, -0.0176,  0.0939, -0.1400],\n",
      "          [ 0.2380,  0.2173,  0.1951, -0.0412, -0.0866],\n",
      "          [ 0.2470,  0.0637,  0.1806,  0.0667,  0.0933]]],\n",
      "\n",
      "\n",
      "        [[[ 0.1087,  0.1109,  0.1380, -0.1457,  0.1409],\n",
      "          [-0.4160, -0.3848, -0.1531, -0.1306,  0.0897],\n",
      "          [-0.7041, -0.6566, -0.1965, -0.2350,  0.0439],\n",
      "          [ 0.7309,  0.3942,  0.4483,  0.3201,  0.0021],\n",
      "          [ 0.2452,  0.3403,  0.2399,  0.0510,  0.0075]]]])\n",
      "b1 tensor([-76.9398, -17.5804,  -2.7065, -21.0394])\n",
      "W2 tensor([[-1.7190,  1.7385],\n",
      "        [-0.2247, -0.0969],\n",
      "        [ 0.4435,  0.1973],\n",
      "        [-1.3143,  1.7139]])\n",
      "b2 tensor([ 0.3367, -0.1944])\n",
      "=============================================================\n"
     ]
    },
    {
     "name": "stderr",
     "output_type": "stream",
     "text": [
      "100%|██████████| 10/10 [00:00<00:00, 30.62it/s, acc=0.5, loss=0.693]"
     ]
    },
    {
     "name": "stdout",
     "output_type": "stream",
     "text": [
      "Parameters\n",
      "W1 tensor([[[[ 0.0091, -0.1436, -0.0951,  0.0365, -0.2466],\n",
      "          [ 0.5193,  0.2981,  0.3414,  0.1678,  0.0158],\n",
      "          [ 0.9086,  0.7042,  0.5691,  0.2198,  0.0849],\n",
      "          [-0.9848, -0.7602, -0.5927, -0.2198, -0.1351],\n",
      "          [-0.5678, -0.5154, -0.3295, -0.2836, -0.1627]]],\n",
      "\n",
      "\n",
      "        [[[ 0.0096,  0.1192,  0.1087, -0.1955,  0.1240],\n",
      "          [ 0.0559,  0.1897,  0.1320, -0.1822, -0.1902],\n",
      "          [-0.0965,  0.1756, -0.0333,  0.0856, -0.0929],\n",
      "          [ 0.1962, -0.0846,  0.1500,  0.0024, -0.1054],\n",
      "          "
     ]
    },
    {
     "data": {
      "text/html": [
       "<b>limit_output extension: Maximum message size of 10000 exceeded with 15185 characters</b>"
      ]
     },
     "metadata": {},
     "output_type": "display_data"
    }
   ],
   "source": [
    "train_custom_model(batch, labels, epochs, num_classes=2)"
   ]
  },
  {
   "cell_type": "code",
   "execution_count": 12,
   "id": "591454a2-a616-49c7-9dd1-18d323492924",
   "metadata": {
    "ExecuteTime": {
     "end_time": "2021-05-14T13:50:41.738313Z",
     "start_time": "2021-05-14T13:50:41.203716Z"
    }
   },
   "outputs": [
    {
     "data": {
      "image/png": "[encoded data removed]",
      "text/plain": [
       "<Figure size 432x288 with 1 Axes>"
      ]
     },
     "metadata": {
      "needs_background": "light"
     },
     "output_type": "display_data"
    }
   ],
   "source": [
    "f = plt.figure()\n",
    "plt.title('Task 1 train loss', color='black')\n",
    "loss_history.plot(ax=f.gca())\n",
    "plt.legend(loc='center left', bbox_to_anchor=(1.0, 0.5))\n",
    "plt.show()"
   ]
  },
  {
   "cell_type": "code",
   "execution_count": 13,
   "id": "e570f1c4-26d0-4d56-9b8c-79d70773f7cd",
   "metadata": {
    "ExecuteTime": {
     "end_time": "2021-05-14T13:50:41.746564Z",
     "start_time": "2021-05-14T13:50:41.740122Z"
    }
   },
   "outputs": [
    {
     "name": "stdout",
     "output_type": "stream",
     "text": [
      "Задание 1 не выполнено. Эмпирический риск не совпадает в реализациях PyTorch и собственной\n",
      "Суммарная ошибка = 7.0846\n"
     ]
    }
   ],
   "source": [
    "# Эмпирический риск на всех эпохах должен совпадать с реализацией PyTorch\n",
    "error = np.absolute((loss_history.iloc[:,0].values-loss_history.iloc[:,1].values)).sum()\n",
    "if error < 1e-3:\n",
    "    print('Задание 1 выполнено успешно')\n",
    "else:\n",
    "    print('Задание 1 не выполнено. Эмпирический риск не совпадает в реализациях PyTorch и собственной')\n",
    "print(f'Суммарная ошибка = {error:.4f}')\n",
    "loss_history_task1 = loss_history"
   ]
  },
  {
   "cell_type": "markdown",
   "id": "79e52a3a-fde2-401b-9517-b41492d445b9",
   "metadata": {},
   "source": [
    "### Задание 2"
   ]
  },
  {
   "cell_type": "markdown",
   "id": "7f7295ab-2cf9-4eac-b525-62f3777bd4fa",
   "metadata": {},
   "source": [
    "Требуется реализовать классы пакетной нормализации **BatchNorm2d** и слоя выборки усреднением **AvgPool**. Реализовать класс модели, идентичной эталонной TorchGradientModel2\n",
    "\n",
    "Эталонная модель **TorchGradientModel2** состоит из:\n",
    "- Сверточный слой с 4 фильтрами размера $3\\times3$;\n",
    "- Пакетная нормализация;\n",
    "- Функция активации [ReLU](https://pytorch.org/docs/stable/generated/torch.nn.ReLU.html)\n",
    "- Выборки усреднением с ашгом 2 и размером окна 2\n",
    "- Линейный слой с переменных количеством выходных нейронов"
   ]
  },
  {
   "cell_type": "code",
   "execution_count": 14,
   "id": "cb82edce-6429-4fd5-957a-d373e8ed46a3",
   "metadata": {
    "ExecuteTime": {
     "end_time": "2021-05-14T13:50:41.957081Z",
     "start_time": "2021-05-14T13:50:41.748985Z"
    }
   },
   "outputs": [],
   "source": [
    "class TorchGradientModel2(nn.Module):\n",
    "    def __init__(self, num_classes=2, input_size=5):\n",
    "        super().__init__()\n",
    "        self.conv1 = nn.Conv2d(1, 4, kernel_size=3, padding=0, bias=True)\n",
    "        self.bn1 = nn.BatchNorm2d(4)\n",
    "        self.act1 = nn.ReLU()\n",
    "        self.pool1 = nn.AvgPool2d(kernel_size=2, stride=2)\n",
    "        self.flatten = nn.Flatten()\n",
    "        self.fc1 = nn.Linear(4 * int((input_size - 2) / 2) * int((input_size - 2) / 2), num_classes)\n",
    "        # PyTorch автоматически применяет LogSoftmax при использовании CrossEntropyloss\n",
    "\n",
    "    def forward(self, x):\n",
    "        x = self.conv1(x)\n",
    "        x = self.bn1(x)\n",
    "        x = self.act1(x)\n",
    "        x = self.pool1(x)\n",
    "\n",
    "        x = self.flatten(x)\n",
    "        x = self.fc1(x)\n",
    "\n",
    "        return x"
   ]
  },
  {
   "cell_type": "code",
   "execution_count": 15,
   "id": "a922301e",
   "metadata": {
    "ExecuteTime": {
     "end_time": "2021-05-14T13:50:42.173489Z",
     "start_time": "2021-05-14T13:50:41.962359Z"
    }
   },
   "outputs": [
    {
     "name": "stdout",
     "output_type": "stream",
     "text": [
      "==========================================================================================\n",
      "Layer (type:depth-idx)                   Output Shape              Param #\n",
      "==========================================================================================\n",
      "├─Conv2d: 1-1                            [-1, 4, 3, 3]             40\n",
      "├─BatchNorm2d: 1-2                       [-1, 4, 3, 3]             8\n",
      "├─ReLU: 1-3                              [-1, 4, 3, 3]             --\n",
      "├─AvgPool2d: 1-4                         [-1, 4, 1, 1]             --\n",
      "├─Flatten: 1-5                           [-1, 4]                   --\n",
      "├─Linear: 1-6                            [-1, 2]                   10\n",
      "==========================================================================================\n",
      "Total params: 58\n",
      "Trainable params: 58\n",
      "Non-trainable params: 0\n",
      "Total mult-adds (M): 0.00\n",
      "==========================================================================================\n",
      "Input size (MB): 0.00\n",
      "Forward/backward pass size (MB): 0.00\n",
      "Params size (MB): 0.00\n",
      "Estimated Total Size (MB): 0.00\n",
      "==========================================================================================\n"
     ]
    }
   ],
   "source": [
    "from torchsummary import summary\n",
    "\n",
    "summary(TorchGradientModel2(), (1, 5, 5));"
   ]
  },
  {
   "cell_type": "code",
   "execution_count": 16,
   "id": "a0b11589-27fa-4201-ab3f-079ba27c8af7",
   "metadata": {
    "ExecuteTime": {
     "end_time": "2021-05-14T13:50:42.286349Z",
     "start_time": "2021-05-14T13:50:42.179379Z"
    }
   },
   "outputs": [
    {
     "name": "stderr",
     "output_type": "stream",
     "text": [
      "100%|██████████| 10/10 [00:00<00:00, 110.28it/s, accuracy=1, loss=0.0248]"
     ]
    },
    {
     "name": "stdout",
     "output_type": "stream",
     "text": [
      "('conv1.weight', Parameter containing:\n",
      "tensor([[[[-0.1802,  0.1193, -0.1283],\n",
      "          [-0.1566,  0.0189,  0.2413],\n",
      "          [-0.2345,  0.1565,  0.2141]]],\n",
      "\n",
      "\n",
      "        [[[ 0.3261, -0.2333,  0.0807],\n",
      "          [-0.2465,  0.2846, -0.1293],\n",
      "          [ 0.2008,  0.0099, -0.0260]]],\n",
      "\n",
      "\n",
      "        [[[-0.0106,  0.0567,  0.1571],\n",
      "          [ 0.0535,  0.1017, -0.2998],\n",
      "          [ 0.2428,  0.2906,  0.2755]]],\n",
      "\n",
      "\n",
      "        [[[ 0.2464, -0.2405, -0.1236],\n",
      "          [ 0.2939, -0.2539,  0.3024],\n",
      "          [-0.2622, -0.2348,  0.1630]]]], requires_grad=True))\n",
      "('conv1.bias', Parameter containing:\n",
      "tensor([-0.2395, -0.0764,  0.2425,  0.2640], requires_grad=True))\n",
      "('bn1.weight', Parameter containing:\n",
      "tensor([1., 1., 1., 1.], requires_grad=True))\n",
      "('bn1.bias', Parameter containing:\n",
      "tensor([0., 0., 0., 0.], requires_grad=True))\n",
      "('fc1.weight', Parameter containing:\n",
      "tensor([[ 0.4729, -0.1015, -0.3886,  0.4923],\n",
      "        [-0.1065, -0.2057,  0.1219, -0.3497]], requires_grad=True))\n",
      "('fc1.bias', Parameter containing:\n",
      "tensor([0.3286, 0.3134], requires_grad=True))\n",
      "('conv1.weight', Parameter containing:\n",
      "tensor([[[[-0.0665,  0.3350,  0.0896],\n",
      "          [-0.3069, -0.0362,  0.1838],\n",
      "          [-0.3887,  0.1005,  0.1522]]],\n",
      "\n",
      "\n",
      "        [[[ 0.3815, -0.1816,  0.1062],\n",
      "          [-0.2137,  0.3139, -0.1289],\n",
      "          [ 0.1512, -0.0462, -0.1123]]],\n",
      "\n",
      "\n",
      "        [[[-0.0269, -0.1267,  0.1634],\n",
      "          [ 0.1046, -0.0166, -0.2207],\n",
      "          [ 0.3390,  0.2245,  0.4140]]],\n",
      "\n",
      "\n",
      "        [[[ 0.3011, -0.2338,  0.0908],\n",
      "          [ 0.0867, -0.5190,  0.2508],\n",
      "          [-0.2213, -0.2370,  0.3719]]]], requires_grad=True))\n",
      "('conv1.bias', Parameter containing:\n",
      "tensor([-0.2395, -0.0764,  0.2425,  0.2640], requires_grad=True))\n",
      "('bn1.weight', Parameter containing:\n",
      "tensor([1.0277, 0.9901, 1.1033, 0.9530], requires_grad=True))\n",
      "('bn1.bias', Parameter containing:\n",
      "tensor([-0.0713, -0.0123,  0.0314, -0.0518], requires_grad=True))\n",
      "('fc1.weight', Parameter containing:\n",
      "tensor([[ 0.5207, -0.1965, -0.5910,  0.4365],\n",
      "        [-0.1543, -0.1107,  0.3243, -0.2938]], requires_grad=True))\n",
      "('fc1.bias', Parameter containing:\n",
      "tensor([0.2057, 0.4364], requires_grad=True))\n",
      "('conv1.weight', Parameter containing:\n",
      "tensor([[[[-0.1121,  0.3093,  0.0650],\n",
      "          [-0.3028, -0.0096,  0.2076],\n",
      "          [-0.3883,  0.1245,  0.1744]]],\n",
      "\n",
      "\n",
      "        [[[ 0.3894, -0.1938,  0.1111],\n",
      "          [-0.2064,  0.2996, -0.1231],\n",
      "          [ 0.1581, -0.0604, -0.1062]]],\n",
      "\n",
      "\n",
      "        [[[ 0.0139, -0.0466, -0.0109],\n",
      "          [ 0.1617,  0.0805, -0.3883],\n",
      "          [ 0.4213,  0.3451,  0.2772]]],\n",
      "\n",
      "\n",
      "        [[[ 0.2437, -0.2316,  0.1135],\n",
      "          [ 0.0471, -0.4972,  0.2928],\n",
      "          [-0.2646, -0.2216,  0.4095]]]], requires_grad=True))\n",
      "('conv1.bias', Parameter containing:\n",
      "tensor([-0.2395, -0.0764,  0.2425,  0.2640], requires_grad=True))\n",
      "('bn1.weight', Parameter containing:\n",
      "tensor([1.1285, 0.9897, 1.1891, 1.0406], requires_grad=True))\n",
      "('bn1.bias', Parameter containing:\n",
      "tensor([ 0.0373, -0.0158,  0.0098,  0.0070], requires_grad=True))\n",
      "('fc1.weight', Parameter containing:\n",
      "tensor([[ 0.6627, -0.1924, -0.6937,  0.5467],\n",
      "        [-0.2963, -0.1148,  0.4269, -0.4041]], requires_grad=True))\n",
      "('fc1.bias', Parameter containing:\n",
      "tensor([0.2529, 0.3891], requires_grad=True))\n",
      "('conv1.weight', Parameter containing:\n",
      "tensor([[[[-0.1358,  0.2931,  0.0492],\n",
      "          [-0.2973,  0.0049,  0.2200],\n",
      "          [-0.3856,  0.1374,  0.1861]]],\n",
      "\n",
      "\n",
      "        [[[ 0.3894, -0.1938,  0.1111],\n",
      "          [-0.2064,  0.2996, -0.1231],\n",
      "          [ 0.1581, -0.0604, -0.1062]]],\n",
      "\n",
      "\n",
      "        [[[ 0.0039, -0.1617,  0.0427],\n",
      "          [ 0.1601, -0.0282, -0.3204],\n",
      "          [ 0.4636,  0.2855,  0.3980]]],\n",
      "\n",
      "\n",
      "        [[[ 0.2167, -0.2181,  0.1317],\n",
      "          [ 0.0323, -0.4708,  0.3237],\n",
      "          [-0.3050, -0.2261,  0.4113]]]], requires_grad=True))\n",
      "('conv1.bias', Parameter containing:\n",
      "tensor([-0.2395, -0.0764,  0.2425,  0.2640], requires_grad=True))\n",
      "('bn1.weight', Parameter containing:\n",
      "tensor([1.2051, 0.9897, 1.2831, 1.1060], requires_grad=True))\n",
      "('bn1.bias', Parameter containing:\n",
      "tensor([ 0.1162, -0.0158,  0.0232,  0.0332], requires_grad=True))\n",
      "('fc1.weight', Parameter containing:\n",
      "tensor([[ 0.7559, -0.1924, -0.7935,  0.6185],\n",
      "        [-0.3895, -0.1148,  0.5268, -0.4758]], requires_grad=True))\n",
      "('fc1.bias', Parameter containing:\n",
      "tensor([0.2289, 0.4131], requires_grad=True))\n",
      "('conv1.weight', Parameter containing:\n",
      "tensor([[[[-0.1363,  0.2942,  0.0501],\n",
      "          [-0.2828,  0.0216,  0.2353],\n",
      "          [-0.3990,  0.1234,  0.1711]]],\n",
      "\n",
      "\n",
      "        [[[ 0.3894, -0.1938,  0.1111],\n",
      "          [-0.2064,  0.2996, -0.1231],\n",
      "          [ 0.1581, -0.0604, -0.1062]]],\n",
      "\n",
      "\n",
      "        [[[-0.0342, -0.1560,  0.0486],\n",
      "          [ 0.1265, -0.0156, -0.3103],\n",
      "          [ 0.4431,  0.3125,  0.4272]]],\n",
      "\n",
      "\n",
      "        [[[ 0.1967, -0.2154,  0.1350],\n",
      "          [ 0.0190, -0.4608,  0.3341],\n",
      "          [-0.3177, -0.2168,  0.4222]]]], requires_grad=True))\n",
      "('conv1.bias', Parameter containing:\n",
      "tensor([-0.2395, -0.0764,  0.2425,  0.2640], requires_grad=True))\n",
      "('bn1.weight', Parameter containing:\n",
      "tensor([1.2534, 0.9897, 1.3717, 1.1462], requires_grad=True))\n",
      "('bn1.bias', Parameter containing:\n",
      "tensor([ 0.1535, -0.0158,  0.0704,  0.0560], requires_grad=True))\n",
      "('fc1.weight', Parameter containing:\n",
      "tensor([[ 0.8105, -0.1924, -0.8805,  0.6597],\n",
      "        [-0.4441, -0.1148,  0.6137, -0.5171]], requires_grad=True))\n",
      "('fc1.bias', Parameter containing:\n",
      "tensor([0.1992, 0.4428], requires_grad=True))\n",
      "('conv1.weight', Parameter containing:\n",
      "tensor([[[[-0.1377,  0.2944,  0.0504],\n",
      "          [-0.2933,  0.0104,  0.2231],\n",
      "          [-0.3884,  0.1376,  0.1846]]],\n",
      "\n",
      "\n",
      "        [[[ 0.3894, -0.1938,  0.1111],\n",
      "          [-0.2064,  0.2996, -0.1231],\n",
      "          [ 0.1581, -0.0604, -0.1062]]],\n",
      "\n",
      "\n",
      "        [[[-0.0554, -0.1515,  0.0527],\n",
      "          [ 0.1080, -0.0070, -0.3039],\n",
      "          [ 0.4284,  0.3260,  0.4425]]],\n",
      "\n",
      "\n",
      "        [[[ 0.1819, -0.2129,  0.1369],\n",
      "          [ 0.0093, -0.4530,  0.3413],\n",
      "          [-0.3269, -0.2096,  0.4298]]]], requires_grad=True))\n",
      "('conv1.bias', Parameter containing:\n",
      "tensor([-0.2395, -0.0764,  0.2425,  0.2640], requires_grad=True))\n",
      "('bn1.weight', Parameter containing:\n",
      "tensor([1.2912, 0.9897, 1.4389, 1.1780], requires_grad=True))\n",
      "('bn1.bias', Parameter containing:\n",
      "tensor([ 0.1837, -0.0158,  0.1049,  0.0737], requires_grad=True))\n",
      "('fc1.weight', Parameter containing:\n",
      "tensor([[ 0.8519, -0.1924, -0.9438,  0.6915],\n",
      "        [-0.4856, -0.1148,  0.6770, -0.5489]], requires_grad=True))\n",
      "('fc1.bias', Parameter containing:\n",
      "tensor([0.1831, 0.4589], requires_grad=True))\n",
      "('conv1.weight', Parameter containing:\n",
      "tensor([[[[-0.1387,  0.2942,  0.0504],\n",
      "          [-0.2848,  0.0203,  0.2322],\n",
      "          [-0.3956,  0.1301,  0.1766]]],\n",
      "\n",
      "\n",
      "        [[[ 0.3894, -0.1938,  0.1111],\n",
      "          [-0.2064,  0.2996, -0.1231],\n",
      "          [ 0.1581, -0.0604, -0.1062]]],\n",
      "\n",
      "\n",
      "        [[[-0.0684, -0.1481,  0.0555],\n",
      "          [ 0.0966, -0.0009, -0.2997],\n",
      "          [ 0.4179,  0.3338,  0.4519]]],\n",
      "\n",
      "\n",
      "        [[[ 0.1748, -0.2066,  0.1418],\n",
      "          [ 0.0061, -0.4426,  0.3503],\n",
      "          [-0.3403, -0.2118,  0.4270]]]], requires_grad=True))\n",
      "('conv1.bias', Parameter containing:\n",
      "tensor([-0.2395, -0.0764,  0.2425,  0.2640], requires_grad=True))\n",
      "('bn1.weight', Parameter containing:\n",
      "tensor([1.3214, 0.9897, 1.4913, 1.2036], requires_grad=True))\n",
      "('bn1.bias', Parameter containing:\n",
      "tensor([ 0.2078, -0.0158,  0.1313,  0.0823], requires_grad=True))\n",
      "('fc1.weight', Parameter containing:\n",
      "tensor([[ 0.8844, -0.1924, -0.9921,  0.7164],\n",
      "        [-0.5180, -0.1148,  0.7253, -0.5737]], requires_grad=True))\n",
      "('fc1.bias', Parameter containing:\n",
      "tensor([0.1727, 0.4693], requires_grad=True))\n",
      "('conv1.weight', Parameter containing:\n",
      "tensor([[[[-1.2496e-01,  3.0648e-01,  6.2475e-02],\n",
      "          [-3.1614e-01, -1.4385e-02,  1.9666e-01],\n",
      "          [-3.7329e-01,  1.5195e-01,  1.9760e-01]]],\n",
      "\n",
      "\n",
      "        [[[ 3.8940e-01, -1.9379e-01,  1.1107e-01],\n",
      "          [-2.0643e-01,  2.9964e-01, -1.2314e-01],\n",
      "          [ 1.5808e-01, -6.0383e-02, -1.0625e-01]]],\n",
      "\n",
      "\n",
      "        [[[-7.7369e-02, -1.4559e-01,  5.7551e-02],\n",
      "          [ 8.8851e-02,  3.5131e-03, -2.9677e-01],\n",
      "          [ 4.1001e-01,  3.3885e-01,  4.5826e-01]]],\n",
      "\n",
      "\n",
      "        [[[ 1.6585e-01, -2.0505e-01,  1.4229e-01],\n",
      "          [ 2.8797e-04, -4.3781e-01,  3.5411e-01],\n",
      "          [-3.4535e-01, -2.0693e-01,  4.3154e-01]]]], requires_grad=True))\n",
      "('conv1.bias', Parameter containing:\n",
      "tensor([-0.2395, -0.0764,  0.2425,  0.2640], requires_grad=True))\n",
      "('bn1.weight', Parameter containing:\n",
      "tensor([1.3479, 0.9897, 1.5343, 1.2244], requires_grad=True))\n",
      "('bn1.bias', Parameter containing:\n",
      "tensor([ 0.2147, -0.0158,  0.1529,  0.0935], requires_grad=True))\n",
      "('fc1.weight', Parameter containing:\n",
      "tensor([[ 0.9105, -0.1924, -1.0310,  0.7365],\n",
      "        [-0.5441, -0.1148,  0.7643, -0.5939]], requires_grad=True))\n",
      "('fc1.bias', Parameter containing:\n",
      "tensor([0.1651, 0.4769], requires_grad=True))\n",
      "('conv1.weight', Parameter containing:\n",
      "tensor([[[[-0.1151,  0.3166,  0.0727],\n",
      "          [-0.2958,  0.0063,  0.2166],\n",
      "          [-0.4023,  0.1222,  0.1672]]],\n",
      "\n",
      "\n",
      "        [[[ 0.3894, -0.1938,  0.1111],\n",
      "          [-0.2064,  0.2996, -0.1231],\n",
      "          [ 0.1581, -0.0604, -0.1062]]],\n",
      "\n",
      "\n",
      "        [[[-0.0801, -0.1396,  0.0517],\n",
      "          [ 0.0870,  0.0110, -0.3021],\n",
      "          [ 0.4070,  0.3455,  0.4551]]],\n",
      "\n",
      "\n",
      "        [[[ 0.1612, -0.2006,  0.1453],\n",
      "          [-0.0017, -0.4306,  0.3599],\n",
      "          [-0.3542, -0.2083,  0.429"
     ]
    },
    {
     "data": {
      "text/html": [
       "<b>limit_output extension: Maximum message size of 10000 exceeded with 11785 characters</b>"
      ]
     },
     "metadata": {},
     "output_type": "display_data"
    }
   ],
   "source": [
    "learning_rate = 1\n",
    "epochs = 10\n",
    "\n",
    "# СТУДЕНТАМ:\n",
    "# Сохраняйте историю эмпирического риска каждую эпоху в отдельном столбце \n",
    "# loss_history 'loss_custom'\n",
    "loss_history = pd.DataFrame(index=range(epochs), dtype=float)\n",
    "\n",
    "torch_grad_model = TorchGradientModel2()\n",
    "\n",
    "# СТУДЕНТАМ:\n",
    "# Используйте эти веса, чтобы инициализировать веса своей сети для точной \n",
    "# воспроизводимости результатов\n",
    "torch_model_params = []\n",
    "temp_m = copy.deepcopy(torch_grad_model)\n",
    "for param in temp_m.named_parameters():\n",
    "    if param[0] in ('conv1.weight', 'conv1.bias', 'fc1.weight', 'fc1.bias'):\n",
    "#         print(param)\n",
    "        torch_model_params.append(param[1].detach().clone())\n",
    "\n",
    "# СТУДЕНТАМ:\n",
    "# При реализации своих слоёв не забывайте делить получившиеся градиенты \n",
    "# по ошибкам на размер пакета (кол-во изображений для I-го слоя),\n",
    "# чтобы эмулировать поведение CrossEntropyLoss с параметром reduction='mean'\n",
    "ce = nn.CrossEntropyLoss(reduction='mean')\n",
    "\n",
    "# Для эксперимента используется самый простой оптимизатор. \n",
    "# При желании можете поэкспериментировать с другими, которые реализовали \n",
    "# для 1-го задания\n",
    "optimizer = torch.optim.SGD(torch_grad_model.parameters(), \n",
    "                            lr=learning_rate, momentum=0, dampening=0, \n",
    "                            weight_decay=0, nesterov=False)\n",
    "\n",
    "torch_grad_model.train()\n",
    "t = trange(epochs)\n",
    "loss_hist_pt = []\n",
    "for e in t:\n",
    "    predict_y = torch_grad_model(batch) # для обучения используем весь пакет\n",
    "    \n",
    "#     Можете выводить веса сети для прямого сравнения со своей реализацей, \n",
    "    for param in torch_grad_model.named_parameters():\n",
    "        print(param)\n",
    "\n",
    "    loss = ce(predict_y, labels)\n",
    "    loss_history.loc[e, 'loss_pt'] = loss.item()\n",
    "    \n",
    "    # Градиенты нужно обнулять в каждой эпохе\n",
    "    optimizer.zero_grad()\n",
    "    loss.backward()\n",
    "    \n",
    "    # Градиенты так же можно выводить в текстовом виде для оценки хода обучения\n",
    "#     print('Gradients')\n",
    "#     for param in torch_grad_model.named_parameters():\n",
    "#         print(param[0], param[1].grad)\n",
    "    \n",
    "    optimizer.step()\n",
    "    \n",
    "    train_acc = torch.sum(torch.argmax(predict_y, axis=1) == labels).item()\n",
    "\n",
    "    train_acc /= batch.shape[0]\n",
    "    t.set_postfix(loss=loss.item(), accuracy=train_acc)"
   ]
  },
  {
   "cell_type": "markdown",
   "id": "44aa3629",
   "metadata": {},
   "source": [
    "Найдём формулы для `backward()` при подаче на вход строчного вектора $\\vec{x}\\in \\mathbb{R}^{N\\times C\\times H\\times W}$. В [оригинальной статье](https://arxiv.org/pdf/1502.03167.pdf) на странице 4 есть все формулы для реализации backward pass. Но там случай, когда $\\vec{x}\\in \\mathbb{R}^{1\\times m}$. Сначала распишем, что мы вообще считаем в фазе тренировки:\n",
    "\n",
    "### Forward\n",
    "#### BatchNorm\n",
    "$$\n",
    "\\widehat{x}_{ncij} = \\frac{x_{ncij} - \\mu_c}{\\sqrt{\\sigma^2_c + \\varepsilon}},\\\\\n",
    "\\mu_c = \\frac{1}{N\\cdot H\\cdot W}\\sum\\limits_{n, i, j=1}^{N, H, W} x_{ncij},\\ \\sigma^2_c = \\frac{1}{N\\cdot H\\cdot W}\\sum\\limits_{n, i, j=1}^{N, H, W} \\big(x_{ncij} - \\mu_c\\big)^2.\\\\\n",
    "$$\n",
    "#### Scaling\n",
    "$$\n",
    "\\vec{x} \\in \\mathbb{R}^{N\\times C\\times H\\times W},\\ \\gamma \\in \\mathbb{R}^{1\\times C\\times 1\\times 1},\n",
    "\\beta \\in \\mathbb{R}^{1\\times C\\times 1\\times 1}, \\\\\n",
    "\\text{Scaling}(x) = \\gamma x + \\beta \\equiv y,\\ \\text{Scaling}(x) \\in \\mathbb{R}^{N\\times C\\times H\\times W}\n",
    "$$\n",
    "где $\\gamma$ и $\\beta$ &mdash; обучаемые параметры слоя.\n",
    "\n",
    "### Backward\n",
    "Теперь уже займёмся градиентами:\n",
    "#### BatchNorm\n",
    "$$\n",
    "\\frac{\\partial \\widehat{x}_{ncij}}{\\partial x_{nkmn}} = \\delta_{ck}\\delta_{im}\\delta_{jn} \\frac{1}{\\sqrt{\\sigma^2_c + \\varepsilon}},\n",
    "\\\\\n",
    "\\frac{\\partial \\mu_c}{\\partial x_{nkij}} = \\delta_{ck} \\frac{1}{N\\cdot H\\cdot W},\n",
    "\\\\\n",
    "\\frac{\\partial \\sigma^2_c}{\\partial x_{nkij}} = \\delta_{ck}\\frac{2(x_{ncij} - \\mu_c)}{N\\cdot H\\cdot W},\n",
    "\\\\\n",
    "\\frac{\\partial L}{\\partial \\sigma^2_c} = \\sum_{n,i,j=1}^{N, H, W}\\frac{\\partial L}{\\partial {\\widehat{x}}_{ncij}}\\cdot\\bigg(-0.5(x_{ncij} - \\mu_c)(\\sigma^2_c+ \\varepsilon)^{-3/2}\\bigg),\n",
    "\\\\\n",
    "\\frac{\\partial L}{\\partial \\mu_c} = \\sum\\limits_{n, i, j=1}^{N, H, W} \\frac{\\partial L}{\\partial \\widehat{x}_{ncij}} \\frac{-1}{\\sqrt{\\sigma^2_c + \\varepsilon}} + \\frac{\\partial L}{\\partial \\sigma^2_c}\\frac{\\sum_{n, i, j=1}^{N, H, W} -2(x_{ncij} - \\mu_c)}{N\\cdot H\\cdot W} = \\sum\\limits_{n, i, j=1}^{N, H, W} \\frac{\\partial L}{\\partial \\widehat{x}_{ncij}} \\frac{-1}{\\sqrt{\\sigma^2_c + \\varepsilon}}, \n",
    "\\\\\n",
    "\\frac{\\partial L}{\\partial x_{ncij}} = \\frac{\\partial L}{\\partial \\widehat{x}_{ncij}} \\cdot \\frac{1}{\\sqrt{\\sigma^2_c + \\varepsilon}} + \\frac{\\partial L}{\\partial \\mu_c} \\cdot \\frac{1}{N\\cdot H\\cdot W} + \\frac{\\partial L}{\\partial \\sigma^2_c} \\cdot \\frac{2(x_{ncij} - \\mu_c)}{N\\cdot H\\cdot W}.\n",
    "% \\\\= \\frac{1}{N \\sqrt{\\sigma^2 + \\varepsilon}} \\bigg(N \\frac{\\partial L}{\\partial \\widehat{x}_j} - \\sum\\limits_{i=1}^N \\frac{\\partial L}{\\partial \\widehat{x}_j} - \\widehat{x}_i \\sum\\limits_{i=1}^N \\frac{\\partial L}{\\partial \\widehat{x}_j}\\cdot \\widehat{x}_j\\bigg).\n",
    "$$\n",
    "#### Scaling\n",
    "$$\n",
    "\\frac{\\partial L}{\\partial \\widehat{x}_{ncij}} = \\frac{\\partial L}{\\partial y_{ncij}} \\gamma_c, \\\\\n",
    "\\frac{\\partial L}{\\partial \\gamma_c} = \\sum_{n, i, j = 1}^{N, H, W} \\frac{\\partial L}{\\partial y_{ncij}} \\widehat{x}_{ncij}, \\\\\n",
    "\\frac{\\partial L}{\\partial \\beta_c} = \\sum_{n, i, j = 1}^{N, H, W} \\frac{\\partial L}{\\partial y_{ncij}}.\n",
    "$$"
   ]
  },
  {
   "cell_type": "markdown",
   "id": "88835063",
   "metadata": {},
   "source": [
    "**Замечание.** Так как архитектура не продумана преподавателем, нет интерфейсов, а у меня это делать сейчас времени нет, модель не будет уметь переключаться между train и test. Более того, так как тестирование написано так, что проверка идёт только на одном батче, обновлять через скользящее среднее $\\mu$ и $\\sigma^2$ смысла тоже нет. Так что реализуем только лишь режим train."
   ]
  },
  {
   "cell_type": "code",
   "execution_count": 17,
   "id": "f1114bb1",
   "metadata": {
    "ExecuteTime": {
     "end_time": "2021-05-14T13:50:42.294829Z",
     "start_time": "2021-05-14T13:50:42.288798Z"
    }
   },
   "outputs": [
    {
     "data": {
      "text/plain": [
       "<Task2Modules.OtherLayers.BatchNorm2d at 0x7f42ae1fc1d0>"
      ]
     },
     "execution_count": 17,
     "metadata": {},
     "output_type": "execute_result"
    }
   ],
   "source": [
    "from Task2Modules.OtherLayers import BatchNorm2d\n",
    "\n",
    "BatchNorm2d(4)  # Проверка"
   ]
  },
  {
   "cell_type": "markdown",
   "id": "8c4d9137",
   "metadata": {},
   "source": [
    "Теперь разберёмся с average pooling. Если расписать на листочке для простых примеров формулы, то становится понятно, что `backward()` очень похож на `backward()` в свёрточном слое, только теперь нет параметров (то есть не нужно считать градиент по параметрам), все значения фильтра одинаковые (то есть вращать ничего не надо), паддинга нет (то есть не надо делать дополнительные расширения границ). Таким образом, из преобразований остаётся только раздвижение строк и столбцов друг от друга на `self.s - 1` с помощью функции `delate()`."
   ]
  },
  {
   "cell_type": "code",
   "execution_count": 18,
   "id": "8983315a",
   "metadata": {
    "ExecuteTime": {
     "end_time": "2021-05-14T13:50:42.425039Z",
     "start_time": "2021-05-14T13:50:42.301056Z"
    }
   },
   "outputs": [
    {
     "data": {
      "text/plain": [
       "<Task2Modules.CNN.AvgPool at 0x7f42ae1fcc50>"
      ]
     },
     "execution_count": 18,
     "metadata": {},
     "output_type": "execute_result"
    }
   ],
   "source": [
    "from Task2Modules.CNN import AvgPool\n",
    "\n",
    "AvgPool(2, 2)  # Проверка"
   ]
  },
  {
   "cell_type": "code",
   "execution_count": 19,
   "id": "dc77309d-ad2e-46e8-9ffd-4e157006ea21",
   "metadata": {
    "ExecuteTime": {
     "end_time": "2021-05-14T13:50:42.501404Z",
     "start_time": "2021-05-14T13:50:42.431372Z"
    }
   },
   "outputs": [
    {
     "data": {
      "text/plain": [
       "<Task2Modules.CustomModels.CustomModel2 at 0x7f42ae212390>"
      ]
     },
     "execution_count": 19,
     "metadata": {},
     "output_type": "execute_result"
    }
   ],
   "source": [
    "from Task2Modules.CustomModels import CustomModel2\n",
    "\n",
    "CustomModel2()  # Проверка"
   ]
  },
  {
   "cell_type": "code",
   "execution_count": 20,
   "id": "c651e71c-2a12-45c6-8f05-32c23fca32c8",
   "metadata": {
    "ExecuteTime": {
     "end_time": "2021-05-14T13:50:42.580029Z",
     "start_time": "2021-05-14T13:50:42.505475Z"
    }
   },
   "outputs": [],
   "source": [
    "def train_custom_model2(X, y, epochs, num_classes):\n",
    "    y = one_hot_encoding(labels, num_classes) # преобразуем число в эталоне в унитарный код.\n",
    "    \n",
    "    model = CustomModel2(input_size=X.shape[-1], num_classes=num_classes)\n",
    "    cost = CrossEntropyLoss()\n",
    "    \n",
    "    optimizer = SGD(lr=learning_rate, params=model.get_params())      \n",
    "\n",
    "    t = trange(epochs)\n",
    "    \n",
    "    for e in t:\n",
    "        train_loss = 0\n",
    "        train_acc = 0 \n",
    "  \n",
    "        y_pred = model.forward(X)\n",
    "        loss, deltaL = cost.get(y_pred, y)\n",
    "        grads = model.backward(deltaL)\n",
    "        params = optimizer.update_params(grads)\n",
    "        model.set_params(params)\n",
    "\n",
    "        train_loss += loss.item()\n",
    "        train_acc = torch.sum(\n",
    "            torch.argmax(predict_y, axis=1) == labels\n",
    "        ).item() / X.shape[0]\n",
    "        \n",
    "        loss_history.loc[e, 'loss_custom'] = train_loss\n",
    "        t.set_postfix(loss=train_loss, acc=train_acc)"
   ]
  },
  {
   "cell_type": "code",
   "execution_count": 21,
   "id": "b7053a57-ae3b-4f05-a73a-7d8b28079479",
   "metadata": {
    "ExecuteTime": {
     "end_time": "2021-05-14T13:50:43.016376Z",
     "start_time": "2021-05-14T13:50:42.588148Z"
    }
   },
   "outputs": [
    {
     "name": "stderr",
     "output_type": "stream",
     "text": [
      "100%|██████████| 10/10 [00:00<00:00, 31.75it/s, acc=1, loss=0.627]\n"
     ]
    }
   ],
   "source": [
    "train_custom_model2(batch, labels, epochs, num_classes=2)"
   ]
  },
  {
   "cell_type": "code",
   "execution_count": 22,
   "id": "cb2d4eb9-b1ed-4919-8d37-98f12cbae3cc",
   "metadata": {
    "ExecuteTime": {
     "end_time": "2021-05-14T13:50:45.575504Z",
     "start_time": "2021-05-14T13:50:45.351602Z"
    }
   },
   "outputs": [
    {
     "data": {
      "image/png": "[encoded data removed]",
      "text/plain": [
       "<Figure size 432x288 with 1 Axes>"
      ]
     },
     "metadata": {
      "needs_background": "light"
     },
     "output_type": "display_data"
    }
   ],
   "source": [
    "f = plt.figure()\n",
    "plt.title('Task 2 train loss', color='black')\n",
    "loss_history.plot(ax=f.gca())\n",
    "plt.legend(loc='center left', bbox_to_anchor=(1.0, 0.5))\n",
    "plt.show()"
   ]
  },
  {
   "cell_type": "code",
   "execution_count": 23,
   "id": "62df2684-a0a0-4025-8713-01e696c4827c",
   "metadata": {
    "ExecuteTime": {
     "end_time": "2021-05-14T13:50:45.585338Z",
     "start_time": "2021-05-14T13:50:45.579128Z"
    }
   },
   "outputs": [
    {
     "name": "stdout",
     "output_type": "stream",
     "text": [
      "Задание 2 не выполнено. Эмпирический риск не совпадает в реализациях PyTorch и собственной\n",
      "Суммарная ошибка = 4.8914\n"
     ]
    }
   ],
   "source": [
    "# Эмпирический риск на всех эпохах должен совпадать с реализацией PyTorch\n",
    "error = np.absolute((loss_history.iloc[:,0].values-loss_history.iloc[:,1].values)).sum()\n",
    "if error < 1e-3:\n",
    "    print('Задание 2 выполнено успешно')\n",
    "else:\n",
    "    print('Задание 2 не выполнено. Эмпирический риск не совпадает в реализациях PyTorch и собственной')\n",
    "print(f'Суммарная ошибка = {error:.4f}')\n",
    "loss_history_task2 = loss_history"
   ]
  },
  {
   "cell_type": "markdown",
   "id": "930cb689-abb1-458f-b851-046583c29220",
   "metadata": {},
   "source": [
    "### Задание 3"
   ]
  },
  {
   "cell_type": "markdown",
   "id": "71114630-0f89-4b70-8c7c-cbe5091f0440",
   "metadata": {},
   "source": [
    "Обучить ранее реализованную сеть **CustomModel2** на реальных данных из выборки digits."
   ]
  },
  {
   "cell_type": "code",
   "execution_count": 31,
   "id": "6f96e6f0-3d16-4656-aaf9-299c5cd423a1",
   "metadata": {
    "ExecuteTime": {
     "end_time": "2021-05-14T14:10:32.005804Z",
     "start_time": "2021-05-14T14:10:31.998306Z"
    }
   },
   "outputs": [],
   "source": [
    "from sklearn import preprocessing\n",
    "from sklearn.datasets import load_digits\n",
    "from sklearn.model_selection import train_test_split\n",
    "\n",
    "import matplotlib.pyplot as plt \n",
    "\n",
    "import torchvision"
   ]
  },
  {
   "cell_type": "code",
   "execution_count": 34,
   "id": "2fb506bd",
   "metadata": {
    "ExecuteTime": {
     "end_time": "2021-05-14T14:10:42.537414Z",
     "start_time": "2021-05-14T14:10:42.261010Z"
    }
   },
   "outputs": [
    {
     "name": "stdout",
     "output_type": "stream",
     "text": [
      "(1797, 64)\n"
     ]
    },
    {
     "data": {
      "text/plain": [
       "<Figure size 432x288 with 0 Axes>"
      ]
     },
     "metadata": {},
     "output_type": "display_data"
    },
    {
     "data": {
      "image/png": "[encoded data removed]",
      "text/plain": [
       "<Figure size 288x288 with 1 Axes>"
      ]
     },
     "metadata": {
      "needs_background": "light"
     },
     "output_type": "display_data"
    }
   ],
   "source": [
    "digits = load_digits()\n",
    "print(digits.data.shape)\n",
    "\n",
    "plt.gray()\n",
    "plt.matshow(digits.images[0]);"
   ]
  },
  {
   "cell_type": "code",
   "execution_count": 62,
   "id": "154aa79a-730a-4b53-9a6d-7769e5ab164c",
   "metadata": {
    "ExecuteTime": {
     "end_time": "2021-05-14T14:29:04.917414Z",
     "start_time": "2021-05-14T14:29:04.894165Z"
    }
   },
   "outputs": [],
   "source": [
    "def get_data_numbers():\n",
    "    # Загружаем выборку digits\n",
    "    data, labels = load_digits(n_class=10, return_X_y=True, as_frame=False)\n",
    "\n",
    "    # ПРОВЕСТИ НЕОБХОДИМЫЕ ПРЕОБРАЗОВАНИЯ\n",
    "    train_x, val_x, train_label, val_label = train_test_split(\n",
    "        data.reshape(-1, 8, 8), labels, test_size=0.2, random_state=42\n",
    "    )\n",
    "    \n",
    "    train_x = torch.tensor(train_x, dtype=torch.float).unsqueeze(1)\n",
    "    train_label = torch.from_numpy(train_label)\n",
    "    val_x = torch.tensor(val_x, dtype=torch.float).unsqueeze(1)\n",
    "    val_label = torch.from_numpy(val_label)\n",
    "    \n",
    "    return train_x, train_label, val_x, val_label"
   ]
  },
  {
   "cell_type": "code",
   "execution_count": 63,
   "id": "59e861b8-49e4-4800-872a-c8ac7ee4093b",
   "metadata": {
    "ExecuteTime": {
     "end_time": "2021-05-14T14:29:05.111895Z",
     "start_time": "2021-05-14T14:29:05.014561Z"
    }
   },
   "outputs": [
    {
     "data": {
      "text/plain": [
       "(torch.Size([1437, 1, 8, 8]), torch.float32)"
      ]
     },
     "execution_count": 63,
     "metadata": {},
     "output_type": "execute_result"
    }
   ],
   "source": [
    "train_x, train_label, val_x, val_label = get_data_numbers()\n",
    "train_x.shape, train_x.dtype"
   ]
  },
  {
   "cell_type": "code",
   "execution_count": 65,
   "id": "4766a8b7-dc86-4572-baa0-ecf80dec5499",
   "metadata": {
    "ExecuteTime": {
     "end_time": "2021-05-14T14:29:37.369854Z",
     "start_time": "2021-05-14T14:29:37.017947Z"
    }
   },
   "outputs": [
    {
     "name": "stderr",
     "output_type": "stream",
     "text": [
      "100%|██████████| 10/10 [00:00<00:00, 32.64it/s, accuracy=0.122, loss=2.33]\n"
     ]
    }
   ],
   "source": [
    "learning_rate = 0.01\n",
    "epochs = 10\n",
    "num_classes = 10\n",
    "\n",
    "# СТУДЕНТАМ:\n",
    "# Сохраняйте историю эмпирического риска каждую эпоху в отдельном столбце loss_history 'loss_custom'\n",
    "loss_history = pd.DataFrame(index=range(epochs), dtype=float)\n",
    "\n",
    "torch_grad_model = TorchGradientModel2(num_classes, input_size=8)\n",
    "\n",
    "# СТУДЕНТАМ:\n",
    "# Используйте эти веса, чтобы инициализировать веса своей сети для точной воспроизводимости результатов\n",
    "torch_model_params = []\n",
    "temp_m = copy.deepcopy(torch_grad_model)\n",
    "for param in temp_m.named_parameters():\n",
    "    if param[0] in ('conv1.weight', 'conv1.bias', 'fc1.weight', 'fc1.bias'):\n",
    "        torch_model_params.append(param[1].detach().clone())\n",
    "\n",
    "# СТУДЕНТАМ:\n",
    "# При реализации своих слоёв не забывайте делить получившиеся градиенты по ошибкам \n",
    "# на размер пакета (кол-во изображений для I-го слоя),\n",
    "# чтобы эмулировать поведение CrossEntropyLoss с параметром reduction='mean'\n",
    "ce = nn.CrossEntropyLoss(reduction='mean')\n",
    "\n",
    "# Для эксперимента используется самый простой оптимизатор. \n",
    "# При желании можете поэкспериментировать с другими, которые реализовали для 1-го задания\n",
    "optimizer = torch.optim.SGD(torch_grad_model.parameters(), lr=learning_rate, \n",
    "                            momentum=0, dampening=0, weight_decay=0, \n",
    "                            nesterov=False)\n",
    "\n",
    "torch_grad_model.train()\n",
    "t = trange(epochs)\n",
    "loss_hist_pt = []\n",
    "for e in t:\n",
    "    predict_y = torch_grad_model(train_x) # для обучения используем весь пакет\n",
    "    \n",
    "#     Можете выводить веса сети для прямого сравнения со своей реализацей, \n",
    "#     for param in torch_grad_model.named_parameters():\n",
    "#         print(param)\n",
    "\n",
    "    loss = ce(predict_y, train_label)\n",
    "    loss_history.loc[e, 'loss_train_pt'] = loss.item()\n",
    "    \n",
    "    # Градиенты нужно обнулять в каждой эпохе\n",
    "    optimizer.zero_grad()\n",
    "    loss.backward()\n",
    "    \n",
    "    # Градиенты так же можно выводить в текстовом виде для оценки хода обучения\n",
    "#     print('Gradients')\n",
    "#     for param in torch_grad_model.named_parameters():\n",
    "#         print(param[0], param[1].grad)\n",
    "    \n",
    "    optimizer.step()\n",
    "    \n",
    "    train_acc = torch.sum(\n",
    "        torch.argmax(predict_y, axis=1) == train_label\n",
    "    ).item() / train_x.shape[0]\n",
    "\n",
    "    t.set_postfix(loss=loss.item(), accuracy=train_acc)"
   ]
  },
  {
   "cell_type": "code",
   "execution_count": 68,
   "id": "d123a514-c557-44f2-baed-77f6b4adf59d",
   "metadata": {
    "ExecuteTime": {
     "end_time": "2021-05-14T14:43:20.352291Z",
     "start_time": "2021-05-14T14:43:20.333838Z"
    }
   },
   "outputs": [],
   "source": [
    "# TODO: и зачем мы создавали val?...\n",
    "def train_model(epochs, learning_rate, loss_history, train_x, train_label, \n",
    "                val_x, val_labels):\n",
    "    y_train = one_hot_encoding(train_label, num_classes)\n",
    "    \n",
    "    model = CustomModel2(input_size=train_x.shape[-1], \n",
    "                         num_classes=num_classes)\n",
    "    cost = CrossEntropyLoss()\n",
    "    optimizer = SGD(lr=learning_rate, params=model.get_params())      \n",
    "\n",
    "    t = trange(epochs)\n",
    "    \n",
    "    for e in t:\n",
    "        train_loss = 0\n",
    "        train_acc = 0 \n",
    "  \n",
    "        y_pred = model.forward(train_x)\n",
    "        loss, deltaL = cost.get(y_pred, y_train)\n",
    "        grads = model.backward(deltaL)\n",
    "        params = optimizer.update_params(grads)\n",
    "        model.set_params(params)\n",
    "\n",
    "        train_loss += loss.item()\n",
    "        train_acc = torch.sum(\n",
    "            torch.argmax(y_pred, axis=1) == labels\n",
    "        ).item() / train_x.shape[0]\n",
    "        \n",
    "        loss_history.loc[e, 'loss_custom'] = train_loss\n",
    "        t.set_postfix(loss=train_loss, acc=train_acc)"
   ]
  },
  {
   "cell_type": "code",
   "execution_count": 69,
   "id": "e02f8e7f",
   "metadata": {
    "ExecuteTime": {
     "end_time": "2021-05-14T14:43:44.533593Z",
     "start_time": "2021-05-14T14:43:25.566382Z"
    }
   },
   "outputs": [
    {
     "name": "stderr",
     "output_type": "stream",
     "text": [
      "  0%|          | 0/10 [00:18<?, ?it/s]\n"
     ]
    },
    {
     "ename": "RuntimeError",
     "evalue": "The size of tensor a (3) must match the size of tensor b (6) at non-singleton dimension 1",
     "output_type": "error",
     "traceback": [
      "\u001b[0;31m---------------------------------------------------------------------------\u001b[0m",
      "\u001b[0;31mRuntimeError\u001b[0m                              Traceback (most recent call last)",
      "\u001b[0;32m<ipython-input-69-310d90280c31>\u001b[0m in \u001b[0;36m<module>\u001b[0;34m\u001b[0m\n\u001b[1;32m      4\u001b[0m \u001b[0;34m\u001b[0m\u001b[0m\n\u001b[1;32m      5\u001b[0m train_model(epochs, learning_rate, loss_history, train_x, train_label, \n\u001b[0;32m----> 6\u001b[0;31m             val_x, val_label)\n\u001b[0m",
      "\u001b[0;32m<ipython-input-68-beeef9ec4cb4>\u001b[0m in \u001b[0;36mtrain_model\u001b[0;34m(epochs, learning_rate, loss_history, train_x, train_label, val_x, val_labels)\u001b[0m\n\u001b[1;32m     17\u001b[0m         \u001b[0my_pred\u001b[0m \u001b[0;34m=\u001b[0m \u001b[0mmodel\u001b[0m\u001b[0;34m.\u001b[0m\u001b[0mforward\u001b[0m\u001b[0;34m(\u001b[0m\u001b[0mtrain_x\u001b[0m\u001b[0;34m)\u001b[0m\u001b[0;34m\u001b[0m\u001b[0;34m\u001b[0m\u001b[0m\n\u001b[1;32m     18\u001b[0m         \u001b[0mloss\u001b[0m\u001b[0;34m,\u001b[0m \u001b[0mdeltaL\u001b[0m \u001b[0;34m=\u001b[0m \u001b[0mcost\u001b[0m\u001b[0;34m.\u001b[0m\u001b[0mget\u001b[0m\u001b[0;34m(\u001b[0m\u001b[0my_pred\u001b[0m\u001b[0;34m,\u001b[0m \u001b[0my_train\u001b[0m\u001b[0;34m)\u001b[0m\u001b[0;34m\u001b[0m\u001b[0;34m\u001b[0m\u001b[0m\n\u001b[0;32m---> 19\u001b[0;31m         \u001b[0mgrads\u001b[0m \u001b[0;34m=\u001b[0m \u001b[0mmodel\u001b[0m\u001b[0;34m.\u001b[0m\u001b[0mbackward\u001b[0m\u001b[0;34m(\u001b[0m\u001b[0mdeltaL\u001b[0m\u001b[0;34m)\u001b[0m\u001b[0;34m\u001b[0m\u001b[0;34m\u001b[0m\u001b[0m\n\u001b[0m\u001b[1;32m     20\u001b[0m         \u001b[0mparams\u001b[0m \u001b[0;34m=\u001b[0m \u001b[0moptimizer\u001b[0m\u001b[0;34m.\u001b[0m\u001b[0mupdate_params\u001b[0m\u001b[0;34m(\u001b[0m\u001b[0mgrads\u001b[0m\u001b[0;34m)\u001b[0m\u001b[0;34m\u001b[0m\u001b[0;34m\u001b[0m\u001b[0m\n\u001b[1;32m     21\u001b[0m         \u001b[0mmodel\u001b[0m\u001b[0;34m.\u001b[0m\u001b[0mset_params\u001b[0m\u001b[0;34m(\u001b[0m\u001b[0mparams\u001b[0m\u001b[0;34m)\u001b[0m\u001b[0;34m\u001b[0m\u001b[0;34m\u001b[0m\u001b[0m\n",
      "\u001b[0;32m~/CodeProjects/PythonProjects/scidev-TopCoder2K/Task2Modules/CustomModels.py\u001b[0m in \u001b[0;36mbackward\u001b[0;34m(self, deltaL)\u001b[0m\n\u001b[1;32m    125\u001b[0m         \u001b[0mdX\u001b[0m \u001b[0;34m=\u001b[0m \u001b[0mself\u001b[0m\u001b[0;34m.\u001b[0m\u001b[0mact1\u001b[0m\u001b[0;34m.\u001b[0m\u001b[0mbackward\u001b[0m\u001b[0;34m(\u001b[0m\u001b[0mself\u001b[0m\u001b[0;34m.\u001b[0m\u001b[0mpool1\u001b[0m\u001b[0;34m.\u001b[0m\u001b[0mbackward\u001b[0m\u001b[0;34m(\u001b[0m\u001b[0mdX\u001b[0m\u001b[0;34m)\u001b[0m\u001b[0;34m)\u001b[0m\u001b[0;34m\u001b[0m\u001b[0;34m\u001b[0m\u001b[0m\n\u001b[1;32m    126\u001b[0m         \u001b[0mdX\u001b[0m\u001b[0;34m,\u001b[0m \u001b[0mdW2\u001b[0m\u001b[0;34m,\u001b[0m \u001b[0mdb2\u001b[0m \u001b[0;34m=\u001b[0m \u001b[0mself\u001b[0m\u001b[0;34m.\u001b[0m\u001b[0mbn1\u001b[0m\u001b[0;34m.\u001b[0m\u001b[0mbackward\u001b[0m\u001b[0;34m(\u001b[0m\u001b[0mdX\u001b[0m\u001b[0;34m)\u001b[0m\u001b[0;34m\u001b[0m\u001b[0;34m\u001b[0m\u001b[0m\n\u001b[0;32m--> 127\u001b[0;31m         \u001b[0mdX\u001b[0m\u001b[0;34m,\u001b[0m \u001b[0mdW1\u001b[0m\u001b[0;34m,\u001b[0m \u001b[0mdb1\u001b[0m \u001b[0;34m=\u001b[0m \u001b[0mself\u001b[0m\u001b[0;34m.\u001b[0m\u001b[0mconv1\u001b[0m\u001b[0;34m.\u001b[0m\u001b[0mbackward\u001b[0m\u001b[0;34m(\u001b[0m\u001b[0mdX\u001b[0m\u001b[0;34m)\u001b[0m\u001b[0;34m\u001b[0m\u001b[0;34m\u001b[0m\u001b[0m\n\u001b[0m\u001b[1;32m    128\u001b[0m \u001b[0;34m\u001b[0m\u001b[0m\n\u001b[1;32m    129\u001b[0m         grads = {\n",
      "\u001b[0;32m~/CodeProjects/PythonProjects/scidev-TopCoder2K/Task2Modules/CNN.py\u001b[0m in \u001b[0;36mbackward\u001b[0;34m(self, dZ)\u001b[0m\n\u001b[1;32m    260\u001b[0m                             \u001b[0;31m# элемента в двумерном фильтре\u001b[0m\u001b[0;34m\u001b[0m\u001b[0;34m\u001b[0m\u001b[0;34m\u001b[0m\u001b[0m\n\u001b[1;32m    261\u001b[0m                             self.dW[new_c, c, h, w] = Conv.single_conv(\n\u001b[0;32m--> 262\u001b[0;31m                                 \u001b[0mwindow\u001b[0m\u001b[0;34m,\u001b[0m \u001b[0mdz_transformed\u001b[0m\u001b[0;34m[\u001b[0m\u001b[0mnew_c\u001b[0m\u001b[0;34m]\u001b[0m\u001b[0;34m,\u001b[0m \u001b[0;36m0.\u001b[0m\u001b[0;34m\u001b[0m\u001b[0;34m\u001b[0m\u001b[0m\n\u001b[0m\u001b[1;32m    263\u001b[0m                             )\n\u001b[1;32m    264\u001b[0m                             \u001b[0mself\u001b[0m\u001b[0;34m.\u001b[0m\u001b[0mdb\u001b[0m\u001b[0;34m[\u001b[0m\u001b[0mnew_c\u001b[0m\u001b[0;34m]\u001b[0m \u001b[0;34m+=\u001b[0m \u001b[0mdz_transformed\u001b[0m\u001b[0;34m[\u001b[0m\u001b[0mnew_c\u001b[0m\u001b[0;34m]\u001b[0m\u001b[0;34m.\u001b[0m\u001b[0msum\u001b[0m\u001b[0;34m(\u001b[0m\u001b[0;34m)\u001b[0m\u001b[0;34m\u001b[0m\u001b[0;34m\u001b[0m\u001b[0m\n",
      "\u001b[0;32m~/CodeProjects/PythonProjects/scidev-TopCoder2K/Task2Modules/CNN.py\u001b[0m in \u001b[0;36msingle_conv\u001b[0;34m(x_slice, W, b)\u001b[0m\n\u001b[1;32m     70\u001b[0m \u001b[0;34m\u001b[0m\u001b[0m\n\u001b[1;32m     71\u001b[0m         \u001b[0;31m# Поэлементное произведение\u001b[0m\u001b[0;34m\u001b[0m\u001b[0;34m\u001b[0m\u001b[0;34m\u001b[0m\u001b[0m\n\u001b[0;32m---> 72\u001b[0;31m         \u001b[0ms\u001b[0m \u001b[0;34m=\u001b[0m \u001b[0mtorch\u001b[0m\u001b[0;34m.\u001b[0m\u001b[0mmul\u001b[0m\u001b[0;34m(\u001b[0m\u001b[0mx_slice\u001b[0m\u001b[0;34m,\u001b[0m \u001b[0mW\u001b[0m\u001b[0;34m)\u001b[0m\u001b[0;34m\u001b[0m\u001b[0;34m\u001b[0m\u001b[0m\n\u001b[0m\u001b[1;32m     73\u001b[0m         \u001b[0;31m# Сумма произведений\u001b[0m\u001b[0;34m\u001b[0m\u001b[0;34m\u001b[0m\u001b[0;34m\u001b[0m\u001b[0m\n\u001b[1;32m     74\u001b[0m         \u001b[0mg\u001b[0m \u001b[0;34m=\u001b[0m \u001b[0mtorch\u001b[0m\u001b[0;34m.\u001b[0m\u001b[0msum\u001b[0m\u001b[0;34m(\u001b[0m\u001b[0ms\u001b[0m\u001b[0;34m)\u001b[0m\u001b[0;34m\u001b[0m\u001b[0;34m\u001b[0m\u001b[0m\n",
      "\u001b[0;31mRuntimeError\u001b[0m: The size of tensor a (3) must match the size of tensor b (6) at non-singleton dimension 1"
     ]
    }
   ],
   "source": [
    "# TODO: и зачем мы берём срезку в 10 элементов?...\n",
    "# train_model(epochs, learning_rate, loss_history, train_x[0:10], \n",
    "#             train_label[0:10], val_x[0:10], val_label[0:10])\n",
    "\n",
    "train_model(epochs, learning_rate, loss_history, train_x, train_label, \n",
    "            val_x, val_label)"
   ]
  },
  {
   "cell_type": "code",
   "execution_count": 67,
   "id": "b3e12010-8508-4c62-bf6d-e26cb66c62f0",
   "metadata": {
    "ExecuteTime": {
     "end_time": "2021-05-14T14:29:56.547731Z",
     "start_time": "2021-05-14T14:29:55.735852Z"
    }
   },
   "outputs": [
    {
     "data": {
      "image/png": "[encoded data removed]",
      "text/plain": [
       "<Figure size 432x288 with 1 Axes>"
      ]
     },
     "metadata": {
      "needs_background": "light"
     },
     "output_type": "display_data"
    }
   ],
   "source": [
    "# loss_history = pd.DataFrame(index=range(epochs), dtype=float)\n",
    "\n",
    "f = plt.figure()\n",
    "plt.title('Task 2 train loss', color='black')\n",
    "loss_history.plot(ax=f.gca())\n",
    "plt.legend(loc='center left', bbox_to_anchor=(1.0, 0.5))\n",
    "plt.show()"
   ]
  },
  {
   "cell_type": "code",
   "execution_count": null,
   "id": "1603aeed-717d-4d6e-ad07-a652a284e3fd",
   "metadata": {},
   "outputs": [],
   "source": [
    "# Эмпирический риск на всех эпохах должен совпадать с реализацией PyTorch\n",
    "error = np.absolute(\n",
    "    loss_history[['loss_train_custom']].to_numpy() -\\\n",
    "    loss_history[['loss_train_pt']].to_numpy()\n",
    ").sum()\n",
    "if error < 1e-3:\n",
    "    print('Задание 3 выполнено успешно')\n",
    "else:\n",
    "    print('Задание 3 не выполнено. Эмпирический риск не совпадает в реализациях PyTorch и собственной')\n",
    "print(f'Суммарная ошибка = {error:.4f}')\n",
    "loss_history_task2 = loss_history"
   ]
  },
  {
   "cell_type": "markdown",
   "id": "4a740226-459e-46c6-92ab-c38dac6c3468",
   "metadata": {},
   "source": [
    "### Необязательное задание\n",
    "Создать свою архитектуру свёрточной сети и обучиться на полной выборке digits, получив высокое качество классификации. Сравнить скорость и финальное качество обучения при применении разных алгоритмов обучения (SGD с моментом, Adam), регуляризации весов."
   ]
  },
  {
   "cell_type": "code",
   "execution_count": null,
   "id": "a3ac56e4-981f-46b3-9ffd-54e63054f8f8",
   "metadata": {},
   "outputs": [],
   "source": [
    "# Если время в конце курса останется, сделаю, конечно"
   ]
  }
 ],
 "metadata": {
  "hide_input": false,
  "kernelspec": {
   "display_name": "Python 3",
   "language": "python",
   "name": "python3"
  },
  "language_info": {
   "codemirror_mode": {
    "name": "ipython",
    "version": 3
   },
   "file_extension": ".py",
   "mimetype": "text/x-python",
   "name": "python",
   "nbconvert_exporter": "python",
   "pygments_lexer": "ipython3",
   "version": "3.7.6"
  }
 },
 "nbformat": 4,
 "nbformat_minor": 5
}
