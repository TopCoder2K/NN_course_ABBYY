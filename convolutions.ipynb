{
 "cells": [
  {
   "cell_type": "markdown",
   "id": "d33a7d46-d93f-40b0-8256-97a1c43344e6",
   "metadata": {},
   "source": [
    "## Домашнее задание по свёрточным сетям"
   ]
  },
  {
   "cell_type": "markdown",
   "id": "a9fbc722-2c7e-41a1-b25f-913c32228a2d",
   "metadata": {},
   "source": [
    "Сутью домашнего задания является последовательная реализация базовых операций, применяемых в свёрточных сетях с использованием операций над тензорами PyTorch, но без применения модулей torch.nn. Студенты должны самостоятельно реализовать как прямой и обратный проходы слоёв, так и классы нейронных сетей.\n",
    "\n",
    "Правильность выполнения задания будет проверяться идентичностью прохождения процесса обучения в тех же архитектурах, выполненных с применением модулей и алгоритмов PyTorch."
   ]
  },
  {
   "cell_type": "markdown",
   "id": "4af498e6-0c14-4731-a899-ad5f6b19766b",
   "metadata": {},
   "source": [
    "### Задание 1"
   ]
  },
  {
   "cell_type": "markdown",
   "id": "1d78d40c-6d89-49d5-be7f-43f9e8607921",
   "metadata": {},
   "source": [
    "В первом задании требуется реализовать классы двухмерной свёртки **Conv**, линейного слоя **Fc**, алгоритм обучения нейронной сети **SGD**, функцию активации **ReLU**, **Softmax** и функцию эмпирического риска **CrossEntropyLoss**.\n",
    "\n",
    "Свёрточные и полносвязные слои должны реализовывать операцию сдвига (*bias*, *b*). \n",
    "Сверить формулы прямого прохода можно в документации по [Conv2d](https://pytorch.org/docs/stable/generated/torch.nn.Conv2d.html) и [Linear](https://pytorch.org/docs/stable/generated/torch.nn.Linear.html).\n",
    "\n",
    "Далее, следует реализовать класс модели, который включает в себя реализованные выше компоненты. Требуется повторить параметры обучения и архитектуру, реализованную ниже с помощью torch.nn модулей. Критерием правильности решения будет совпадение значений эмпирического риска при обучении обеих реализаций сетей на одних и тех же данных, с теми же параметрами и с одинаковыми начальными инициализациями весов.\n",
    "\n",
    "Данные для обучения состоят из 4 примеров вертикальных и горизонтальных линий. \n"
   ]
  },
  {
   "cell_type": "code",
   "execution_count": 1,
   "id": "a9a74f3a-578c-4ca9-aa1c-1834e19b7bdb",
   "metadata": {
    "ExecuteTime": {
     "end_time": "2021-05-11T09:25:38.117158Z",
     "start_time": "2021-05-11T09:25:37.237134Z"
    }
   },
   "outputs": [],
   "source": [
    "import torch\n",
    "from torch import nn\n",
    "import numpy as np\n",
    "import matplotlib.pyplot as plt\n",
    "import torch.optim\n",
    "import torch.nn.functional as F\n",
    "from tqdm import trange\n",
    "import pandas as pd\n",
    "import math\n",
    "import copy\n",
    "\n",
    "_ = torch.manual_seed(1)"
   ]
  },
  {
   "cell_type": "code",
   "execution_count": 2,
   "id": "7a852825-7062-4829-a9e3-3e341cc46076",
   "metadata": {
    "ExecuteTime": {
     "end_time": "2021-05-11T09:25:38.123272Z",
     "start_time": "2021-05-11T09:25:38.118772Z"
    }
   },
   "outputs": [],
   "source": [
    "def one_hot_encoding(y, num_classes):\n",
    "    N = y.shape[0]\n",
    "    Z = torch.zeros((N, num_classes))\n",
    "    Z[torch.arange(N), y] = 1\n",
    "    return Z"
   ]
  },
  {
   "cell_type": "code",
   "execution_count": 3,
   "id": "4b94731e-4897-4ad1-96a5-b128216b6922",
   "metadata": {
    "ExecuteTime": {
     "end_time": "2021-05-11T09:25:38.829791Z",
     "start_time": "2021-05-11T09:25:38.126317Z"
    }
   },
   "outputs": [
    {
     "name": "stdout",
     "output_type": "stream",
     "text": [
      "Train data shape [Batch, Channels, Height, Width] = torch.Size([4, 1, 5, 5])\n",
      "Labels shape = torch.Size([4])\n",
      "Mean and standard deviation before normalization = 49.90, 97.45\n",
      "Mean and standard deviation after normalization = 0.00, 1.00\n",
      "Train batch\n"
     ]
    },
    {
     "data": {
      "image/png": "[encoded data removed]",
      "text/plain": [
       "<Figure size 432x288 with 1 Axes>"
      ]
     },
     "metadata": {
      "needs_background": "light"
     },
     "output_type": "display_data"
    },
    {
     "data": {
      "image/png": "[encoded data removed]",
      "text/plain": [
       "<Figure size 432x288 with 1 Axes>"
      ]
     },
     "metadata": {
      "needs_background": "light"
     },
     "output_type": "display_data"
    },
    {
     "data": {
      "image/png": "[encoded data removed]",
      "text/plain": [
       "<Figure size 432x288 with 1 Axes>"
      ]
     },
     "metadata": {
      "needs_background": "light"
     },
     "output_type": "display_data"
    },
    {
     "data": {
      "image/png": "[encoded data removed]",
      "text/plain": [
       "<Figure size 432x288 with 1 Axes>"
      ]
     },
     "metadata": {
      "needs_background": "light"
     },
     "output_type": "display_data"
    }
   ],
   "source": [
    "# Обучение будет вестись на следующих данных\n",
    "def get_data():\n",
    "    # Задача классификации вертикальных и горизонтальных линий\n",
    "    # Данные\n",
    "    vert1 = [[0, 0, 250, 0, 0],\n",
    "             [0, 0, 250, 0, 0],\n",
    "             [0, 0, 250, 0, 0],\n",
    "             [0, 0, 250, 0, 0],\n",
    "             [0, 0, 250, 0, 0]]\n",
    "\n",
    "    vert2 = [[0, 0, 220, 40, 0],\n",
    "             [0, 0, 250, 10, 0],\n",
    "             [0, 0, 250, 0, 0],\n",
    "             [0, 10, 250, 0, 0],\n",
    "             [0, 40, 220, 0, 0]]\n",
    "\n",
    "    hor1 = [[0, 0, 0, 0, 0],\n",
    "            [0, 0, 0, 0, 0],\n",
    "            [250, 250, 250, 250, 250],\n",
    "            [0, 0, 0, 0, 0],\n",
    "            [0, 0, 0, 0, 0]]\n",
    "\n",
    "    hor2 = [[0, 0, 0, 0, 0],\n",
    "            [0, 0, 0, 0, 20],\n",
    "            [220, 250, 250, 250, 200],\n",
    "            [10, 0, 0, 0, 0],\n",
    "            [0, 0, 0, 0, 0]]\n",
    "\n",
    "    data = [vert1, vert2, hor1, hor2]\n",
    "    labels = [0, 0, 1, 1]\n",
    "    \n",
    "    train_x = torch.tensor(data, dtype=torch.float32).unsqueeze(1)\n",
    "    labels = torch.tensor(labels, dtype=torch.long)\n",
    "\n",
    "    return train_x, labels\n",
    "\n",
    "train_x, labels = get_data()\n",
    "print(f'Train data shape [Batch, Channels, Height, Width] = {train_x.shape}')\n",
    "print(f'Labels shape = {labels.shape}')\n",
    "\n",
    "\n",
    "train_mean = torch.mean(train_x)\n",
    "train_std = torch.std(train_x)\n",
    "batch = (train_x - train_mean) / train_std\n",
    "\n",
    "print(f'Mean and standard deviation before normalization = {train_mean.item():.2f}, {train_std.item():.2f}')\n",
    "print(f'Mean and standard deviation after normalization = {torch.mean(batch).item():.2f}, {torch.std(batch).item():.2f}')\n",
    "\n",
    "print('Train batch')\n",
    "for img in batch:\n",
    "    plt.imshow(img.squeeze(0), cmap='Greys')  # Цвета инвертированы. Чем темнее, тем значение пикселя больше\n",
    "    plt.show() "
   ]
  },
  {
   "cell_type": "markdown",
   "id": "3f9f2d43-d5d9-46cb-92f4-1b55e8870dbe",
   "metadata": {},
   "source": [
    "Реализуем эталонную модель **TorchGradientModel**, состоящую из следующих модулей:\n",
    "- Сверточный слой с 4 фильтрами размера $5\\times5$;\n",
    "- Функция активации [ReLU](https://pytorch.org/docs/stable/generated/torch.nn.ReLU.html)\n",
    "- Линейный слой с 2 выходными нейронами для классов горизонтальной и вертикальной линий\n",
    "\n",
    "Вопрос:\n",
    "Каким ещё образом можно осуществить бинарную классификацию, не используя линейный слой, с 2 выходными нейронами?"
   ]
  },
  {
   "cell_type": "markdown",
   "id": "e3f54ef4-1d73-4e63-ba2b-f904df6534cf",
   "metadata": {},
   "source": [
    "**Ответ.** Можно подобрать размер свёрток так, чтобы на выходе получалось два канала, в каждом из которых будет тензор вероятности принадлежности к классам (в нашем случае детекция не нужна, поэтому достаточно на выходе получить 2 тензора размера 1 на 1, то есть output.shape = 2x1x1).\n",
    "\n",
    "А ещё можно попробовать с одним нейроном: применять какую-нибудь сигмоиду и смотреть, если значение > 0.5, то отправляем в класс 1, иначе --- в класс 0."
   ]
  },
  {
   "cell_type": "code",
   "execution_count": 4,
   "id": "da78879f-cbf9-41d5-98d3-806367c5b86a",
   "metadata": {
    "ExecuteTime": {
     "end_time": "2021-05-11T09:25:38.837205Z",
     "start_time": "2021-05-11T09:25:38.832388Z"
    }
   },
   "outputs": [],
   "source": [
    "class TorchGradientModel(nn.Module):\n",
    "    def __init__(self):\n",
    "        super().__init__()\n",
    "        self.conv1 = nn.Conv2d(1, 4, kernel_size=5, padding=0, bias=True)\n",
    "        self.act1 = nn.ReLU()\n",
    "        self.flatten = nn.Flatten()\n",
    "        self.fc1 = nn.Linear(4 * 1 * 1, 2)\n",
    "        # PyTorch автоматически применяет LogSoftmax при использовании CrossEntropyloss\n",
    "\n",
    "    def forward(self, x):\n",
    "        x = self.conv1(x)\n",
    "        x = self.act1(x)\n",
    "\n",
    "        x = self.flatten(x)\n",
    "        x = self.fc1(x)\n",
    "\n",
    "        return x"
   ]
  },
  {
   "cell_type": "markdown",
   "id": "b7c48edb-7561-46c0-a045-f739adb76b97",
   "metadata": {},
   "source": [
    "Дополнительная информация может быть найдена в комментариях к коду"
   ]
  },
  {
   "cell_type": "code",
   "execution_count": 5,
   "id": "6b6dedb7-e1ce-4283-bd3c-650e3d5aca03",
   "metadata": {
    "ExecuteTime": {
     "end_time": "2021-05-11T09:25:39.085823Z",
     "start_time": "2021-05-11T09:25:38.839210Z"
    }
   },
   "outputs": [],
   "source": [
    "# Данная сеть обучается за 3 эпохи, что удобно для процесса отладки.\n",
    "learning_rate = 1\n",
    "epochs = 3\n",
    "\n",
    "# СТУДЕНТАМ:\n",
    "# Сохраняйте историю эмпирического риска каждую эпоху в отдельном столбце loss_history 'loss_custom'\n",
    "loss_history = pd.DataFrame(index=range(epochs), dtype=float)\n",
    "\n",
    "torch_grad_model = TorchGradientModel()\n",
    "\n",
    "# СТУДЕНТАМ:\n",
    "# Используйте эти веса, чтобы инициализировать веса своей сети для точной воспроизводимости результатов\n",
    "# torch_model_params[0] - тензор с весами фильтров W свёрточного слоя\n",
    "# torch_model_params[1] - тензор с весами сдвигов b свёрточного слоя\n",
    "# torch_model_params[2] - тензор с весами W линейного слоя\n",
    "# torch_model_params[3] - тензор с весами сдвигов b линейного слоя\n",
    "torch_model_params = []\n",
    "temp_m = copy.deepcopy(torch_grad_model)\n",
    "for param in temp_m.named_parameters():\n",
    "    torch_model_params.append(param[1].clone().detach())\n",
    "\n",
    "# СТУДЕНТАМ:\n",
    "# При реализации своих слоёв не забывайте делить получившиеся градиенты по ошибкам на размер пакета \n",
    "# (для I-го слоя - это кол-во изображений),\n",
    "# чтобы эмулировать поведение CrossEntropyLoss с параметром reduction='mean'\n",
    "ce = nn.CrossEntropyLoss(reduction='mean')\n",
    "\n",
    "# Для данного эксперимента используется самый простой алгоритм обучения без моментов.\n",
    "optimizer = torch.optim.SGD(torch_grad_model.parameters(), lr=learning_rate, \n",
    "                            momentum=0, dampening=0, weight_decay=0, \n",
    "                            nesterov=False)"
   ]
  },
  {
   "cell_type": "code",
   "execution_count": 6,
   "id": "0b1425e7-8003-42e7-bac1-7f13d7852a13",
   "metadata": {
    "ExecuteTime": {
     "end_time": "2021-05-11T09:25:39.262343Z",
     "start_time": "2021-05-11T09:25:39.097011Z"
    },
    "scrolled": true
   },
   "outputs": [
    {
     "name": "stderr",
     "output_type": "stream",
     "text": [
      "100%|██████████| 3/3 [00:00<00:00, 50.95it/s, accuracy=1, loss=0.0179]"
     ]
    },
    {
     "name": "stdout",
     "output_type": "stream",
     "text": [
      "Parameters\n",
      "('conv1.weight', Parameter containing:\n",
      "tensor([[[[ 0.1031, -0.0883, -0.0388,  0.0939, -0.1883],\n",
      "          [ 0.1199, -0.0411,  0.1017,  0.0278, -0.0245],\n",
      "          [ 0.0555,  0.0099,  0.0730, -0.0779, -0.0146],\n",
      "          [-0.0180,  0.0290, -0.0008,  0.1748,  0.0622],\n",
      "          [-0.0745, -0.1208, -0.0335, -0.0863, -0.0641]]],\n",
      "\n",
      "\n",
      "        [[[ 0.0096,  0.1192,  0.1087, -0.1955,  0.1240],\n",
      "          [ 0.0559,  0.1897,  0.1320, -0.1822, -0.1902],\n",
      "          [-0.0965,  0.1756, -0.0333,  0.0856, -0.0929],\n",
      "          [ 0.1962, -0.0846,  0.1500,  0.0024, -0.1054],\n",
      "          [ 0.1028, -0.1062,  0.0588, -0.0578, -0.0219]]],\n",
      "\n",
      "\n",
      "        [[[-0.1923, -0.0954,  0.1085, -0.0486,  0.1992],\n",
      "          [ 0.1603, -0.0094, -0.1335,  0.1218,  0.0621],\n",
      "          [-0.1293,  0.1299,  0.1214,  0.1774, -0.1121],\n",
      "          [-0.0329, -0.0039,  0.0292, -0.1518, -0.1419],\n",
      "          [ 0.1088, -0.0469,  0.0977,  0.0114,  0.0657]]],\n",
      "\n",
      "\n",
      "        [[[ 0.0440,  0.0727,  0.0991, -0.1852,  0.1007],\n",
      "          [-0.1406, -0.1509,  0.0122, -0.0341,  0.1175],\n",
      "          [-0.1158, -0.1778,  0.1456, -0.0297,  0.1125],\n",
      "          [ 0.0643, -0.1500,  0.0402,  0.0480, -0.1339],\n",
      "          [-0.0949,  0.0682,  0.0358, -0.0851, -0.0605]]]], requires_grad=True))\n",
      "('conv1.bias', Parameter containing:\n",
      "tensor([ 0.1832, -0.0370,  0.1128,  0.0866], requires_grad=True))\n",
      "('fc1.weight', Parameter containing:\n",
      "tensor([[-0.3232, -0.4252,  0.4799,  0.0261],\n",
      "        [ 0.3427,  0.1036,  0.1608,  0.3735]], requires_grad=True))\n",
      "('fc1.bias', Parameter containing:\n",
      "tensor([ 0.4741, -0.3318], requires_grad=True))\n",
      "==============================================================\n",
      "Parameters\n",
      "('conv1.weight', Parameter containing:\n",
      "tensor([[[[ 0.0790, -0.1124, -0.4897,  0.0344, -0.2124],\n",
      "          [ 0.0958, -0.0652, -0.3758, -0.0051, -0.0255],\n",
      "          [ 0.5708,  0.5599,  0.1697,  0.4721,  0.4777],\n",
      "          [-0.0305, -0.0040, -0.4783,  0.1507,  0.0381],\n",
      "          [-0.0986, -0.1803, -0.4845, -0.1104, -0.0882]]],\n",
      "\n",
      "\n",
      "        [[[ 0.0814,  0.1911, -0.1584, -0.1517,  0.1959],\n",
      "          [ 0.1277,  0.2616, -0.1562, -0.1174, -0.1183],\n",
      "          [-0.0246,  0.2475, -0.3215,  0.1575, -0.0211],\n",
      "          [ 0.2681, -0.0198, -0.1382,  0.0742, -0.0335],\n",
      "          [ 0.1747, -0.0624, -0.2083,  0.0141,  0.0499]]],\n",
      "\n",
      "\n",
      "        [[[-0.1807, -0.0838,  0.3246, -0.0201,  0.2108],\n",
      "          [ 0.1719,  0.0022,  0.0953,  0.1376,  0.0625],\n",
      "          [-0.3763, -0.1337,  0.0751, -0.0862, -0.3480],\n",
      "          [-0.0269,  0.0119,  0.2580, -0.1402, -0.1304],\n",
      "          [ 0.1204, -0.0184,  0.3138,  0.0230,  0.0772]]],\n",
      "\n",
      "\n",
      "        [[[ 0.0314,  0.0601, -0.1361, -0.2162,  0.0881],\n",
      "          [-0.1532, -0.1635, -0.2369, -0.0513,  0.1170],\n",
      "          [ 0.1530,  0.1091,  0.1960,  0.2573,  0.3693],\n",
      "          [ 0.0578, -0.1672, -0.2089,  0.0355, -0.1465],\n",
      "          [-0.1075,  0.0372, -0.1994, -0.0976, -0.0731]]]], requires_grad=True))\n",
      "('conv1.bias', Parameter containing:\n",
      "tensor([ 0.2302, -0.1774,  0.0902,  0.1112], requires_grad=True))\n",
      "('fc1.weight', Parameter containing:\n",
      "tensor([[-0.3022, -0.2247,  0.4435,  0.2730],\n",
      "        [ 0.3217, -0.0969,  0.1973,  0.1266]], requires_grad=True))\n",
      "('fc1.bias', Parameter containing:\n",
      "tensor([ 0.4034, -0.2611], requires_grad=True))\n",
      "==============================================================\n",
      "Parameters\n",
      "('conv1.weight', Parameter containing:\n",
      "tensor([[[[ 6.7224e-02, -1.2410e-01, -5.0147e-01,  2.2663e-02, -2.2412e-01],\n",
      "          [ 8.4114e-02, -7.6974e-02, -3.8749e-01, -1.6871e-02, -3.4586e-02],\n",
      "          [ 6.1396e-01,  6.0695e-01,  2.1672e-01,  5.1914e-01,  5.1817e-01],\n",
      "          [-4.0968e-02, -1.5686e-02, -4.9003e-01,  1.3900e-01,  2.6409e-02],\n",
      "          [-1.1031e-01, -1.9200e-01, -4.9622e-01, -1.2210e-01, -9.9919e-02]]],\n",
      "\n",
      "\n",
      "        [[[ 8.1444e-02,  1.9109e-01, -1.5841e-01, -1.5174e-01,  1.9585e-01],\n",
      "          [ 1.2774e-01,  2.6158e-01, -1.5618e-01, -1.1738e-01, -1.1829e-01],\n",
      "          [-2.4599e-02,  2.4749e-01, -3.2151e-01,  1.5746e-01, -2.1074e-02],\n",
      "          [ 2.6811e-01, -1.9776e-02, -1.3821e-01,  7.4236e-02, -3.3496e-02],\n",
      "          [ 1.7467e-01, -6.2394e-02, -2.0830e-01,  1.4116e-02,  4.9941e-02]]],\n",
      "\n",
      "\n",
      "        [[[-1.9430e-01, -9.7377e-02,  3.7490e-01, -2.8138e-02,  1.9719e-01],\n",
      "          [ 1.5830e-01, -1.1385e-02,  1.4975e-01,  1.2540e-01,  4.8969e-02],\n",
      "          [-3.8983e-01, -1.4726e-01,  1.2952e-01, -9.9788e-02, -3.6157e-01],\n",
      "          [-4.0482e-02, -2.7019e-04,  3.1246e-01, -1.5380e-01, -1.4394e-01],\n",
      "          [ 1.0678e-01, -2.6421e-02,  3.6407e-01,  9.3816e-03,  6.3649e-02]]],\n",
      "\n",
      "\n",
      "        [[[ 3.4158e-02,  6.2900e-02, -1.3335e-01, -2.1350e-01,  9.0850e-02],\n",
      "          [-1.5044e-01, -1.6072e-01, -2.3417e-01, -4.8516e-02,  1.1910e-01],\n",
      "          [ 1.4289e-01,  9.8093e-02,  1.8493e-01,  2.4623e-01,  3.5975e-01],\n",
      "          [ 6.0202e-02, -1.6441e-01, -2.0615e-01,  3.8219e-02, -1.4373e-01],\n",
      "          [-1.0471e-01,  3.9919e-02, -1.9666e-01, -9.4895e-02, -7.0363e-02]]]],\n",
      "       requires_grad=True))\n",
      "('conv1.bias', Parameter containing:\n",
      "tensor([ 0.2531, -0.1774,  0.1167,  0.1058], requires_grad=True))\n",
      "('fc1.weight', Parameter containing:\n",
      "tensor([[-0.5160, -0.2247,  0.7183,  0.1626],\n",
      "        [ 0.5355, -0.0969, -0.0775,  0.2370]], requires_grad=True))\n",
      "('fc1.bias', Parameter containing:\n",
      "tensor([ 0.4744, -0.3320], requires_grad=True))\n",
      "==============================================================\n"
     ]
    },
    {
     "name": "stderr",
     "output_type": "stream",
     "text": [
      "\n"
     ]
    }
   ],
   "source": [
    "torch_grad_model.train()\n",
    "t = trange(epochs)\n",
    "loss_hist_pt = []\n",
    "for e in t:\n",
    "    predict_y = torch_grad_model(batch) # для обучения используем весь пакет\n",
    "    \n",
    "    # Можете выводить веса сети для прямого сравнения со своей реализацей\n",
    "    print('Parameters')\n",
    "    for param in torch_grad_model.named_parameters():\n",
    "        print(param)\n",
    "    print('==============================================================')\n",
    "\n",
    "    loss = ce(predict_y, labels)\n",
    "    loss_history.loc[e, 'loss_pt'] = loss.item()\n",
    "    \n",
    "    # Градиенты нужно обнулять в каждой эпохе\n",
    "    optimizer.zero_grad()\n",
    "    loss.backward()\n",
    "    \n",
    "    # Градиенты также можно выводить в текстовом виде для оценки хода обучения\n",
    "#     print('Gradients')\n",
    "#     for param in torch_grad_model.named_parameters():\n",
    "#         print(param[0], param[1].grad)\"\n",
    "    \n",
    "    optimizer.step()\n",
    "    \n",
    "    train_acc = torch.sum(torch.argmax(predict_y, axis=1) == labels).item()\n",
    "\n",
    "    train_acc /= batch.shape[0]\n",
    "    t.set_postfix(loss=loss.item(), accuracy=train_acc)"
   ]
  },
  {
   "cell_type": "markdown",
   "id": "6605478d-3157-4556-a5af-3fae08b02da1",
   "metadata": {},
   "source": [
    "Ниже представлены заготовки (шаблоны) классов, колторые требуется реализовать. **Conv**, **Fc** и **ReLU** должны иметь методы **forward** и **backward** для прямого и обратного прохода по сети. При прямом проходе следует кэшировать данные, которые потребуются для вычисления градиента.\n",
    "\n",
    "**Свёртки**\n",
    "\n",
    "При прямом проходе нужно брать фильтры поочерёдно и проводить свёртку со входным тензором. Каждая операция свёртки даёт 2-мерную матрицу на выходе. Для получения итоговой карты признаков следует сконкатенировать эти матрицы, чтобы получить тензор рамерами [Размер батча, Количество каналов, Высота, Ширина]. Реализовывать можно как с помощью вложенных циклов, так и с применением векторизации. В данном задании важно не время работы, но точность вычислений.\n",
    "\n",
    "В первом модуле заданий уже была показана реализация обратного прохода по линейному слою для подсчёта частных производных по эмпирическому риску, которые использовались для обновления весов слоя. Расчёт частных производных в свёрточных слоях идеологически тот же. Требуется посчитать частные производные по dX предыдущему входу слоя, dW по весам фильтров и db по сдвигам. Пусть dZ – это градиент ошибки к выходу текущего свёрточного слоя (передаётся от предыдущего слоя при обратном проходе сети), тогда\n",
    "\n",
    "$dX += \\sum_{h=0}^{n_H}\\sum_{w=0}^{n_W} W_c\\times dZ_{hw}$,\n",
    "\n",
    "где $W_c$ – это фильтр, а $dZ_{hw}$ – скаляр, соответствующий градиенту эмпирического риска к выходу текущего свёрточного слоя $Z$ в $n$ строке и $w$ столбце. Так как при прямом проходе фильтр $W_c$ влияет на все значения канала с карты признаков, то мы умножаем один и тот же фильтр $W_c$ с разными $dZ$ в пределах канала $с$, суммируя результаты.\n",
    "В numpy эта операция выглядела бы так\n",
    "\n",
    " dX[vert_start:vert_end, horiz_start:horiz_end, :] += W[:,:,:,c] * dZ[i, h, w, c]\n",
    " \n",
    "В PyTorch очерёдность каналов иная: [Batch, Channel, Height, Width].\n",
    "\n",
    "Производная одного фильтра относительно эмпирического риска  считается по формуле\n",
    "\n",
    "$dW_c+=\\sum_{h=0}^{n_H}\\sum_{w=0}^{n_W}x_{slice} \\times dZ_{hw}$,\n",
    "\n",
    "где $x_{slice}$ относится к отрезку из входного тензора, который был использован в прямом проходе, чтобы получить активацию $Z_{ij}$. Таким образом мы получим градиент фильтра $W$ относительно данного отрезка. Так как в рамках свёрточного слоя для разных отрезков мы использовали тот же фильтр $W$, то мы складываем эти градиенты, чтобы получить $dW$.\n",
    "\n",
    "В numpy подобная операция реализуется так:\n",
    "\n",
    "dW[:,:,:,c] += x_slice * dZ[i, h, w, c]\n",
    "\n",
    "Производная по сдвигам считается как сумма всех градиентов выхода свёрточного слоя:\n",
    "\n",
    "$db=\\sum_{h=0}^{n_H}\\sum_{w=0}^{n_W}dZ_{hw}$\n",
    "\n",
    "В numpy реализовывалась бы так:\n",
    "\n",
    "db[:,:,:,c] += dZ[i, h, w, c]\n",
    "\n",
    "\n",
    "Для реализации выполнения обратного прохода градиента идентичным nn.CrossEntropyLoss(reduction='mean') образом, значения $dW$ и $db$ следует делить на размер пакета (batch).\n"
   ]
  },
  {
   "cell_type": "markdown",
   "id": "cf73eb63",
   "metadata": {},
   "source": [
    "**Замечание.** Хочется понять откуда взялись эти формулы... Вот [тут](https://towardsdatascience.com/backpropagation-in-a-convolutional-layer-24c8d64d8509) и [тут](https://medium.com/@pavisj/convolutions-and-backpropagations-46026a8f5d2c) выводят с примерами, но без учёта `stride` и `padding`.\n",
    "\n",
    "Я сам пытался вывести часа 3 формулы в общем случае, но c градиентом по входу потрепел фиаско. Как же хорошо, что мне скинули в итоге вот эту [статью](https://medium.com/@mayank.utexas/backpropagation-for-convolution-with-strides-8137e4fc2710)."
   ]
  },
  {
   "cell_type": "code",
   "execution_count": 7,
   "id": "327ef530-74d6-4ab3-b935-d5766410aee4",
   "metadata": {
    "ExecuteTime": {
     "end_time": "2021-05-11T09:25:39.299203Z",
     "start_time": "2021-05-11T09:25:39.267428Z"
    }
   },
   "outputs": [
    {
     "data": {
      "text/plain": [
       "<Task2Modules.CNN.Conv at 0x7fd2342ada90>"
      ]
     },
     "execution_count": 7,
     "metadata": {},
     "output_type": "execute_result"
    }
   ],
   "source": [
    "from Task2Modules.CNN import Conv\n",
    "\n",
    "Conv(1, 1, 1, init=torch_model_params)  # Проверка"
   ]
  },
  {
   "cell_type": "markdown",
   "id": "caade385",
   "metadata": {},
   "source": [
    "**Замечание.** Дальше идут слои из первого задания, поэтому их просто скопируем оттуда ;)"
   ]
  },
  {
   "cell_type": "code",
   "execution_count": 8,
   "id": "15f6aff7",
   "metadata": {
    "ExecuteTime": {
     "end_time": "2021-05-11T09:25:39.415570Z",
     "start_time": "2021-05-11T09:25:39.305920Z"
    }
   },
   "outputs": [
    {
     "data": {
      "text/plain": [
       "<Task2Modules.OtherLayers.Fc at 0x7fd23425bf50>"
      ]
     },
     "execution_count": 8,
     "metadata": {},
     "output_type": "execute_result"
    }
   ],
   "source": [
    "from Task2Modules.OtherLayers import Fc, Softmax, LogSoftmax, Flatten\n",
    "from Task2Modules.Optim import SGD\n",
    "from Task2Modules.Activations import ReLU\n",
    "from Task2Modules.Losses import CrossEntropyLoss\n",
    "\n",
    "Fc(5, 5, torch_model_params[2:4])  # Проверка"
   ]
  },
  {
   "cell_type": "markdown",
   "id": "8a8b894b-cf32-40cf-84e0-d172f23436fe",
   "metadata": {},
   "source": [
    "Реализовать модель, идентичную **TorchGradientModel**. \n",
    "\n",
    "Если есть желание переиспользовать код из первого модуля заданий по линейным слоям, то можно реализовать модель, пользуясь предыдущими абстрактными классами и импортировать их здесь, переписав код для проверки результата."
   ]
  },
  {
   "cell_type": "code",
   "execution_count": 9,
   "id": "9d7233e2-c485-45f0-b33f-3e3de37741c8",
   "metadata": {
    "ExecuteTime": {
     "end_time": "2021-05-11T09:25:39.509328Z",
     "start_time": "2021-05-11T09:25:39.420602Z"
    }
   },
   "outputs": [],
   "source": [
    "from Task2Modules.CustomModels import CustomModel"
   ]
  },
  {
   "cell_type": "code",
   "execution_count": 10,
   "id": "afc89670-2027-4321-abbb-a3f5365054ef",
   "metadata": {
    "ExecuteTime": {
     "end_time": "2021-05-11T09:25:39.617104Z",
     "start_time": "2021-05-11T09:25:39.513904Z"
    }
   },
   "outputs": [],
   "source": [
    "def train_custom_model(X, y, epochs, num_classes):\n",
    "    y = one_hot_encoding(labels, num_classes) # преобразуем число в эталоне в унитарный код.\n",
    "    \n",
    "    model = CustomModel(input_size=X.shape[-1], num_classes=num_classes, \n",
    "                        init=torch_model_params)\n",
    "    cost = CrossEntropyLoss()\n",
    "    \n",
    "    params = model.get_params()\n",
    "\n",
    "    optimizer = SGD(lr=learning_rate, params=params)      \n",
    "\n",
    "    t = trange(epochs)\n",
    "    \n",
    "    for e in t:\n",
    "        train_loss = 0\n",
    "        train_acc = 0\n",
    "        \n",
    "        print('Parameters')\n",
    "        for name, val in params.items():\n",
    "            print(name, val)\n",
    "        print('=============================================================')\n",
    "  \n",
    "        y_pred = model.forward(X)\n",
    "        loss, deltaL = cost.get(y_pred, y)\n",
    "        grads = model.backward(deltaL)\n",
    "        # TODO: зачем такой функционал... параметры ведь по ссылке передаются\n",
    "        params = optimizer.update_params(grads)\n",
    "        model.set_params(params)\n",
    "\n",
    "        train_loss += loss.item()\n",
    "        train_acc = (\n",
    "            torch.sum(torch.argmax(y_pred, axis=1) == labels).item() \\\n",
    "            / X.shape[0]\n",
    "        )\n",
    "        \n",
    "        loss_history.loc[e, 'loss_custom'] = train_loss\n",
    "        t.set_postfix(loss=train_loss, acc=train_acc)"
   ]
  },
  {
   "cell_type": "code",
   "execution_count": 11,
   "id": "ba60e2ae-3472-4d16-ad2f-076dd35f839e",
   "metadata": {
    "ExecuteTime": {
     "end_time": "2021-05-11T09:25:42.633310Z",
     "start_time": "2021-05-11T09:25:42.370549Z"
    }
   },
   "outputs": [
    {
     "name": "stderr",
     "output_type": "stream",
     "text": [
      " 33%|███▎      | 1/3 [00:00<00:00,  7.69it/s, acc=0.5, loss=0.422]"
     ]
    },
    {
     "name": "stdout",
     "output_type": "stream",
     "text": [
      "Parameters\n",
      "W1 tensor([[[[ 0.1031, -0.0883, -0.0388,  0.0939, -0.1883],\n",
      "          [ 0.1199, -0.0411,  0.1017,  0.0278, -0.0245],\n",
      "          [ 0.0555,  0.0099,  0.0730, -0.0779, -0.0146],\n",
      "          [-0.0180,  0.0290, -0.0008,  0.1748,  0.0622],\n",
      "          [-0.0745, -0.1208, -0.0335, -0.0863, -0.0641]]],\n",
      "\n",
      "\n",
      "        [[[ 0.0096,  0.1192,  0.1087, -0.1955,  0.1240],\n",
      "          [ 0.0559,  0.1897,  0.1320, -0.1822, -0.1902],\n",
      "          [-0.0965,  0.1756, -0.0333,  0.0856, -0.0929],\n",
      "          [ 0.1962, -0.0846,  0.1500,  0.0024, -0.1054],\n",
      "          [ 0.1028, -0.1062,  0.0588, -0.0578, -0.0219]]],\n",
      "\n",
      "\n",
      "        [[[-0.1923, -0.0954,  0.1085, -0.0486,  0.1992],\n",
      "          [ 0.1603, -0.0094, -0.1335,  0.1218,  0.0621],\n",
      "          [-0.1293,  0.1299,  0.1214,  0.1774, -0.1121],\n",
      "          [-0.0329, -0.0039,  0.0292, -0.1518, -0.1419],\n",
      "          [ 0.1088, -0.0469,  0.0977,  0.0114,  0.0657]]],\n",
      "\n",
      "\n",
      "        [[[ 0.0440,  0.0727,  0.0991, -0.1852,  0.1007],\n",
      "          [-0.1406, -0.1509,  0.0122, -0.0341,  0.1175],\n",
      "          [-0.1158, -0.1778,  0.1456, -0.0297,  0.1125],\n",
      "          [ 0.0643, -0.1500,  0.0402,  0.0480, -0.1339],\n",
      "          [-0.0949,  0.0682,  0.0358, -0.0851, -0.0605]]]])\n",
      "b1 tensor([ 0.1832, -0.0370,  0.1128,  0.0866])\n",
      "W2 tensor([[-0.3232,  0.3427],\n",
      "        [-0.4252,  0.1036],\n",
      "        [ 0.4799,  0.1608],\n",
      "        [ 0.0261,  0.3735]])\n",
      "b2 tensor([ 0.4741, -0.3318])\n",
      "=============================================================\n",
      "Parameters\n",
      "W1 tensor([[[[ 0.0481, -0.1206, -0.0717,  0.0603, -0.2224],\n",
      "          [ 0.3535,  0.1573,  0.2419,  0.1097, -0.0009],\n",
      "          [ 0.5544,  0.4159,  0.3631,  0.0962,  0.0436],\n",
      "          [-0.5834, -0.4326, -0.3470, -0.0559, -0.0532],\n",
      "          [-0.3630, -0.3516, -0.2066, -0.2017, -0.1218]]],\n",
      "\n",
      "\n",
      "        [[[ 0.0096,  0.1192,  0.1087, -0.1955,  0.1240],\n",
      "          [ 0.0559,  0.1897,  0.1320, -0.1822, -0.1902],\n",
      "          [-0.0965,  0.1756, -0.0333,  0.0856, -0.0929],\n",
      "          [ 0.1962, -0.0846,  0.1500,  0.0024, -0.1054],\n",
      "          [ 0.1028, -0.1062,  0.0588, -0.0578, -0.0219]]],\n",
      "\n",
      "\n",
      "        [[[-0.1660, -0.0798,  0.1243, -0.0325,  0.2156],\n",
      "          [ 0.0484, -0.1044, -0.2007,  0.0826,  0.0508],\n",
      "          [-0.3684, -0.0647, -0.0176,  0.0939, -0.1400],\n",
      "          [ 0.2380,  0.2173,  0.1951, -0.0412, -0.0866],\n",
      "          [ 0.2470,  0.0637,  0.1806,  0.0667,  0.0933]]],\n",
      "\n",
      "\n",
      "        [[[ 0.0153,  0.0558,  0.0820, -0.2027,  0.0829],\n",
      "          [-0.0188, -0.0474,  0.0853,  0.0086,  0.1298],\n",
      "          [ 0.1444,  0.0340,  0.2969,  0.0612,  0.1428],\n",
      "          [-0.2306, -0.3907, -0.1404, -0.0723, -0.1941],\n",
      "          [-0.2454, -0.0522, -0.0545, -0.1453, -0.0906]]]])\n",
      "b1 tensor([ 1.3598, -3.5457, -0.4511,  0.7003])\n",
      "W2 tensor([[-0.3022,  0.3217],\n",
      "        [-0.2247, -0.0969],\n",
      "        [ 0.4435,  0.1973],\n",
      "        [ 0.2730,  0.1266]])\n",
      "b2 tensor([ 0.4034, -0.2611])\n",
      "=============================================================\n",
      "Parameters\n",
      "W1 tensor([[[[ 0.0406, -0.1251, -0.0762,  0.0557, -0.2271],\n",
      "          [ 0.3855,  0.1845,  0.2611,  0.1209,  0.0023],\n",
      "          [ 0.6228,  0.4716,  0.4029,  0.1201,  0.0516],\n",
      "          [-0.6610, -0.4959, -0.3945, -0.0876, -0.0690],\n",
      "          [-0.4025, -0.3832, -0.2304, -0.2175, -0.1297]]],\n",
      "\n",
      "\n",
      "        [[[ 0.0096,  0.1192,  0.1087, -0.1955,  0.1240],\n",
      "          [ 0.0559,  0.1897,  0.1320, -0.1822, -0.1902],\n",
      "          [-0.0965,  0.1756, -0.0333,  0.0856, -0.0929],\n",
      "          [ 0.1962, -0.0846,  0.1500,  0.0024, -0.1054],\n",
      "          [ 0.1028, -0.1062,  0.0588, -0.0578, -0.0219]]],\n",
      "\n",
      "\n",
      "        [[[-0.1660, -0.0798,  0.1243, -0.0325,  0.2156],\n",
      "          [ 0.0484, -0.1044, -0.2007,  0.0826,  0.0508],\n",
      "          [-0.3684, -0.0647, -0.0176,  0.0939, -0.1400],\n",
      "          [ 0.2380,  0.2173,  0.1951, -0.0412, -0.0866],\n",
      "          [ 0.2470,  0.0637,  0.1806,  0.0667,  0.0933]]],\n",
      "\n",
      "\n",
      "        [[[ 0.0171,  0.0569,  0.0830, -0.2016,  0.0840],\n",
      "          [-0.0263, -0.0538,  0.0808,  0.0060,  0.1290],\n",
      "          [ 0.1284,  0.0209,  0.2875,  0.0556,  0.1410],\n",
      "          [-0.2124, -0.3759, -0.1293, -0.0649, -0.1904],\n",
      "          [-0.2361, -0.0448, -0.0489, -0.1416, -0.0888]]]])\n",
      "b1 tensor([-0.8355, -7.0543, -1.0149,  2.1049])\n",
      "W2 tensor([[-0.1242,  0.1438],\n",
      "        [-0.2247, -0.0969],\n",
      "        [ 0.4435,  0.1973],\n",
      "        [ 0.5902, -0.1906]])\n",
      "b2 tensor([ 0.6196, -0.4773])\n",
      "=============================================================\n"
     ]
    },
    {
     "name": "stderr",
     "output_type": "stream",
     "text": [
      "100%|██████████| 3/3 [00:00<00:00, 12.72it/s, acc=0.5, loss=1.67] \n"
     ]
    }
   ],
   "source": [
    "train_custom_model(batch, labels, epochs, num_classes=2)"
   ]
  },
  {
   "cell_type": "code",
   "execution_count": null,
   "id": "be4398f3",
   "metadata": {
    "ExecuteTime": {
     "end_time": "2021-05-06T20:32:47.541080Z",
     "start_time": "2021-05-06T20:32:47.264Z"
    }
   },
   "outputs": [],
   "source": [
    "('conv1.weight', Parameter containing:\n",
    "tensor([[[[ 0.1031, -0.0883, -0.0388,  0.0939, -0.1883],\n",
    "          [ 0.1199, -0.0411,  0.1017,  0.0278, -0.0245],\n",
    "          [ 0.0555,  0.0099,  0.0730, -0.0779, -0.0146],\n",
    "          [-0.0180,  0.0290, -0.0008,  0.1748,  0.0622],\n",
    "          [-0.0745, -0.1208, -0.0335, -0.0863, -0.0641]]],\n",
    "\n",
    "\n",
    "        [[[ 0.0096,  0.1192,  0.1087, -0.1955,  0.1240],\n",
    "          [ 0.0559,  0.1897,  0.1320, -0.1822, -0.1902],\n",
    "          [-0.0965,  0.1756, -0.0333,  0.0856, -0.0929],\n",
    "          [ 0.1962, -0.0846,  0.1500,  0.0024, -0.1054],\n",
    "          [ 0.1028, -0.1062,  0.0588, -0.0578, -0.0219]]],\n",
    "\n",
    "\n",
    "        [[[-0.1923, -0.0954,  0.1085, -0.0486,  0.1992],\n",
    "          [ 0.1603, -0.0094, -0.1335,  0.1218,  0.0621],\n",
    "          [-0.1293,  0.1299,  0.1214,  0.1774, -0.1121],\n",
    "          [-0.0329, -0.0039,  0.0292, -0.1518, -0.1419],\n",
    "          [ 0.1088, -0.0469,  0.0977,  0.0114,  0.0657]]],\n",
    "\n",
    "\n",
    "        [[[ 0.0440,  0.0727,  0.0991, -0.1852,  0.1007],\n",
    "          [-0.1406, -0.1509,  0.0122, -0.0341,  0.1175],\n",
    "          [-0.1158, -0.1778,  0.1456, -0.0297,  0.1125],\n",
    "          [ 0.0643, -0.1500,  0.0402,  0.0480, -0.1339],\n",
    "          [-0.0949,  0.0682,  0.0358, -0.0851, -0.0605]]]], requires_grad=True))\n",
    "('conv1.bias', Parameter containing:\n",
    "tensor([ 0.1832, -0.0370,  0.1128,  0.0866], requires_grad=True))\n",
    "('fc1.weight', Parameter containing:\n",
    "tensor([[-0.3232, -0.4252,  0.4799,  0.0261],\n",
    "        [ 0.3427,  0.1036,  0.1608,  0.3735]], requires_grad=True))\n",
    "('fc1.bias', Parameter containing:\n",
    "tensor([ 0.4741, -0.3318], requires_grad=True))\n",
    "==============================================================\n",
    "\n",
    "100%|██████████| 3/3 [00:00<00:00,  3.54it/s, accuracy=1, loss=0.0179]\n",
    "\n",
    "Parameters\n",
    "('conv1.weight', Parameter containing:\n",
    "tensor([[[[ 0.0790, -0.1124, -0.4897,  0.0344, -0.2124],\n",
    "          [ 0.0958, -0.0652, -0.3758, -0.0051, -0.0255],\n",
    "          [ 0.5708,  0.5599,  0.1697,  0.4721,  0.4777],\n",
    "          [-0.0305, -0.0040, -0.4783,  0.1507,  0.0381],\n",
    "          [-0.0986, -0.1803, -0.4845, -0.1104, -0.0882]]],\n",
    "\n",
    "\n",
    "        [[[ 0.0814,  0.1911, -0.1584, -0.1517,  0.1959],\n",
    "          [ 0.1277,  0.2616, -0.1562, -0.1174, -0.1183],\n",
    "          [-0.0246,  0.2475, -0.3215,  0.1575, -0.0211],\n",
    "          [ 0.2681, -0.0198, -0.1382,  0.0742, -0.0335],\n",
    "          [ 0.1747, -0.0624, -0.2083,  0.0141,  0.0499]]],\n",
    "\n",
    "\n",
    "        [[[-0.1807, -0.0838,  0.3246, -0.0201,  0.2108],\n",
    "          [ 0.1719,  0.0022,  0.0953,  0.1376,  0.0625],\n",
    "          [-0.3763, -0.1337,  0.0751, -0.0862, -0.3480],\n",
    "          [-0.0269,  0.0119,  0.2580, -0.1402, -0.1304],\n",
    "          [ 0.1204, -0.0184,  0.3138,  0.0230,  0.0772]]],\n",
    "\n",
    "\n",
    "        [[[ 0.0314,  0.0601, -0.1361, -0.2162,  0.0881],\n",
    "          [-0.1532, -0.1635, -0.2369, -0.0513,  0.1170],\n",
    "          [ 0.1530,  0.1091,  0.1960,  0.2573,  0.3693],\n",
    "          [ 0.0578, -0.1672, -0.2089,  0.0355, -0.1465],\n",
    "          [-0.1075,  0.0372, -0.1994, -0.0976, -0.0731]]]], requires_grad=True))\n",
    "('conv1.bias', Parameter containing:\n",
    "tensor([ 0.2302, -0.1774,  0.0902,  0.1112], requires_grad=True))\n",
    "('fc1.weight', Parameter containing:\n",
    "tensor([[-0.3022, -0.2247,  0.4435,  0.2730],\n",
    "        [ 0.3217, -0.0969,  0.1973,  0.1266]], requires_grad=True))\n",
    "('fc1.bias', Parameter containing:\n",
    "tensor([ 0.4034, -0.2611], requires_grad=True))\n",
    "==============================================================\n",
    "Parameters\n",
    "('conv1.weight', Parameter containing:\n",
    "tensor([[[[ 6.7224e-02, -1.2410e-01, -5.0147e-01,  2.2663e-02, -2.2412e-01],\n",
    "          [ 8.4114e-02, -7.6974e-02, -3.8749e-01, -1.6871e-02, -3.4586e-02],\n",
    "          [ 6.1396e-01,  6.0695e-01,  2.1672e-01,  5.1914e-01,  5.1817e-01],\n",
    "          [-4.0968e-02, -1.5686e-02, -4.9003e-01,  1.3900e-01,  2.6409e-02],\n",
    "          [-1.1031e-01, -1.9200e-01, -4.9622e-01, -1.2210e-01, -9.9919e-02]]],\n",
    "\n",
    "\n",
    "        [[[ 8.1444e-02,  1.9109e-01, -1.5841e-01, -1.5174e-01,  1.9585e-01],\n",
    "          [ 1.2774e-01,  2.6158e-01, -1.5618e-01, -1.1738e-01, -1.1829e-01],\n",
    "          [-2.4599e-02,  2.4749e-01, -3.2151e-01,  1.5746e-01, -2.1074e-02],\n",
    "          [ 2.6811e-01, -1.9776e-02, -1.3821e-01,  7.4236e-02, -3.3496e-02],\n",
    "          [ 1.7467e-01, -6.2394e-02, -2.0830e-01,  1.4116e-02,  4.9941e-02]]],\n",
    "\n",
    "\n",
    "        [[[-1.9430e-01, -9.7377e-02,  3.7490e-01, -2.8138e-02,  1.9719e-01],\n",
    "          [ 1.5830e-01, -1.1385e-02,  1.4975e-01,  1.2540e-01,  4.8969e-02],\n",
    "          [-3.8983e-01, -1.4726e-01,  1.2952e-01, -9.9788e-02, -3.6157e-01],\n",
    "          [-4.0482e-02, -2.7019e-04,  3.1246e-01, -1.5380e-01, -1.4394e-01],\n",
    "          [ 1.0678e-01, -2.6421e-02,  3.6407e-01,  9.3816e-03,  6.3649e-02]]],\n",
    "\n",
    "\n",
    "        [[[ 3.4158e-02,  6.2900e-02, -1.3335e-01, -2.1350e-01,  9.0850e-02],\n",
    "          [-1.5044e-01, -1.6072e-01, -2.3417e-01, -4.8516e-02,  1.1910e-01],\n",
    "          [ 1.4289e-01,  9.8093e-02,  1.8493e-01,  2.4623e-01,  3.5975e-01],\n",
    "          [ 6.0202e-02, -1.6441e-01, -2.0615e-01,  3.8219e-02, -1.4373e-01],\n",
    "          [-1.0471e-01,  3.9919e-02, -1.9666e-01, -9.4895e-02, -7.0363e-02]]]],\n",
    "       requires_grad=True))\n",
    "('conv1.bias', Parameter containing:\n",
    "tensor([ 0.2531, -0.1774,  0.1167,  0.1058], requires_grad=True))\n",
    "('fc1.weight', Parameter containing:\n",
    "tensor([[-0.5160, -0.2247,  0.7183,  0.1626],\n",
    "        [ 0.5355, -0.0969, -0.0775,  0.2370]], requires_grad=True))\n",
    "('fc1.bias', Parameter containing:\n",
    "tensor([ 0.4744, -0.3320], requires_grad=True))\n",
    "=============================================================="
   ]
  },
  {
   "cell_type": "code",
   "execution_count": 12,
   "id": "591454a2-a616-49c7-9dd1-18d323492924",
   "metadata": {
    "ExecuteTime": {
     "end_time": "2021-05-11T09:26:41.748260Z",
     "start_time": "2021-05-11T09:26:41.305292Z"
    }
   },
   "outputs": [
    {
     "data": {
      "image/png": "[encoded data removed]",
      "text/plain": [
       "<Figure size 432x288 with 1 Axes>"
      ]
     },
     "metadata": {
      "needs_background": "light"
     },
     "output_type": "display_data"
    }
   ],
   "source": [
    "f = plt.figure()\n",
    "plt.title('Task 1 train loss', color='black')\n",
    "loss_history.plot(ax=f.gca())\n",
    "plt.legend(loc='center left', bbox_to_anchor=(1.0, 0.5))\n",
    "plt.show()"
   ]
  },
  {
   "cell_type": "code",
   "execution_count": 13,
   "id": "e570f1c4-26d0-4d56-9b8c-79d70773f7cd",
   "metadata": {
    "ExecuteTime": {
     "end_time": "2021-05-11T09:26:48.057633Z",
     "start_time": "2021-05-11T09:26:48.038929Z"
    }
   },
   "outputs": [
    {
     "name": "stdout",
     "output_type": "stream",
     "text": [
      "Задание 1 не выполнено. Эмпирический риск не совпадает в реализациях PyTorch и собственной\n",
      "Суммарная ошибка = 1.9101\n"
     ]
    }
   ],
   "source": [
    "# Эмпирический риск на всех эпохах должен совпадать с реализацией PyTorch\n",
    "error = np.absolute((loss_history.iloc[:,0].values-loss_history.iloc[:,1].values)).sum()\n",
    "if error < 1e-3:\n",
    "    print('Задание 1 выполнено успешно')\n",
    "else:\n",
    "    print('Задание 1 не выполнено. Эмпирический риск не совпадает в реализациях PyTorch и собственной')\n",
    "print(f'Суммарная ошибка = {error:.4f}')\n",
    "loss_history_task1 = loss_history"
   ]
  },
  {
   "cell_type": "markdown",
   "id": "87f1543c",
   "metadata": {},
   "source": [
    "**Вывод.** Лоссы не сходятся, но в целом лосс у кастомной модели тоже уменьшается, так что непонятно..."
   ]
  },
  {
   "cell_type": "markdown",
   "id": "79e52a3a-fde2-401b-9517-b41492d445b9",
   "metadata": {},
   "source": [
    "### Задание 2"
   ]
  },
  {
   "cell_type": "markdown",
   "id": "7f7295ab-2cf9-4eac-b525-62f3777bd4fa",
   "metadata": {},
   "source": [
    "Требуется реализовать классы пакетной нормализации **BatchNorm2d** и слоя выборки усреднением **AvgPool**. Реализовать класс модели, идентичной эталонной TorchGradientModel2\n",
    "\n",
    "Эталонная модель **TorchGradientModel2** состоит из:\n",
    "- Сверточный слой с 4 фильтрами размера $3\\times3$;\n",
    "- Пакетная нормализация;\n",
    "- Функция активации [ReLU](https://pytorch.org/docs/stable/generated/torch.nn.ReLU.html)\n",
    "- Выборки усреднением с ашгом 2 и размером окна 2\n",
    "- Линейный слой с переменных количеством выходных нейронов"
   ]
  },
  {
   "cell_type": "code",
   "execution_count": 8,
   "id": "cb82edce-6429-4fd5-957a-d373e8ed46a3",
   "metadata": {
    "ExecuteTime": {
     "end_time": "2021-05-11T06:57:31.444277Z",
     "start_time": "2021-05-11T06:57:31.426203Z"
    }
   },
   "outputs": [],
   "source": [
    "class TorchGradientModel2(nn.Module):\n",
    "    def __init__(self, num_classes=2, input_size=5):\n",
    "        super().__init__()\n",
    "        self.conv1 = nn.Conv2d(1, 4, kernel_size=3, padding=0, bias=True)\n",
    "        self.bn1 = nn.BatchNorm2d(4)\n",
    "        self.act1 = nn.ReLU()\n",
    "        self.pool1 = nn.AvgPool2d(kernel_size=2, stride=2)\n",
    "        self.flatten = nn.Flatten()\n",
    "        self.fc1 = nn.Linear(4 * int((input_size - 2) / 2) * int((input_size - 2) / 2), num_classes)\n",
    "        # PyTorch автоматически применяет LogSoftmax при использовании CrossEntropyloss\n",
    "\n",
    "    def forward(self, x):\n",
    "        x = self.conv1(x)\n",
    "        x = self.bn1(x)\n",
    "        x = self.act1(x)\n",
    "        x = self.pool1(x)\n",
    "\n",
    "        x = self.flatten(x)\n",
    "        x = self.fc1(x)\n",
    "\n",
    "        return x"
   ]
  },
  {
   "cell_type": "code",
   "execution_count": 17,
   "id": "f8dc616e",
   "metadata": {
    "ExecuteTime": {
     "end_time": "2021-05-11T07:03:56.478376Z",
     "start_time": "2021-05-11T07:03:56.441536Z"
    }
   },
   "outputs": [
    {
     "name": "stdout",
     "output_type": "stream",
     "text": [
      "==========================================================================================\n",
      "Layer (type:depth-idx)                   Output Shape              Param #\n",
      "==========================================================================================\n",
      "├─Conv2d: 1-1                            [-1, 4, 3, 3]             40\n",
      "├─BatchNorm2d: 1-2                       [-1, 4, 3, 3]             8\n",
      "├─ReLU: 1-3                              [-1, 4, 3, 3]             --\n",
      "├─AvgPool2d: 1-4                         [-1, 4, 1, 1]             --\n",
      "├─Flatten: 1-5                           [-1, 4]                   --\n",
      "├─Linear: 1-6                            [-1, 2]                   10\n",
      "==========================================================================================\n",
      "Total params: 58\n",
      "Trainable params: 58\n",
      "Non-trainable params: 0\n",
      "Total mult-adds (M): 0.00\n",
      "==========================================================================================\n",
      "Input size (MB): 0.00\n",
      "Forward/backward pass size (MB): 0.00\n",
      "Params size (MB): 0.00\n",
      "Estimated Total Size (MB): 0.00\n",
      "==========================================================================================\n"
     ]
    }
   ],
   "source": [
    "from torchsummary import summary\n",
    "\n",
    "summary(TorchGradientModel2(), (1, 5, 5));"
   ]
  },
  {
   "cell_type": "code",
   "execution_count": 18,
   "id": "a0b11589-27fa-4201-ab3f-079ba27c8af7",
   "metadata": {
    "ExecuteTime": {
     "end_time": "2021-05-11T07:05:23.817946Z",
     "start_time": "2021-05-11T07:05:23.390905Z"
    }
   },
   "outputs": [
    {
     "name": "stderr",
     "output_type": "stream",
     "text": [
      " 10%|█         | 1/10 [00:00<00:01,  4.83it/s, accuracy=1, loss=0.613]"
     ]
    },
    {
     "name": "stdout",
     "output_type": "stream",
     "text": [
      "('conv1.weight', Parameter containing:\n",
      "tensor([[[[-0.0756,  0.1724, -0.1033],\n",
      "          [-0.2789,  0.0732,  0.2076],\n",
      "          [-0.3250,  0.0347,  0.0664]]],\n",
      "\n",
      "\n",
      "        [[[ 0.0383, -0.0082, -0.1036],\n",
      "          [-0.2588,  0.0544, -0.2239],\n",
      "          [-0.2754, -0.1070, -0.2282]]],\n",
      "\n",
      "\n",
      "        [[[ 0.1022,  0.2374,  0.2591],\n",
      "          [-0.2066,  0.1817,  0.2369],\n",
      "          [ 0.0037,  0.1406,  0.1886]]],\n",
      "\n",
      "\n",
      "        [[[ 0.2550,  0.1784,  0.1423],\n",
      "          [-0.1265, -0.1858, -0.1581],\n",
      "          [ 0.2743, -0.0807,  0.0119]]]], requires_grad=True))\n",
      "('conv1.bias', Parameter containing:\n",
      "tensor([-0.3109, -0.0148, -0.0940, -0.2151], requires_grad=True))\n",
      "('bn1.weight', Parameter containing:\n",
      "tensor([1., 1., 1., 1.], requires_grad=True))\n",
      "('bn1.bias', Parameter containing:\n",
      "tensor([0., 0., 0., 0.], requires_grad=True))\n",
      "('fc1.weight', Parameter containing:\n",
      "tensor([[ 0.3872, -0.4048, -0.0715, -0.0355],\n",
      "        [-0.4527,  0.3023, -0.1591,  0.2246]], requires_grad=True))\n",
      "('fc1.bias', Parameter containing:\n",
      "tensor([0.2791, 0.4409], requires_grad=True))\n"
     ]
    },
    {
     "name": "stderr",
     "output_type": "stream",
     "text": [
      "100%|██████████| 10/10 [00:00<00:00, 33.81it/s, accuracy=1, loss=0.0289]"
     ]
    },
    {
     "name": "stdout",
     "output_type": "stream",
     "text": [
      "('conv1.weight', Parameter containing:\n",
      "tensor([[[[-0.0259,  0.2685,  0.0250],\n",
      "          [-0.5487, -0.1588,  0.0036],\n",
      "          [-0.2229,  0.1935,  0.2502]]],\n",
      "\n",
      "\n",
      "        [[[ 0.2197, -0.0151,  0.0407],\n",
      "          [-0.2041, -0.0917, -0.1982],\n",
      "          [-0.2890, -0.3256, -0.2662]]],\n",
      "\n",
      "\n",
      "        [[[ 0.0895,  0.2329,  0.2510],\n",
      "          [-0.2041,  0.1931,  0.2436],\n",
      "          [ 0.0012,  0.1471,  0.1910]]],\n",
      "\n",
      "\n",
      "        [[[ 0.2148,  0.1432,  0.1071],\n",
      "          [-0.1541, -0.2073, -0.1802],\n",
      "          [ 0.3285, -0.0178,  0.0750]]]], requires_grad=True))\n",
      "('conv1.bias', Parameter containing:\n",
      "tensor([-0.3109, -0.0148, -0.0940, -0.2151], requires_grad=True))\n",
      "('bn1.weight', Parameter containing:\n",
      "tensor([1.1520, 0.8936, 1.0176, 1.0089], requires_grad=True))\n",
      "('bn1.bias', Parameter containing:\n",
      "tensor([ 0.0831, -0.0773,  0.0192,  0.0311], requires_grad=True))\n",
      "('fc1.weight', Parameter containing:\n",
      "tensor([[ 0.5683, -0.2543,  0.1292, -0.0695],\n",
      "        [-0.6337,  0.1518, -0.3597,  0.2587]], requires_grad=True))\n",
      "('fc1.bias', Parameter containing:\n",
      "tensor([0.2583, 0.4617], requires_grad=True))\n",
      "('conv1.weight', Parameter containing:\n",
      "tensor([[[[ 0.0056,  0.4506,  0.2141],\n",
      "          [-0.5281,  0.0165,  0.1801],\n",
      "          [-0.5710, -0.0118,  0.0419]]],\n",
      "\n",
      "\n",
      "        [[[ 0.2197, -0.0151,  0.0407],\n",
      "          [-0.2041, -0.0917, -0.1982],\n",
      "          [-0.2890, -0.3256, -0.2662]]],\n",
      "\n",
      "\n",
      "        [[[ 0.0622,  0.2219,  0.2320],\n",
      "          [-0.1970,  0.2181,  0.2578],\n",
      "          [-0.0033,  0.1610,  0.1956]]],\n",
      "\n",
      "\n",
      "        [[[ 0.1423,  0.0905,  0.0533],\n",
      "          [-0.1803, -0.2110, -0.1878],\n",
      "          [ 0.3841,  0.0628,  0.1539]]]], requires_grad=True))\n",
      "('conv1.bias', Parameter containing:\n",
      "tensor([-0.3109, -0.0148, -0.0940, -0.2151], requires_grad=True))\n",
      "('bn1.weight', Parameter containing:\n",
      "tensor([1.1380, 0.8936, 1.0621, 1.0438], requires_grad=True))\n",
      "('bn1.bias', Parameter containing:\n",
      "tensor([ 0.0380, -0.0773,  0.0665,  0.0752], requires_grad=True))\n",
      "('fc1.weight', Parameter containing:\n",
      "tensor([[ 0.5517, -0.2543,  0.2237, -0.1812],\n",
      "        [-0.6171,  0.1518, -0.4543,  0.3704]], requires_grad=True))\n",
      "('fc1.bias', Parameter containing:\n",
      "tensor([0.0864, 0.6335], requires_grad=True))\n",
      "('conv1.weight', Parameter containing:\n",
      "tensor([[[[-0.0543,  0.4261,  0.1949],\n",
      "          [-0.5412,  0.0418,  0.2071],\n",
      "          [-0.5748,  0.0238,  0.0791]]],\n",
      "\n",
      "\n",
      "        [[[ 0.2197, -0.0151,  0.0407],\n",
      "          [-0.2041, -0.0917, -0.1982],\n",
      "          [-0.2890, -0.3256, -0.2662]]],\n",
      "\n",
      "\n",
      "        [[[ 0.0358,  0.2083,  0.2091],\n",
      "          [-0.1852,  0.2445,  0.2717],\n",
      "          [-0.0052,  0.1750,  0.1991]]],\n",
      "\n",
      "\n",
      "        [[[ 0.0790,  0.0509,  0.0116],\n",
      "          [-0.1888, -0.1931, -0.1754],\n",
      "          [ 0.4069,  0.1133,  0.2021]]]], requires_grad=True))\n",
      "('conv1.bias', Parameter containing:\n",
      "tensor([-0.3109, -0.0148, -0.0940, -0.2151], requires_grad=True))\n",
      "('bn1.weight', Parameter containing:\n",
      "tensor([1.2374, 0.8936, 1.1315, 1.0952], requires_grad=True))\n",
      "('bn1.bias', Parameter containing:\n",
      "tensor([ 0.1598, -0.0773,  0.1372,  0.1136], requires_grad=True))\n",
      "('fc1.weight', Parameter containing:\n",
      "tensor([[ 0.6524, -0.2543,  0.3394, -0.2837],\n",
      "        [-0.7178,  0.1518, -0.5699,  0.4728]], requires_grad=True))\n",
      "('fc1.bias', Parameter containing:\n",
      "tensor([0.0516, 0.6684], requires_grad=True))\n",
      "('conv1.weight', Parameter containing:\n",
      "tensor([[[[-0.0832,  0.4119,  0.1832],\n",
      "          [-0.5452,  0.0539,  0.2199],\n",
      "          [-0.5741,  0.0414,  0.0974]]],\n",
      "\n",
      "\n",
      "        [[[ 0.2197, -0.0151,  0.0407],\n",
      "          [-0.2041, -0.0917, -0.1982],\n",
      "          [-0.2890, -0.3256, -0.2662]]],\n",
      "\n",
      "\n",
      "        [[[ 0.1168,  0.2864,  0.2823],\n",
      "          [-0.1341,  0.2854,  0.3061],\n",
      "          [-0.1146,  0.0585,  0.0758]]],\n",
      "\n",
      "\n",
      "        [[[ 0.0211,  0.0174, -0.0245],\n",
      "          [-0.1898, -0.1669, -0.1559],\n",
      "          [ 0.4160,  0.1505,  0.2371]]]], requires_grad=True))\n",
      "('conv1.bias', Parameter containing:\n",
      "tensor([-0.3109, -0.0148, -0.0940, -0.2151], requires_grad=True))\n",
      "('bn1.weight', Parameter containing:\n",
      "tensor([1.2947, 0.8936, 1.1793, 1.1613], requires_grad=True))\n",
      "('bn1.bias', Parameter containing:\n",
      "tensor([ 0.2254, -0.0773,  0.1196,  0.1541], requires_grad=True))\n",
      "('fc1.weight', Parameter containing:\n",
      "tensor([[ 0.7118, -0.2543,  0.3962, -0.3855],\n",
      "        [-0.7772,  0.1518, -0.6268,  0.5746]], requires_grad=True))\n",
      "('fc1.bias', Parameter containing:\n",
      "tensor([-0.0078,  0.7277], requires_grad=True))\n",
      "('conv1.weight', Parameter containing:\n",
      "tensor([[[[-0.1081,  0.3985,  0.1720],\n",
      "          [-0.5477,  0.0643,  0.2308],\n",
      "          [-0.5723,  0.0567,  0.1133]]],\n",
      "\n",
      "\n",
      "        [[[ 0.2197, -0.0151,  0.0407],\n",
      "          [-0.2041, -0.0917, -0.1982],\n",
      "          [-0.2890, -0.3256, -0.2662]]],\n",
      "\n",
      "\n",
      "        [[[ 0.1277,  0.3379,  0.3355],\n",
      "          [-0.2641,  0.1927,  0.2128],\n",
      "          [-0.0752,  0.1422,  0.1572]]],\n",
      "\n",
      "\n",
      "        [[[-0.0039,  0.0138, -0.0889],\n",
      "          [-0.1654, -0.1191, -0.1747],\n",
      "          [ 0.4334,  0.1916,  0.2172]]]], requires_grad=True))\n",
      "('conv1.bias', Parameter containing:\n",
      "tensor([-0.3109, -0.0148, -0.0940, -0.2151], requires_grad=True))\n",
      "('bn1.weight', Parameter containing:\n",
      "tensor([1.3490, 0.8936, 1.2035, 1.2353], requires_grad=True))\n",
      "('bn1.bias', Parameter containing:\n",
      "tensor([ 0.2859, -0.0773,  0.1190,  0.1743], requires_grad=True))\n",
      "('fc1.weight', Parameter containing:\n",
      "tensor([[ 0.7682, -0.2543,  0.4240, -0.4782],\n",
      "        [-0.8336,  0.1518, -0.6546,  0.6674]], requires_grad=True))\n",
      "('fc1.bias', Parameter containing:\n",
      "tensor([-0.0497,  0.7696], requires_grad=True))\n",
      "('conv1.weight', Parameter containing:\n",
      "tensor([[[[-0.1262,  0.3881,  0.1632],\n",
      "          [-0.5487,  0.0719,  0.2387],\n",
      "          [-0.5703,  0.0680,  0.1250]]],\n",
      "\n",
      "\n",
      "        [[[ 0.2197, -0.0151,  0.0407],\n",
      "          [-0.2041, -0.0917, -0.1982],\n",
      "          [-0.2890, -0.3256, -0.2662]]],\n",
      "\n",
      "\n",
      "        [[[ 0.1007,  0.3265,  0.3253],\n",
      "          [-0.2652,  0.2086,  0.2281],\n",
      "          [-0.0798,  0.1550,  0.1697]]],\n",
      "\n",
      "\n",
      "        [[[-0.0133, -0.0366, -0.0798],\n",
      "          [-0.1491, -0.1442, -0.1389],\n",
      "          [ 0.4449,  0.1632,  0.2535]]]], requires_grad=True))\n",
      "('conv1.bias', Parameter containing:\n",
      "tensor([-0.3109, -0.0148, -0.0940, -0.2151], requires_grad=True))\n",
      "('bn1.weight', Parameter containing:\n",
      "tensor([1.3923, 0.8936, 1.2301, 1.2874], requires_grad=True))\n",
      "('bn1.bias', Parameter containing:\n",
      "tensor([ 0.3330, -0.0773,  0.1507,  0.1848], requires_grad=True))\n",
      "('fc1.weight', Parameter containing:\n",
      "tensor([[ 0.8131, -0.2543,  0.4572, -0.5359],\n",
      "        [-0.8785,  0.1518, -0.6878,  0.7251]], requires_grad=True))\n",
      "('fc1.bias', Parameter containing:\n",
      "tensor([-0.0680,  0.7880], requires_grad=True))\n",
      "('conv1.weight', Parameter containing:\n",
      "tensor([[[[-0.1302,  0.3867,  0.1626],\n",
      "          [-0.5576,  0.0639,  0.2307],\n",
      "          [-0.5620,  0.0805,  0.1375]]],\n",
      "\n",
      "\n",
      "        [[[ 0.2197, -0.0151,  0.0407],\n",
      "          [-0.2041, -0.0917, -0.1982],\n",
      "          [-0.2890, -0.3256, -0.2662]]],\n",
      "\n",
      "\n",
      "        [[[ 0.0858,  0.3193,  0.3186],\n",
      "          [-0.2647,  0.2175,  0.2365],\n",
      "          [-0.0814,  0.1621,  0.1765]]],\n",
      "\n",
      "\n",
      "        [[[-0.0323, -0.0388, -0.0921],\n",
      "          [-0.1503, -0.1273, -0.1353],\n",
      "          [ 0.4405,  0.1775,  0.2578]]]], requires_grad=True))\n",
      "('conv1.bias', Parameter containing:\n",
      "tensor([-0.3109, -0.0148, -0.0940, -0.2151], requires_grad=True))\n",
      "('bn1.weight', Parameter containing:\n",
      "tensor([1.4215, 0.8936, 1.2478, 1.3328], requires_grad=True))\n",
      "('bn1.bias', Parameter containing:\n",
      "tensor([ 0.3544, -0.0773,  0.1706,  0.2055], requires_grad=True))\n",
      "('fc1.weight', Parameter containing:\n",
      "tensor([[ 0.8413, -0.2543,  0.4788, -0.5854],\n",
      "        [-0.9067,  0.1518, -0.7094,  0.7745]], requires_grad=True))\n",
      "('fc1.bias', Parameter containing:\n",
      "tensor([-0.0880,  0.8079], requires_grad=True))\n",
      "('conv1.weight', Parameter containing:\n",
      "tensor([[[[-0.1387,  0.3815,  0.1582],\n",
      "          [-0.5574,  0.0678,  0.2347],\n",
      "          [-0.5611,  0.0854,  0.1427]]],\n",
      "\n",
      "\n",
      "        [[[ 0.2197, -0.0151,  0.0407],\n",
      "          [-0.2041, -0.0917, -0.1982],\n",
      "          [-0.2890, -0.3256, -0.2662]]],\n",
      "\n",
      "\n",
      "        [[[ 0.0750,  0.3136,  0.3133],\n",
      "          [-0.2639,  0.2240,  0.2426],\n",
      "          [-0.0823,  0.1672,  0.1815]]],\n",
      "\n",
      "\n",
      "        [[[-0.0455, -0.0402, -0.1006],\n",
      "          [-0.1507, -0.1149, -0.1327],\n",
      "          [ 0.4365,  0.1870,  "
     ]
    },
    {
     "data": {
      "text/html": [
       "<b>limit_output extension: Maximum message size of 10000 exceeded with 11650 characters</b>"
      ]
     },
     "metadata": {},
     "output_type": "display_data"
    }
   ],
   "source": [
    "learning_rate = 1\n",
    "epochs = 10\n",
    "\n",
    "# СТУДЕНТАМ:\n",
    "# Сохраняйте историю эмпирического риска каждую эпоху в отдельном столбце \n",
    "# loss_history 'loss_custom'\n",
    "loss_history = pd.DataFrame(index=range(epochs), dtype=float)\n",
    "\n",
    "torch_grad_model = TorchGradientModel2()\n",
    "\n",
    "# СТУДЕНТАМ:\n",
    "# Используйте эти веса, чтобы инициализировать веса своей сети для точной \n",
    "# воспроизводимости результатов\n",
    "torch_model_params = []\n",
    "temp_m = copy.deepcopy(torch_grad_model)\n",
    "for param in temp_m.named_parameters():\n",
    "    if param[0] in ('conv1.weight', 'conv1.bias', 'fc1.weight', 'fc1.bias'):\n",
    "#         print(param)\n",
    "        torch_model_params.append(param[1].detach().clone())\n",
    "\n",
    "# СТУДЕНТАМ:\n",
    "# При реализации своих слоёв не забывайте делить получившиеся градиенты \n",
    "# по ошибкам на размер пакета (кол-во изображений для I-го слоя),\n",
    "# чтобы эмулировать поведение CrossEntropyLoss с параметром reduction='mean'\n",
    "ce = nn.CrossEntropyLoss(reduction='mean')\n",
    "\n",
    "# Для эксперимента используется самый простой оптимизатор. \n",
    "# При желании можете поэкспериментировать с другими, которые реализовали \n",
    "# для 1-го задания\n",
    "optimizer = torch.optim.SGD(torch_grad_model.parameters(), \n",
    "                            lr=learning_rate, momentum=0, dampening=0, \n",
    "                            weight_decay=0, nesterov=False)\n",
    "\n",
    "torch_grad_model.train()\n",
    "t = trange(epochs)\n",
    "loss_hist_pt = []\n",
    "for e in t:\n",
    "    predict_y = torch_grad_model(batch) # для обучения используем весь пакет\n",
    "    \n",
    "#     Можете выводить веса сети для прямого сравнения со своей реализацей, \n",
    "    for param in torch_grad_model.named_parameters():\n",
    "        print(param)\n",
    "\n",
    "    loss = ce(predict_y, labels)\n",
    "    loss_history.loc[e, 'loss_pt'] = loss.item()\n",
    "    \n",
    "    # Градиенты нужно обнулять в каждой эпохе\n",
    "    optimizer.zero_grad()\n",
    "    loss.backward()\n",
    "    \n",
    "    # Градиенты так же можно выводить в текстовом виде для оценки хода обучения\n",
    "#     print('Gradients')\n",
    "#     for param in torch_grad_model.named_parameters():\n",
    "#         print(param[0], param[1].grad)\n",
    "    \n",
    "    optimizer.step()\n",
    "    \n",
    "    train_acc = torch.sum(torch.argmax(predict_y, axis=1) == labels).item()\n",
    "\n",
    "    train_acc /= batch.shape[0]\n",
    "    t.set_postfix(loss=loss.item(), accuracy=train_acc)"
   ]
  },
  {
   "cell_type": "markdown",
   "id": "44aa3629",
   "metadata": {},
   "source": [
    "Найдём формулы для `backward()` при подаче на вход строчного вектора $\\vec{x}\\in R^{1\\times K}$. В [оригинальной статье](https://arxiv.org/pdf/1502.03167.pdf) на странице 4 есть все формулы для реализации backward pass. Сначала распишем, что мы вообще считаем в фазе тренировки:\n",
    "\n",
    "### Forward\n",
    "#### BatchNorm\n",
    "$$\n",
    "\\vec{\\widehat{x}} = \\frac{\\vec{x} - \\widehat{\\mu}}{\\sqrt{\\widehat{\\sigma}^2 + \\varepsilon}},\\\\\n",
    "\\vec{\\widehat{\\mu}} = \\frac{1}{N}\\sum\\limits_{i=1}^N \\vec{x}_i,\\ \\widehat{\\sigma} = \\frac{1}{N}\\sum\\limits_{i=1}^N \\big(\\vec{x} - \\vec{\\widehat{\\mu}}\\big)^2.\\\\\n",
    "$$\n",
    "#### Scaling\n",
    "$$\n",
    "x \\in \\mathbb{R}^{N \\times K},\n",
    "\\gamma \\in \\mathbb{R}^{1 \\times K},\n",
    "\\beta \\in \\mathbb{R}^{1 \\times K}, \\\\\n",
    "\\text{Scaling}(x) = \\gamma x + \\beta,\\ \n",
    "\\text{Scaling}(x) \\in \\mathbb{R}^{N \\times K}\n",
    "$$\n",
    "где $\\gamma$ и $\\beta$ &mdash; обучаемые параметры слоя.\n",
    "\n",
    "### Backward\n",
    "Теперь уже займёмся градиентами:\n",
    "#### BatchNorm\n",
    "$$\n",
    "\\frac{\\partial \\widehat{x}_i}{\\partial x_i} = \\frac{1}{\\sqrt{\\sigma^2 + \\varepsilon}},\n",
    "\\\\\n",
    "\\frac{\\partial \\mu}{\\partial x_i} = \\frac{1}{N},\n",
    "\\\\\n",
    "\\frac{\\partial \\sigma^2}{\\partial x_i} = \\frac{2(x_i - \\mu)}{N},\n",
    "\\\\\n",
    "\\frac{\\partial L}{\\partial \\mu} = \\sum\\limits_{i=1}^N \\frac{\\partial L}{\\partial \\widehat{x}_i} \\frac{-1}{\\sqrt{\\sigma^2 + \\varepsilon}}, \n",
    "\\\\\n",
    "\\frac{\\partial L}{\\partial \\sigma^2} = \\sum_{i=1}^N\\frac{\\partial L}{\\partial \\widehat{x}_i}\\cdot\\bigg(-0.5(x_i - \\mu)(\\sigma^2 + \\varepsilon)^{-3/2}\\bigg),\n",
    "\\\\\n",
    "\\frac{\\partial L}{\\partial x_j} = \\frac{\\partial L}{\\partial \\widehat{x}_j} \\cdot \\frac{1}{\\sqrt{\\sigma^2 + \\varepsilon}} + \\frac{\\partial L}{\\partial \\mu} \\cdot \\frac{1}{N} + \\frac{\\partial L}{\\partial \\sigma^2} \\cdot \\frac{2(x_i - \\mu)}{N}.\n",
    "% \\\\= \\frac{1}{N \\sqrt{\\sigma^2 + \\varepsilon}} \\bigg(N \\frac{\\partial L}{\\partial \\widehat{x}_j} - \\sum\\limits_{i=1}^N \\frac{\\partial L}{\\partial \\widehat{x}_j} - \\widehat{x}_i \\sum\\limits_{i=1}^N \\frac{\\partial L}{\\partial \\widehat{x}_j}\\cdot \\widehat{x}_j\\bigg).\n",
    "$$\n",
    "#### Scaling\n",
    "$$\n",
    "\\frac{\\partial L}{\\partial \\widehat{x}_i} = \\sum_{i=1}^N \\frac{\\partial L}{\\partial y_i} \\gamma, \\\\\n",
    "\\frac{\\partial L}{\\partial \\gamma} = \\sum_{i=1}^N \\frac{\\partial L}{\\partial y_i} \\widehat{x}_i, \\\\\n",
    "\\frac{\\partial L}{\\partial \\beta} = \\sum_{i=1}^N \\frac{\\partial L}{\\partial y_i}.\n",
    "$$"
   ]
  },
  {
   "cell_type": "code",
   "execution_count": null,
   "id": "f1114bb1",
   "metadata": {},
   "outputs": [],
   "source": [
    "from Task2Modules.OtherLayers import BatchNorm"
   ]
  },
  {
   "cell_type": "markdown",
   "id": "8c4d9137",
   "metadata": {},
   "source": [
    "Теперь разберёмся с average pooling. Если расписать на листочке для простых примеров формулы, то становится понятно, что `backward()` очень похож на `backward()` в свёрточном слое, только теперь нет параметров (то есть не нужно считать градиент по параметрам), все значения фильтра одинаковые (то есть вращать ничего не надо), паддинга нет (то есть не надо делать дополнительные расширения границ). Таким образом, из преобразований остаётся только раздвижение строк и столбцов друг от друга на `self.s - 1` с помощью функции `delate()`."
   ]
  },
  {
   "cell_type": "code",
   "execution_count": 20,
   "id": "8983315a",
   "metadata": {
    "ExecuteTime": {
     "end_time": "2021-05-11T07:20:09.652500Z",
     "start_time": "2021-05-11T07:20:09.638285Z"
    }
   },
   "outputs": [
    {
     "ename": "ImportError",
     "evalue": "cannot import name 'AvgPool' from 'Task2Modules.CNN' (/home/topcoder2k/CodeProjects/PythonProjects/scidev-TopCoder2K/Task2Modules/CNN.py)",
     "output_type": "error",
     "traceback": [
      "\u001b[0;31m---------------------------------------------------------------------------\u001b[0m",
      "\u001b[0;31mImportError\u001b[0m                               Traceback (most recent call last)",
      "\u001b[0;32m<ipython-input-20-c59f480ab90d>\u001b[0m in \u001b[0;36m<module>\u001b[0;34m\u001b[0m\n\u001b[0;32m----> 1\u001b[0;31m \u001b[0;32mfrom\u001b[0m \u001b[0mTask2Modules\u001b[0m\u001b[0;34m.\u001b[0m\u001b[0mCNN\u001b[0m \u001b[0;32mimport\u001b[0m \u001b[0mAvgPool\u001b[0m\u001b[0;34m\u001b[0m\u001b[0;34m\u001b[0m\u001b[0m\n\u001b[0m",
      "\u001b[0;31mImportError\u001b[0m: cannot import name 'AvgPool' from 'Task2Modules.CNN' (/home/topcoder2k/CodeProjects/PythonProjects/scidev-TopCoder2K/Task2Modules/CNN.py)"
     ]
    }
   ],
   "source": [
    "from Task2Modules.CNN import AvgPool"
   ]
  },
  {
   "cell_type": "code",
   "execution_count": null,
   "id": "dc77309d-ad2e-46e8-9ffd-4e157006ea21",
   "metadata": {},
   "outputs": [],
   "source": [
    "from Task2Modules.CustomModels import CustomModel2"
   ]
  },
  {
   "cell_type": "code",
   "execution_count": null,
   "id": "c651e71c-2a12-45c6-8f05-32c23fca32c8",
   "metadata": {},
   "outputs": [],
   "source": [
    "def train_custom_model2(X, y, epochs, num_classes):\n",
    "    y = one_hot_encoding(labels, num_classes) # преобразуем число в эталоне в унитарный код.\n",
    "    \n",
    "    model = CustomModel2(input_size = X.shape[-1], num_classes=num_classes)\n",
    "    cost = CrossEntropyLoss()\n",
    "    \n",
    "    params = model.get_params()\n",
    "\n",
    "    optimizer = SGD(lr = learning_rate, params = model.get_params())      \n",
    "\n",
    "    t = trange(epochs)\n",
    "    \n",
    "    for e in t:\n",
    "        train_loss = 0\n",
    "        train_acc = 0 \n",
    "  \n",
    "        y_pred = model.forward(X)\n",
    "        loss, deltaL = cost.get(y_pred, y)\n",
    "        grads = model.backward(deltaL)\n",
    "        params = optimizer.update_params(grads)\n",
    "        model.set_params(params)\n",
    "\n",
    "        train_loss += loss.item()\n",
    "        train_acc = torch.sum(torch.argmax(predict_y, axis=1) == labels).item() / X.shape[0]\n",
    "        \n",
    "        loss_history.loc[e, 'loss_custom'] = train_loss\n",
    "        t.set_postfix(loss=train_loss, acc=train_acc)"
   ]
  },
  {
   "cell_type": "code",
   "execution_count": null,
   "id": "b7053a57-ae3b-4f05-a73a-7d8b28079479",
   "metadata": {},
   "outputs": [],
   "source": [
    "train_custom_model2(batch, labels, epochs, num_classes=2)"
   ]
  },
  {
   "cell_type": "code",
   "execution_count": null,
   "id": "cb2d4eb9-b1ed-4919-8d37-98f12cbae3cc",
   "metadata": {},
   "outputs": [],
   "source": [
    "f = plt.figure()\n",
    "plt.title('Task 2 train loss', color='black')\n",
    "loss_history.plot(ax=f.gca())\n",
    "plt.legend(loc='center left', bbox_to_anchor=(1.0, 0.5))\n",
    "plt.show()"
   ]
  },
  {
   "cell_type": "code",
   "execution_count": null,
   "id": "62df2684-a0a0-4025-8713-01e696c4827c",
   "metadata": {},
   "outputs": [],
   "source": [
    "# Эмпирический риск на всех эпохах должен совпадать с реализацией PyTorch\n",
    "error = np.absolute((loss_history.iloc[:,0].values-loss_history.iloc[:,1].values)).sum()\n",
    "if error < 1e-3:\n",
    "    print('Задание 2 выполнено успешно')\n",
    "else:\n",
    "    print('Задание 2 не выполнено. Эмпирический риск не совпадает в реализациях PyTorch и собственной')\n",
    "print(f'Суммарная ошибка = {error:.4f}')\n",
    "loss_history_task2 = loss_history"
   ]
  },
  {
   "cell_type": "markdown",
   "id": "930cb689-abb1-458f-b851-046583c29220",
   "metadata": {},
   "source": [
    "### Задание 3"
   ]
  },
  {
   "cell_type": "markdown",
   "id": "71114630-0f89-4b70-8c7c-cbe5091f0440",
   "metadata": {},
   "source": [
    "Обучить ранее реализованную сеть **CustomModel2** на реальных данных из выборки digits."
   ]
  },
  {
   "cell_type": "code",
   "execution_count": null,
   "id": "6f96e6f0-3d16-4656-aaf9-299c5cd423a1",
   "metadata": {},
   "outputs": [],
   "source": [
    "from sklearn import preprocessing\n",
    "from sklearn.datasets import load_digits\n",
    "from sklearn.model_selection import train_test_split\n",
    "import torchvision"
   ]
  },
  {
   "cell_type": "code",
   "execution_count": null,
   "id": "154aa79a-730a-4b53-9a6d-7769e5ab164c",
   "metadata": {},
   "outputs": [],
   "source": [
    "def get_data_numbers():\n",
    "    # Загружаем выборку digits\n",
    "    digits = load_digits(n_class=10, return_X_y=False, as_frame=False)\n",
    "\n",
    "    # ПРОВЕСТИ НЕОБХОДИМЫЕ ПРЕОБРАЗОВАНИЯ\n",
    "    \n",
    "    return train_x, train_label, val_x, val_label"
   ]
  },
  {
   "cell_type": "code",
   "execution_count": null,
   "id": "59e861b8-49e4-4800-872a-c8ac7ee4093b",
   "metadata": {},
   "outputs": [],
   "source": [
    "train_x, train_label, val_x, val_label = get_data_numbers()"
   ]
  },
  {
   "cell_type": "code",
   "execution_count": null,
   "id": "4766a8b7-dc86-4572-baa0-ecf80dec5499",
   "metadata": {},
   "outputs": [],
   "source": [
    "learning_rate = 1\n",
    "epochs = 10\n",
    "num_classes = 10\n",
    "\n",
    "# СТУДЕНТАМ:\n",
    "# Сохраняйте историю эмпирического риска каждую эпоху в отдельном столбце loss_history 'loss_custom'\n",
    "loss_history = pd.DataFrame(index=range(epochs), dtype=float)\n",
    "\n",
    "torch_grad_model = TorchGradientModel2(num_classes, input_size=8)\n",
    "\n",
    "# СТУДЕНТАМ:\n",
    "# Используйте эти веса, чтобы инициализировать веса своей сети для точной воспроизводимости результатов\n",
    "torch_model_params = []\n",
    "temp_m = copy.deepcopy(torch_grad_model)\n",
    "for param in temp_m.named_parameters():\n",
    "    if param[0] in ('conv1.weight', 'conv1.bias', 'fc1.weight', 'fc1.bias'):\n",
    "#         print(param)\n",
    "        torch_model_params.append(param[1].clone().detach())\n",
    "\n",
    "# СТУДЕНТАМ:\n",
    "# При реализации своих слоёв не забывайте делить получившиеся градиенты по ошибкам на размер пакета (кол-во изображений для I-го слоя),\n",
    "# чтобы эмулировать поведение CrossEntropyLoss с параметром reduction='mean'\n",
    "ce = nn.CrossEntropyLoss(reduction='mean')\n",
    "\n",
    "# Для эксперимента используется самый простой оптимизатор. При желании можете поэкспериментировать с другими, которые реализовали для 1-го задания\n",
    "optimizer = torch.optim.SGD(torch_grad_model.parameters(), lr=learning_rate, momentum=0, dampening=0, weight_decay=0, nesterov=False)\n",
    "\n",
    "torch_grad_model.train()\n",
    "t = trange(epochs)\n",
    "loss_hist_pt = []\n",
    "for e in t:\n",
    "    predict_y = torch_grad_model(train_x[0:10]) # для обучения используем весь пакет\n",
    "    \n",
    "#     Можете выводить веса сети для прямого сравнения со своей реализацей, \n",
    "#     for param in torch_grad_model.named_parameters():\n",
    "#         print(param)\n",
    "\n",
    "    loss = ce(predict_y, train_label[0:10])\n",
    "    loss_history.loc[e, 'loss_train_pt'] = loss.item()\n",
    "    \n",
    "    # Градиенты нужно обнулять в каждой эпохе\n",
    "    optimizer.zero_grad()\n",
    "    loss.backward()\n",
    "    \n",
    "    # Градиенты так же можно выводить в текстовом виде для оценки хода обучения\n",
    "#     print('Gradients')\n",
    "#     for param in torch_grad_model.named_parameters():\n",
    "#         print(param[0], param[1].grad)\n",
    "    \n",
    "    optimizer.step()\n",
    "    \n",
    "    train_acc = torch.sum(torch.argmax(predict_y, axis=1) == train_label[0:10]).item()\n",
    "\n",
    "    train_acc /= train_x[0:10].shape[0]\n",
    "    t.set_postfix(loss=loss.item(), accuracy=train_acc)"
   ]
  },
  {
   "cell_type": "code",
   "execution_count": null,
   "id": "d123a514-c557-44f2-baed-77f6b4adf59d",
   "metadata": {},
   "outputs": [],
   "source": [
    "def train_model(epochs, learning_rate, loss_history, train_x, train_label, val_x, val_label):\n",
    "    raise NotImplementedError"
   ]
  },
  {
   "cell_type": "code",
   "execution_count": null,
   "id": "b3e12010-8508-4c62-bf6d-e26cb66c62f0",
   "metadata": {},
   "outputs": [],
   "source": [
    "# loss_history = pd.DataFrame(index=range(epochs), dtype=float)\n",
    "train_model(epochs, learning_rate, loss_history, train_x[0:10], train_label[0:10], val_x[0:10], val_label[0:10])\n",
    "\n",
    "f = plt.figure()\n",
    "plt.title('Task 2 train loss', color='black')\n",
    "loss_history.plot(ax=f.gca())\n",
    "plt.legend(loc='center left', bbox_to_anchor=(1.0, 0.5))\n",
    "plt.show()"
   ]
  },
  {
   "cell_type": "code",
   "execution_count": null,
   "id": "1603aeed-717d-4d6e-ad07-a652a284e3fd",
   "metadata": {},
   "outputs": [],
   "source": [
    "# Эмпирический риск на всех эпохах должен совпадать с реализацией PyTorch\n",
    "error = np.absolute(loss_history[['loss_train_custom']].to_numpy()-loss_history[['loss_train_pt']].to_numpy()).sum()\n",
    "if error < 1e-3:\n",
    "    print('Задание 3 выполнено успешно')\n",
    "else:\n",
    "    print('Задание 3 не выполнено. Эмпирический риск не совпадает в реализациях PyTorch и собственной')\n",
    "print(f'Суммарная ошибка = {error:.4f}')\n",
    "loss_history_task2 = loss_history"
   ]
  },
  {
   "cell_type": "markdown",
   "id": "4a740226-459e-46c6-92ab-c38dac6c3468",
   "metadata": {},
   "source": [
    "### Необязательное задание\n",
    "Создать свою архитектуру свёрточной сети и обучиться на полной выборке digits, получив высокое качество классификации. Сравнить скорость и финальное качество обучения при применении разных алгоритмов обучения (SGD с моментом, Adam), регуляризации весов."
   ]
  },
  {
   "cell_type": "code",
   "execution_count": null,
   "id": "a3ac56e4-981f-46b3-9ffd-54e63054f8f8",
   "metadata": {},
   "outputs": [],
   "source": []
  }
 ],
 "metadata": {
  "hide_input": false,
  "kernelspec": {
   "display_name": "Python 3",
   "language": "python",
   "name": "python3"
  },
  "language_info": {
   "codemirror_mode": {
    "name": "ipython",
    "version": 3
   },
   "file_extension": ".py",
   "mimetype": "text/x-python",
   "name": "python",
   "nbconvert_exporter": "python",
   "pygments_lexer": "ipython3",
   "version": "3.7.6"
  }
 },
 "nbformat": 4,
 "nbformat_minor": 5
}
